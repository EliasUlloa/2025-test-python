{
  "nbformat": 4,
  "nbformat_minor": 0,
  "metadata": {
    "colab": {
      "provenance": []
    },
    "kernelspec": {
      "name": "python3",
      "display_name": "Python 3"
    },
    "language_info": {
      "name": "python"
    }
  },
  "cells": [
    {
      "cell_type": "markdown",
      "source": [
        "## [1] Recorrer una lista en Python"
      ],
      "metadata": {
        "id": "MD4emPFaL0p6"
      }
    },
    {
      "cell_type": "code",
      "execution_count": null,
      "metadata": {
        "id": "D8mSGH6KLL_l"
      },
      "outputs": [],
      "source": [
        "librerias = ['numpy','pandas','scipy','matplotlib','scikit learn']"
      ]
    },
    {
      "cell_type": "code",
      "source": [
        "print(f\"Los elementos de la lista librerias son \\n{librerias}\")"
      ],
      "metadata": {
        "id": "oHnqo8bEL3JP"
      },
      "execution_count": null,
      "outputs": []
    },
    {
      "cell_type": "code",
      "source": [
        "type(librerias)"
      ],
      "metadata": {
        "id": "Psqhco3ashR0"
      },
      "execution_count": null,
      "outputs": []
    },
    {
      "cell_type": "code",
      "source": [
        "for libreria in librerias:\n",
        "  print(libreria)"
      ],
      "metadata": {
        "id": "2M0sHbWgMHN7"
      },
      "execution_count": null,
      "outputs": []
    },
    {
      "cell_type": "markdown",
      "source": [
        "### Actividad N016"
      ],
      "metadata": {
        "id": "R8ZIY17-MQqA"
      }
    },
    {
      "cell_type": "code",
      "source": [],
      "metadata": {
        "id": "8M9HBSKOMLgH"
      },
      "execution_count": null,
      "outputs": []
    },
    {
      "cell_type": "markdown",
      "source": [
        "## [2] Realizar una acción después del bucle"
      ],
      "metadata": {
        "id": "mI8P28IGMe5e"
      }
    },
    {
      "cell_type": "code",
      "source": [
        "productos = ['aceite','arroz','agua','carne','pollo']"
      ],
      "metadata": {
        "id": "Ubh6rpUnMaYT"
      },
      "execution_count": null,
      "outputs": []
    },
    {
      "cell_type": "code",
      "source": [
        "print(\"Mi lista habitual en el supermercado es\")\n",
        "for producto in productos:\n",
        "  print('-',producto)\n",
        "print(\"Mi presupuesto principalmente se basa en esta lista\")"
      ],
      "metadata": {
        "id": "3jqWsTTVMvj4"
      },
      "execution_count": null,
      "outputs": []
    },
    {
      "cell_type": "markdown",
      "source": [
        "### Actividad N017"
      ],
      "metadata": {
        "id": "aW6MbEPqNGZe"
      }
    },
    {
      "cell_type": "code",
      "source": [],
      "metadata": {
        "id": "2mWHMqd9M_5c"
      },
      "execution_count": null,
      "outputs": []
    },
    {
      "cell_type": "markdown",
      "source": [
        "## [3] Problemas con identación y dos puntos"
      ],
      "metadata": {
        "id": "IZVy2ddcNULO"
      }
    },
    {
      "cell_type": "markdown",
      "source": [
        "### Olvidamos la identación"
      ],
      "metadata": {
        "id": "A_88Du1_NpC5"
      }
    },
    {
      "cell_type": "code",
      "source": [
        "print(\"En Python las librerías más populares son\")\n",
        "for libreria in librerias:\n",
        "print(\"-\",libreria)"
      ],
      "metadata": {
        "id": "tbJzYa-7NONP"
      },
      "execution_count": null,
      "outputs": []
    },
    {
      "cell_type": "markdown",
      "source": [
        "### Usamos la identación de manera innecesaria"
      ],
      "metadata": {
        "id": "OPt53QvUNtIZ"
      }
    },
    {
      "cell_type": "code",
      "source": [
        "print(\"En Python las librerías más populares son\")\n",
        "for libreria in librerias:\n",
        "  print(\"-\",libreria)\n",
        "  print(\"Tengo experiencia profesional trabajando con todas ellas\")"
      ],
      "metadata": {
        "id": "OUHG8ch-NhzH"
      },
      "execution_count": null,
      "outputs": []
    },
    {
      "cell_type": "markdown",
      "source": [
        "### Olvidamos los dos puntos"
      ],
      "metadata": {
        "id": "kE584601OE7l"
      }
    },
    {
      "cell_type": "code",
      "source": [
        "print(\"En Python las librerías más populares son\")\n",
        "for libreria in librerias\n",
        "  print(\"-\",libreria)\n",
        "print(\"Tengo experiencia profesional trabajando con todas ellas\")"
      ],
      "metadata": {
        "id": "u5lNRDnJN5wm"
      },
      "execution_count": null,
      "outputs": []
    },
    {
      "cell_type": "markdown",
      "source": [
        "### Actividad N018"
      ],
      "metadata": {
        "id": "zn72L7ycOStz"
      }
    },
    {
      "cell_type": "code",
      "source": [],
      "metadata": {
        "id": "7Onf7aj0OUWW"
      },
      "execution_count": null,
      "outputs": []
    },
    {
      "cell_type": "markdown",
      "source": [
        "## [2] Función RANGE"
      ],
      "metadata": {
        "id": "p0MaGjRGOZgU"
      }
    },
    {
      "cell_type": "code",
      "source": [
        "range(1,5)"
      ],
      "metadata": {
        "id": "Q8VFXc-AOXm5"
      },
      "execution_count": null,
      "outputs": []
    },
    {
      "cell_type": "code",
      "source": [
        "for valor in range(1,5):\n",
        "  print(valor)"
      ],
      "metadata": {
        "id": "W1KbWORTOgo9"
      },
      "execution_count": null,
      "outputs": []
    },
    {
      "cell_type": "markdown",
      "source": [
        "## [3] Crear una lista usando la función RANGE"
      ],
      "metadata": {
        "id": "qjKgyikIOqWQ"
      }
    },
    {
      "cell_type": "code",
      "source": [
        "numeros = list(range(1,11))"
      ],
      "metadata": {
        "id": "BJ9nwe27Oj8t"
      },
      "execution_count": null,
      "outputs": []
    },
    {
      "cell_type": "code",
      "source": [
        "print(f\"La lista numeros contiene los siguientes elementos \\n{numeros}\")"
      ],
      "metadata": {
        "id": "NoBvB3ddO9WL"
      },
      "execution_count": null,
      "outputs": []
    },
    {
      "cell_type": "code",
      "source": [
        "type(numeros)"
      ],
      "metadata": {
        "id": "NMfmCSRWPDFA"
      },
      "execution_count": null,
      "outputs": []
    },
    {
      "cell_type": "code",
      "source": [
        "for valor in numeros:\n",
        "  print(valor)"
      ],
      "metadata": {
        "id": "R7a7UfsqzsGY"
      },
      "execution_count": null,
      "outputs": []
    },
    {
      "cell_type": "markdown",
      "source": [
        "### Actividad N019"
      ],
      "metadata": {
        "id": "4CdtcPKoPIQv"
      }
    },
    {
      "cell_type": "code",
      "source": [],
      "metadata": {
        "id": "3diMOYkBPHGp"
      },
      "execution_count": null,
      "outputs": []
    },
    {
      "cell_type": "markdown",
      "source": [
        "## [4] Crear una lista en función de otra lista"
      ],
      "metadata": {
        "id": "kjTuXQfbPiyW"
      }
    },
    {
      "cell_type": "code",
      "source": [
        "cuadrados = [] # lista vacía\n",
        "for par in pares:\n",
        "  cuadrado = par**2\n",
        "  cuadrados.append(cuadrado)\n",
        "print(f\"La lista pares contiene los elementos \\n{pares}\")\n",
        "print(f\"\\nLa lista cuadrados contiene los elementos \\n{cuadrados}\")"
      ],
      "metadata": {
        "id": "zYuLtoPCPfRa"
      },
      "execution_count": null,
      "outputs": []
    },
    {
      "cell_type": "markdown",
      "source": [
        "## [5] Calcular estadísticas a partir de una lista"
      ],
      "metadata": {
        "id": "L6H83fgtQJva"
      }
    },
    {
      "cell_type": "code",
      "source": [
        "print(f\"El valor mínimo de la lista cuadrados es {min(cuadrados)}\")"
      ],
      "metadata": {
        "id": "FjefhDc3P1Lz"
      },
      "execution_count": null,
      "outputs": []
    },
    {
      "cell_type": "code",
      "source": [
        "print(f\"El valor máximo de la lista cuadrados es {max(cuadrados)}\")"
      ],
      "metadata": {
        "id": "h2Q8zEjCQUF4"
      },
      "execution_count": null,
      "outputs": []
    },
    {
      "cell_type": "code",
      "source": [
        "print(f\"La suma de los valores de la lista cuadrados es {sum(cuadrados)}\")"
      ],
      "metadata": {
        "id": "RQmQj9xuQW9m"
      },
      "execution_count": null,
      "outputs": []
    },
    {
      "cell_type": "code",
      "source": [
        "print(f\"El promedio de los valores de la lista cuadrados es {sum(cuadrados)/len(cuadrados)}\")"
      ],
      "metadata": {
        "id": "Nv2IMNtMQbaR"
      },
      "execution_count": null,
      "outputs": []
    },
    {
      "cell_type": "markdown",
      "source": [
        "## [6] Comprensión de listas"
      ],
      "metadata": {
        "id": "M5GhhcB2QqaS"
      }
    },
    {
      "cell_type": "code",
      "source": [
        "cuadrados_ = [par**2 for par in pares]"
      ],
      "metadata": {
        "id": "yILWEw6hQjO3"
      },
      "execution_count": null,
      "outputs": []
    },
    {
      "cell_type": "code",
      "source": [
        "print(f\"La lista pares contiene los elementos \\n{pares}\")\n",
        "print(f\"\\nLa lista cuadrados contiene los elementos \\n{cuadrados_}\")"
      ],
      "metadata": {
        "id": "4dWHFsmTQ01v"
      },
      "execution_count": null,
      "outputs": []
    },
    {
      "cell_type": "markdown",
      "source": [
        "### Actividad N020"
      ],
      "metadata": {
        "id": "c0IKdY8qRFtw"
      }
    },
    {
      "cell_type": "markdown",
      "source": [
        "Crear una lista de valores numéricos que sean correlativos, inicien en 10 y acaben en 20 (correlativos)."
      ],
      "metadata": {
        "id": "g8kO8QOdOm2J"
      }
    },
    {
      "cell_type": "code",
      "source": [],
      "metadata": {
        "id": "zY7Z2YCUQ9p9"
      },
      "execution_count": null,
      "outputs": []
    },
    {
      "cell_type": "markdown",
      "source": [
        "A cada valor de la lista (correlativos) sumarle 5 y almacenarlo en otra lista llamada **correlativosn**, mostrar los resultados en pantalla, use comprensión de listas"
      ],
      "metadata": {
        "id": "77otqFxXOxcG"
      }
    },
    {
      "cell_type": "code",
      "source": [
        "# Sin comprensión\n"
      ],
      "metadata": {
        "id": "d36Dnb7JQAcP"
      },
      "execution_count": null,
      "outputs": []
    },
    {
      "cell_type": "code",
      "source": [
        "# Con comprensión\n"
      ],
      "metadata": {
        "id": "BgAFiXh9Q6fH"
      },
      "execution_count": null,
      "outputs": []
    },
    {
      "cell_type": "markdown",
      "source": [
        "## [7] Acceder a más de un elemento de la lista"
      ],
      "metadata": {
        "id": "NRl9ZEmZRMyj"
      }
    },
    {
      "cell_type": "code",
      "source": [
        "print(f\"Los elementos de la lista librerias son \\n{librerias}\")"
      ],
      "metadata": {
        "id": "ooOaZzSlRJx4"
      },
      "execution_count": null,
      "outputs": []
    },
    {
      "cell_type": "code",
      "source": [
        "librerias[1:3]"
      ],
      "metadata": {
        "id": "C4uMCrKmRX07"
      },
      "execution_count": null,
      "outputs": []
    },
    {
      "cell_type": "code",
      "source": [
        "librerias[0:3]"
      ],
      "metadata": {
        "id": "6LpdSmUVRefl"
      },
      "execution_count": null,
      "outputs": []
    },
    {
      "cell_type": "code",
      "source": [
        "librerias[:3]"
      ],
      "metadata": {
        "id": "uSJZAu2uRh1H"
      },
      "execution_count": null,
      "outputs": []
    },
    {
      "cell_type": "code",
      "source": [
        "librerias[3:5]"
      ],
      "metadata": {
        "id": "NXjQUYiURjR1"
      },
      "execution_count": null,
      "outputs": []
    },
    {
      "cell_type": "code",
      "source": [
        "librerias[3:]"
      ],
      "metadata": {
        "id": "OOzBP1nbRnPW"
      },
      "execution_count": null,
      "outputs": []
    },
    {
      "cell_type": "markdown",
      "source": [
        "### Actividad N021"
      ],
      "metadata": {
        "id": "PiGCrXKRRuCc"
      }
    },
    {
      "cell_type": "code",
      "source": [],
      "metadata": {
        "id": "M-J8B0Z6Rpb0"
      },
      "execution_count": null,
      "outputs": []
    },
    {
      "cell_type": "markdown",
      "source": [
        "## [8] Copiar una lista"
      ],
      "metadata": {
        "id": "_V71W0HcR35w"
      }
    },
    {
      "cell_type": "code",
      "source": [
        "print(f\"La lista librerias contiene los elementos \\n{librerias}\")"
      ],
      "metadata": {
        "id": "fGMsX6P7R0i8"
      },
      "execution_count": null,
      "outputs": []
    },
    {
      "cell_type": "code",
      "source": [
        "herramientas = librerias[:]"
      ],
      "metadata": {
        "id": "G27YO4BZSBZC"
      },
      "execution_count": null,
      "outputs": []
    },
    {
      "cell_type": "code",
      "source": [
        "librerias.append('re')"
      ],
      "metadata": {
        "id": "5GVRvm6HSFk4"
      },
      "execution_count": null,
      "outputs": []
    },
    {
      "cell_type": "code",
      "source": [
        "herramientas.append('sqlAlchemy')"
      ],
      "metadata": {
        "id": "QKZkMz2NSHiA"
      },
      "execution_count": null,
      "outputs": []
    },
    {
      "cell_type": "code",
      "source": [
        "print(f\"La lista librerias contiene los elementos \\n{librerias}\")"
      ],
      "metadata": {
        "id": "NwdYAgaKSLS6"
      },
      "execution_count": null,
      "outputs": []
    },
    {
      "cell_type": "code",
      "source": [
        "print(f\"La lista herramientas contiene los elementos \\n{herramientas}\")"
      ],
      "metadata": {
        "id": "c9smWBJFSNPK"
      },
      "execution_count": null,
      "outputs": []
    },
    {
      "cell_type": "code",
      "source": [
        "estudios = universidades[:]"
      ],
      "metadata": {
        "id": "MQFjW5zLSQjy"
      },
      "execution_count": null,
      "outputs": []
    },
    {
      "cell_type": "code",
      "source": [
        "universidades.append('harvard')\n",
        "estudios.append('mit')"
      ],
      "metadata": {
        "id": "sgBlOI-hXQjR"
      },
      "execution_count": null,
      "outputs": []
    },
    {
      "cell_type": "code",
      "source": [
        "print(f\"La lista universidades contiene los elementos \\n{universidades}\")"
      ],
      "metadata": {
        "id": "o2SAxcULXWQb"
      },
      "execution_count": null,
      "outputs": []
    },
    {
      "cell_type": "code",
      "source": [
        "print(f\"La lista universidades contiene los elementos \\n{estudios}\")"
      ],
      "metadata": {
        "id": "edJ9w2RwXcSA"
      },
      "execution_count": null,
      "outputs": []
    },
    {
      "cell_type": "markdown",
      "source": [
        "## Retos"
      ],
      "metadata": {
        "id": "PcNX4Ng1bfam"
      }
    },
    {
      "cell_type": "markdown",
      "source": [
        "### Reto 001"
      ],
      "metadata": {
        "id": "Ji6KVee8bh-H"
      }
    },
    {
      "cell_type": "markdown",
      "source": [
        "\n",
        "*   1.1. Crear una lista que inicie en el número 12 y acabe en el número 200, en su construcción se considere saltos de 2 en 2, guarde la lista con el nombre \"lista_x\".\n",
        "*  1.2. Con la lista_x, eliminar el primer y el último valor, los valores eliminados se deberán almacenar en otra lista llamada numeros_eliminados.\n",
        "*  1.3. Muestre los valores de la lista numeros_eliminados.\n",
        "*  1.4. Muestre los valores mínimos y máximos de la lista_x.\n"
      ],
      "metadata": {
        "id": "5EpEozhKbk1e"
      }
    },
    {
      "cell_type": "markdown",
      "source": [
        "### Reto N002"
      ],
      "metadata": {
        "id": "qEwEV_6re2nR"
      }
    },
    {
      "cell_type": "markdown",
      "source": [
        "\n",
        "* 2.1. Determine el número de elementos de la lista a crear.\n",
        "* 2.2. Ingrese los valores de la lista a crear.\n",
        "* 2.3. Almacene los valores en una lista.\n",
        "* 2.4. Muestre los valores de la lista.\n",
        "* 2.5. Calcule y muestre los valores mínimo, máximo y promedio de los valores de la lista.\n",
        "\n",
        "\n",
        "\n",
        "\n"
      ],
      "metadata": {
        "id": "It9BPXLrf6Wn"
      }
    },
    {
      "cell_type": "markdown",
      "source": [
        "## Reto N003"
      ],
      "metadata": {
        "id": "OqUh2fqBk1-J"
      }
    },
    {
      "cell_type": "markdown",
      "source": [
        "\n",
        "*   3.1. Ingrese a python la siguiente lista_x = [\"A\", \"B\", \"b\", \"c\", \"E\", \"E\", \"f\"]\n",
        "*   3.2. Solicitar al usuario un elemento a eliminar.\n",
        "*   3.3. Mostrar el elemento eliminado y la lista resultante.\n",
        "\n",
        "\n",
        "\n",
        "\n",
        "\n",
        "\n",
        "\n"
      ],
      "metadata": {
        "id": "3rh6BpE7k4y0"
      }
    },
    {
      "cell_type": "code",
      "source": [],
      "metadata": {
        "id": "40uprGAhnjg6"
      },
      "execution_count": null,
      "outputs": []
    }
  ]
}