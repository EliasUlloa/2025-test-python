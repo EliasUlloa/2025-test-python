{
  "nbformat": 4,
  "nbformat_minor": 0,
  "metadata": {
    "colab": {
      "provenance": [],
      "include_colab_link": true
    },
    "kernelspec": {
      "name": "python3",
      "display_name": "Python 3"
    },
    "language_info": {
      "name": "python"
    }
  },
  "cells": [
    {
      "cell_type": "markdown",
      "metadata": {
        "id": "view-in-github",
        "colab_type": "text"
      },
      "source": [
        "<a href=\"https://colab.research.google.com/github/EliasUlloa/2025-test-python/blob/main/Trabajo_calificado_sep25.ipynb\" target=\"_parent\"><img src=\"https://colab.research.google.com/assets/colab-badge.svg\" alt=\"Open In Colab\"/></a>"
      ]
    },
    {
      "cell_type": "markdown",
      "source": [
        "**Trabajo Calificado de Cierre – Python aplicado a la Agroindustria**"
      ],
      "metadata": {
        "id": "YHmrZzcJ1UPK"
      }
    },
    {
      "cell_type": "markdown",
      "source": [
        "La empresa AgroAndes S.A. se dedica a la exportación de frutas (mango, palta y uva).\n",
        "La gerencia quiere implementar un sistema en Python para analizar datos de ventas, costos y eficiencia de producción.\n",
        "Se te ha pedido construir pequeñas piezas de código que luego se integrarán en un sistema más grande.\n",
        "Los datos iniciales que se usarán son los siguientes:"
      ],
      "metadata": {
        "id": "dPpKboGo1kwh"
      }
    },
    {
      "cell_type": "code",
      "execution_count": 1,
      "metadata": {
        "id": "kC_1miyB1SrH"
      },
      "outputs": [],
      "source": [
        "productos = [\"Mango\", \"Palta\", \"Uva\"]\n",
        "precios = [2.5, 3.0, 4.2]  # precio por kilo en USD\n",
        "costos = [1.2, 1.5, 2.8]   # costo por kilo en USD\n",
        "ventas_mensuales = {\n",
        "    \"Enero\": {\"Mango\": 1200, \"Palta\": 800, \"Uva\": 950},\n",
        "    \"Febrero\": {\"Mango\": 1500, \"Palta\": 950, \"Uva\": 1100},\n",
        "    \"Marzo\": {\"Mango\": 1700, \"Palta\": 1000, \"Uva\": 1200}\n",
        "}"
      ]
    },
    {
      "cell_type": "markdown",
      "source": [
        "1. Calcular y mostrar la ganancia unitaria de cada producto (precio – costo)."
      ],
      "metadata": {
        "id": "QH4Kw9DY11zM"
      }
    },
    {
      "cell_type": "code",
      "source": [
        "for i in range(len(productos)):\n",
        "    ganancia_unitaria = round(precios[i] - costos[i], 2)\n",
        "    print(f\"La ganancia unitaria de {productos[i]} es: {ganancia_unitaria} USD\")"
      ],
      "metadata": {
        "colab": {
          "base_uri": "https://localhost:8080/"
        },
        "id": "hY-Yk_GN40Tp",
        "outputId": "ffe17514-2ba5-4353-87d7-c523a880d7c1"
      },
      "execution_count": 5,
      "outputs": [
        {
          "output_type": "stream",
          "name": "stdout",
          "text": [
            "La ganancia unitaria de Mango es: 1.3 USD\n",
            "La ganancia unitaria de Palta es: 1.5 USD\n",
            "La ganancia unitaria de Uva es: 1.4 USD\n"
          ]
        }
      ]
    },
    {
      "cell_type": "markdown",
      "source": [
        "2.  Imprimir el nombre y el precio del segundo producto en la lista productos."
      ],
      "metadata": {
        "id": "KYDKjy6S19S9"
      }
    },
    {
      "cell_type": "code",
      "source": [
        "nombre_2do_producto = productos[1]\n",
        "precio_2do_producto = precios[1]\n",
        "print(f\"El nombre del segundo producto es: {nombre_2do_producto}\")\n",
        "print(f\"El precio del segundo producto es: {precio_2do_producto} USD\")"
      ],
      "metadata": {
        "colab": {
          "base_uri": "https://localhost:8080/"
        },
        "id": "xEKSMuXQ5zRp",
        "outputId": "93bae346-517f-4cc0-d3d6-c73a3713b410"
      },
      "execution_count": 8,
      "outputs": [
        {
          "output_type": "stream",
          "name": "stdout",
          "text": [
            "El nombre del segundo producto es: Palta\n",
            "El precio del segundo producto es: 3.0 USD\n"
          ]
        }
      ]
    },
    {
      "cell_type": "markdown",
      "source": [
        "3. Un cliente pide crédito para comprar fruta al por mayor.\n",
        "Si el monto total de compra es mayor a 5000 USD → imprimir \"Crédito aprobado\", de lo contrario → \"Crédito denegado\"."
      ],
      "metadata": {
        "id": "KG9SMmjU2Jbu"
      }
    },
    {
      "cell_type": "code",
      "source": [
        "monto_total_compra = input(\"Ingrese el monto total de la compra: \")\n",
        "monto_total_compra = float(monto_total_compra)\n",
        "if monto_total_compra > 5000:\n",
        "    print(\"Crédito aprobado\")\n",
        "else:\n",
        "    print(\"Crédito denegado\")"
      ],
      "metadata": {
        "colab": {
          "base_uri": "https://localhost:8080/"
        },
        "id": "QHAWDVeD7zCI",
        "outputId": "9f6d6b0a-7af0-4a0b-84fa-7e530432fa8d"
      },
      "execution_count": 12,
      "outputs": [
        {
          "output_type": "stream",
          "name": "stdout",
          "text": [
            "Ingrese el monto total de la compra: 50\n",
            "Crédito denegado\n"
          ]
        }
      ]
    },
    {
      "cell_type": "markdown",
      "source": [
        "4. La empresa clasifica la rentabilidad de un producto según su margen unitario:\n",
        "*  \"Alta\" si margen ≥ 2\n",
        "*  \"Media\" si margen entre 1 y 2\n",
        "*  \"Baja\" si margen < 1\n",
        "Mostrar la clasificación de cada producto."
      ],
      "metadata": {
        "id": "yCSqWIUG336s"
      }
    },
    {
      "cell_type": "markdown",
      "source": [
        "pista: margen unitario = precio unitario - costo unitario"
      ],
      "metadata": {
        "id": "8KbZJ2PJ6HuK"
      }
    },
    {
      "cell_type": "code",
      "source": [
        "for i in range(len(productos)):\n",
        "    margen_unitario = round(precios[i] - costos[i], 2)\n",
        "    if margen_unitario >= 2:\n",
        "        clasificacion = \"Alta\"\n",
        "    elif margen_unitario >= 1:\n",
        "        clasificacion = \"Media\"\n",
        "    else:\n",
        "        clasificacion = \"Baja\"\n",
        "    print(f\"La clasificación del producto {productos[i]} es: {clasificacion} (el margen unitario es: {margen_unitario} USD)\")\n"
      ],
      "metadata": {
        "colab": {
          "base_uri": "https://localhost:8080/"
        },
        "id": "nIpOe2Mg9QGp",
        "outputId": "36f881dc-bff9-4b9b-8cac-5b9d503e86ab"
      },
      "execution_count": 20,
      "outputs": [
        {
          "output_type": "stream",
          "name": "stdout",
          "text": [
            "La clasificación del producto Mango es: Media (el margen unitario es: 1.3 USD)\n",
            "La clasificación del producto Palta es: Media (el margen unitario es: 1.5 USD)\n",
            "La clasificación del producto Uva es: Media (el margen unitario es: 1.4 USD)\n"
          ]
        }
      ]
    },
    {
      "cell_type": "markdown",
      "source": [
        "5. Usar un ciclo for para imprimir el total de ventas (en kilos) de cada producto en el trimestre."
      ],
      "metadata": {
        "id": "GtvI7MF44F_J"
      }
    },
    {
      "cell_type": "code",
      "source": [
        "for i in range(len(productos)):\n",
        "    total_ventas = 0\n",
        "    for mes in ventas_mensuales:   # dice hacerlo con un ciclo for\n",
        "        ventas_en_kilo = ( ventas_mensuales[mes][productos[i]] / precios[i] )\n",
        "        # print(f' {productos[i]}   ventas_en_kilo: {ventas_en_kilo}')\n",
        "        total_ventas = total_ventas + ventas_en_kilo\n",
        "\n",
        "    print(f\"El total de ventas (en kilos) de {productos[i]} en el trimestre es: {round(total_ventas,2)} kg\")\n"
      ],
      "metadata": {
        "colab": {
          "base_uri": "https://localhost:8080/"
        },
        "id": "0OSyrctvRd1x",
        "outputId": "0bf0254b-ea09-485c-fd60-f79df567dc84"
      },
      "execution_count": 40,
      "outputs": [
        {
          "output_type": "stream",
          "name": "stdout",
          "text": [
            "El total de ventas (en kilos) de Mango en el trimestre es: 1760.0 kg\n",
            "El total de ventas (en kilos) de Palta en el trimestre es: 916.67 kg\n",
            "El total de ventas (en kilos) de Uva en el trimestre es: 773.81 kg\n"
          ]
        }
      ]
    },
    {
      "cell_type": "code",
      "source": [],
      "metadata": {
        "id": "l9nvRkFMT4ch"
      },
      "execution_count": null,
      "outputs": []
    },
    {
      "cell_type": "code",
      "source": [
        "# este es un borrador\n",
        "for i in range(len(productos)):\n",
        "    total_ventas = 0\n",
        "    for mes in ventas_mensuales:\n",
        "        total_ventas = total_ventas + ( ventas_mensuales[mes][productos[i]] / precios[i] )\n",
        "        print(f'  {productos[i]} ventas_mensuales[mes][productos[i]]: {ventas_mensuales[mes][productos[i]]} \"/\"  precios[i]: {precios[i]} ')\n",
        "    print(f\"El total de ventas de {productos[i]} en el trimestre es: {total_ventas} kg\")"
      ],
      "metadata": {
        "colab": {
          "base_uri": "https://localhost:8080/"
        },
        "id": "HiHZjSvgPESJ",
        "outputId": "6497103e-c4a7-4e5d-fac4-6400b5229214"
      },
      "execution_count": 41,
      "outputs": [
        {
          "output_type": "stream",
          "name": "stdout",
          "text": [
            "  Mango ventas_mensuales[mes][productos[i]]: 1200 \"/\"  precios[i]: 2.5 \n",
            "  Mango ventas_mensuales[mes][productos[i]]: 1500 \"/\"  precios[i]: 2.5 \n",
            "  Mango ventas_mensuales[mes][productos[i]]: 1700 \"/\"  precios[i]: 2.5 \n",
            "El total de ventas de Mango en el trimestre es: 1760.0 kg\n",
            "  Palta ventas_mensuales[mes][productos[i]]: 800 \"/\"  precios[i]: 3.0 \n",
            "  Palta ventas_mensuales[mes][productos[i]]: 950 \"/\"  precios[i]: 3.0 \n",
            "  Palta ventas_mensuales[mes][productos[i]]: 1000 \"/\"  precios[i]: 3.0 \n",
            "El total de ventas de Palta en el trimestre es: 916.6666666666667 kg\n",
            "  Uva ventas_mensuales[mes][productos[i]]: 950 \"/\"  precios[i]: 4.2 \n",
            "  Uva ventas_mensuales[mes][productos[i]]: 1100 \"/\"  precios[i]: 4.2 \n",
            "  Uva ventas_mensuales[mes][productos[i]]: 1200 \"/\"  precios[i]: 4.2 \n",
            "El total de ventas de Uva en el trimestre es: 773.8095238095239 kg\n"
          ]
        }
      ]
    },
    {
      "cell_type": "code",
      "source": [],
      "metadata": {
        "id": "fSxnX6quUISB"
      },
      "execution_count": null,
      "outputs": []
    },
    {
      "cell_type": "markdown",
      "source": [
        "6. Simular el crecimiento de la producción de mangos:\n",
        "La empresa produce 1000 kg en el primer mes y crece un 10% mensual.\n",
        "Usar while para calcular en cuántos meses la producción superará los 2000 kg."
      ],
      "metadata": {
        "id": "w1R7UbwX4Ym3"
      }
    },
    {
      "cell_type": "code",
      "source": [
        "contador_mes_supera_2000_kg = 0\n",
        "\n",
        "numero_de_mes = 1  # inicializa en 1 que equivale a Enero\n",
        "produccion_mango = 1000\n",
        "print(f'numero_de_mes: {numero_de_mes} produccion_mango: {produccion_mango}')\n",
        "\n",
        "while numero_de_mes <= 12:\n",
        "     # para el 2mes en adelante\n",
        "    incremento = produccion_mango * 0.1\n",
        "    produccion_mango = produccion_mango + incremento\n",
        "    numero_de_mes = numero_de_mes + 1\n",
        "    print(f'numero_de_mes: {numero_de_mes}  produccion_mango: {round(produccion_mango,2)}    contador_mes_supera_2000_kg: {contador_mes_supera_2000_kg}')\n",
        "\n",
        "    if produccion_mango > 2000:\n",
        "        contador_mes_supera_2000_kg = contador_mes_supera_2000_kg + 1\n",
        "\n",
        "print(f'cantidad de meses que la producción supera los 2,000 kg es: {contador_mes_supera_2000_kg}' )\n"
      ],
      "metadata": {
        "id": "3ORmTtPwYt5Z",
        "outputId": "9dea7693-42ab-4b43-d88f-5dc23b5fac3d",
        "colab": {
          "base_uri": "https://localhost:8080/"
        }
      },
      "execution_count": 61,
      "outputs": [
        {
          "output_type": "stream",
          "name": "stdout",
          "text": [
            "numero_de_mes: 1 produccion_mango: 1000\n",
            "numero_de_mes: 2  produccion_mango: 1100.0    contador_mes_supera_2000_kg: 0\n",
            "numero_de_mes: 3  produccion_mango: 1210.0    contador_mes_supera_2000_kg: 0\n",
            "numero_de_mes: 4  produccion_mango: 1331.0    contador_mes_supera_2000_kg: 0\n",
            "numero_de_mes: 5  produccion_mango: 1464.1    contador_mes_supera_2000_kg: 0\n",
            "numero_de_mes: 6  produccion_mango: 1610.51    contador_mes_supera_2000_kg: 0\n",
            "numero_de_mes: 7  produccion_mango: 1771.56    contador_mes_supera_2000_kg: 0\n",
            "numero_de_mes: 8  produccion_mango: 1948.72    contador_mes_supera_2000_kg: 0\n",
            "numero_de_mes: 9  produccion_mango: 2143.59    contador_mes_supera_2000_kg: 0\n",
            "numero_de_mes: 10  produccion_mango: 2357.95    contador_mes_supera_2000_kg: 1\n",
            "numero_de_mes: 11  produccion_mango: 2593.74    contador_mes_supera_2000_kg: 2\n",
            "numero_de_mes: 12  produccion_mango: 2853.12    contador_mes_supera_2000_kg: 3\n",
            "numero_de_mes: 13  produccion_mango: 3138.43    contador_mes_supera_2000_kg: 4\n",
            "cantidad de meses que la producción supera los 2,000 kg es: 5\n"
          ]
        }
      ]
    },
    {
      "cell_type": "code",
      "source": [
        "numero_de_meses = 0\n",
        "produccion_mango = 1000\n",
        "while True:\n",
        "    produccion_mango = 1000\n",
        "    for i in range(1, 13):\n",
        "        produccion_mango = produccion_mango * 1.1\n",
        "        numero_de_meses = numero_de_meses + 1\n",
        "        if produccion_mango > 2000:\n",
        "            break\n",
        "    break\n",
        ""
      ],
      "metadata": {
        "id": "l-LOIW_BUbrK"
      },
      "execution_count": 42,
      "outputs": []
    },
    {
      "cell_type": "markdown",
      "source": [
        "7. Calcular el ingreso total por producto en el trimestre (ventas * precio) usando el diccionario ventas_mensuales."
      ],
      "metadata": {
        "id": "xfsZ9jbB4uGR"
      }
    },
    {
      "cell_type": "markdown",
      "source": [
        "8. Crear una función calcular_utilidad(producto) que reciba el nombre de un producto y retorne su utilidad total del trimestre (ingresos – costos)."
      ],
      "metadata": {
        "id": "dG-o3wVW44x8"
      }
    },
    {
      "cell_type": "markdown",
      "source": [
        "9. Separar la función del ejercicio anterior en un archivo utilidades.py e importarla desde el programa principal."
      ],
      "metadata": {
        "id": "WkLlB6_75Hop"
      }
    },
    {
      "cell_type": "markdown",
      "source": [
        "10. Construir un reporte de rentabilidad trimestral que muestre:\n",
        "* Producto\n",
        "* Total de ventas (kg)\n",
        "* Ingreso total (USD)\n",
        "* Costo total (USD)\n",
        "* Utilidad total (USD)\n",
        "* Clasificación de rentabilidad (alta, media o baja, según el margen)\n"
      ],
      "metadata": {
        "id": "-RNitDWN5SX2"
      }
    }
  ]
}