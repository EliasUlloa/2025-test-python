{
  "nbformat": 4,
  "nbformat_minor": 0,
  "metadata": {
    "colab": {
      "provenance": [],
      "include_colab_link": true
    },
    "kernelspec": {
      "name": "python3",
      "display_name": "Python 3"
    },
    "language_info": {
      "name": "python"
    }
  },
  "cells": [
    {
      "cell_type": "markdown",
      "metadata": {
        "id": "view-in-github",
        "colab_type": "text"
      },
      "source": [
        "<a href=\"https://colab.research.google.com/github/EliasUlloa/2025-test-python/blob/main/trabajo_calificado_sep25EliasUlloa.ipynb\" target=\"_parent\"><img src=\"https://colab.research.google.com/assets/colab-badge.svg\" alt=\"Open In Colab\"/></a>"
      ]
    },
    {
      "cell_type": "markdown",
      "source": [
        "**Trabajo Calificado de Cierre – Python aplicado a la Agroindustria**"
      ],
      "metadata": {
        "id": "YHmrZzcJ1UPK"
      }
    },
    {
      "cell_type": "markdown",
      "source": [
        "La empresa AgroAndes S.A. se dedica a la exportación de frutas (mango, palta y uva).\n",
        "La gerencia quiere implementar un sistema en Python para analizar datos de ventas, costos y eficiencia de producción.\n",
        "Se te ha pedido construir pequeñas piezas de código que luego se integrarán en un sistema más grande.\n",
        "Los datos iniciales que se usarán son los siguientes:"
      ],
      "metadata": {
        "id": "dPpKboGo1kwh"
      }
    },
    {
      "cell_type": "code",
      "execution_count": 106,
      "metadata": {
        "id": "kC_1miyB1SrH"
      },
      "outputs": [],
      "source": [
        "productos = [\"Mango\", \"Palta\", \"Uva\"]\n",
        "precios = [2.5, 3.0, 4.2]  # precio por kilo en USD\n",
        "costos = [1.2, 1.5, 2.8]   # costo por kilo en USD\n",
        "ventas_mensuales = {\n",
        "    \"Enero\": {\"Mango\": 1200, \"Palta\": 800, \"Uva\": 950},\n",
        "    \"Febrero\": {\"Mango\": 1500, \"Palta\": 950, \"Uva\": 1100},\n",
        "    \"Marzo\": {\"Mango\": 1700, \"Palta\": 1000, \"Uva\": 1200}\n",
        "}"
      ]
    },
    {
      "cell_type": "markdown",
      "source": [
        "1. Calcular y mostrar la ganancia unitaria de cada producto (precio – costo)."
      ],
      "metadata": {
        "id": "QH4Kw9DY11zM"
      }
    },
    {
      "cell_type": "code",
      "source": [
        "for i in range(len(productos)):\n",
        "    ganancia_unitaria = round(precios[i] - costos[i], 2)\n",
        "    print(f\"La ganancia unitaria de {productos[i]} es: {ganancia_unitaria} USD\")"
      ],
      "metadata": {
        "colab": {
          "base_uri": "https://localhost:8080/"
        },
        "id": "hY-Yk_GN40Tp",
        "outputId": "b6de5e51-8c4e-481b-8fd6-063674de4386"
      },
      "execution_count": 177,
      "outputs": [
        {
          "output_type": "stream",
          "name": "stdout",
          "text": [
            "La ganancia unitaria de Mango es: 1.3 USD\n",
            "La ganancia unitaria de Palta es: 1.5 USD\n",
            "La ganancia unitaria de Uva es: 1.4 USD\n"
          ]
        }
      ]
    },
    {
      "cell_type": "markdown",
      "source": [
        "2.  Imprimir el nombre y el precio del segundo producto en la lista productos."
      ],
      "metadata": {
        "id": "KYDKjy6S19S9"
      }
    },
    {
      "cell_type": "code",
      "source": [
        "nombre_2do_producto = productos[1]\n",
        "precio_2do_producto = precios[1]\n",
        "print(f\"El nombre del segundo producto es: {nombre_2do_producto}\")\n",
        "print(f\"El precio del segundo producto es: {precio_2do_producto} USD\")"
      ],
      "metadata": {
        "colab": {
          "base_uri": "https://localhost:8080/"
        },
        "id": "xEKSMuXQ5zRp",
        "outputId": "0debcaae-265c-4d93-df51-1fcd92448c1c"
      },
      "execution_count": 178,
      "outputs": [
        {
          "output_type": "stream",
          "name": "stdout",
          "text": [
            "El nombre del segundo producto es: Palta\n",
            "El precio del segundo producto es: 3.0 USD\n"
          ]
        }
      ]
    },
    {
      "cell_type": "markdown",
      "source": [
        "3. Un cliente pide crédito para comprar fruta al por mayor.\n",
        "Si el monto total de compra es mayor a 5000 USD → imprimir \"Crédito aprobado\", de lo contrario → \"Crédito denegado\"."
      ],
      "metadata": {
        "id": "KG9SMmjU2Jbu"
      }
    },
    {
      "cell_type": "code",
      "source": [
        "monto_total_compra = input(\"Ingrese el monto total de la compra: \")\n",
        "monto_total_compra = float(monto_total_compra)\n",
        "if monto_total_compra > 5000:\n",
        "    print(\"Crédito aprobado\")\n",
        "else:\n",
        "    print(\"Crédito denegado\")"
      ],
      "metadata": {
        "colab": {
          "base_uri": "https://localhost:8080/"
        },
        "id": "QHAWDVeD7zCI",
        "outputId": "30173f3b-29a1-4976-aea7-3d0942b314fd"
      },
      "execution_count": 179,
      "outputs": [
        {
          "output_type": "stream",
          "name": "stdout",
          "text": [
            "Ingrese el monto total de la compra: 6000\n",
            "Crédito aprobado\n"
          ]
        }
      ]
    },
    {
      "cell_type": "markdown",
      "source": [
        "4. La empresa clasifica la rentabilidad de un producto según su margen unitario:\n",
        "*  \"Alta\" si margen ≥ 2\n",
        "*  \"Media\" si margen entre 1 y 2\n",
        "*  \"Baja\" si margen < 1\n",
        "Mostrar la clasificación de cada producto."
      ],
      "metadata": {
        "id": "yCSqWIUG336s"
      }
    },
    {
      "cell_type": "markdown",
      "source": [
        "pista: margen unitario = precio unitario - costo unitario"
      ],
      "metadata": {
        "id": "8KbZJ2PJ6HuK"
      }
    },
    {
      "cell_type": "code",
      "source": [
        "for i in range(len(productos)):\n",
        "    margen_unitario = round(precios[i] - costos[i], 2)\n",
        "    if margen_unitario >= 2:\n",
        "        clasificacion = \"Alta\"\n",
        "    elif margen_unitario >= 1:\n",
        "        clasificacion = \"Media\"\n",
        "    else:\n",
        "        clasificacion = \"Baja\"\n",
        "    print(f\"La clasificación del producto {productos[i]} es: {clasificacion} (el margen unitario es: {margen_unitario} USD)\")\n"
      ],
      "metadata": {
        "colab": {
          "base_uri": "https://localhost:8080/"
        },
        "id": "nIpOe2Mg9QGp",
        "outputId": "07fa139b-632b-498c-90de-80ad87b1c9f5"
      },
      "execution_count": 180,
      "outputs": [
        {
          "output_type": "stream",
          "name": "stdout",
          "text": [
            "La clasificación del producto Mango es: Media (el margen unitario es: 1.3 USD)\n",
            "La clasificación del producto Palta es: Media (el margen unitario es: 1.5 USD)\n",
            "La clasificación del producto Uva es: Media (el margen unitario es: 1.4 USD)\n"
          ]
        }
      ]
    },
    {
      "cell_type": "markdown",
      "source": [
        "5. Usar un ciclo for para imprimir el total de ventas (en kilos) de cada producto en el trimestre."
      ],
      "metadata": {
        "id": "GtvI7MF44F_J"
      }
    },
    {
      "cell_type": "code",
      "source": [
        "# considerando que la unidad de ventas_mensuales es en kilos ej. 1200 kg\n",
        "for i in range(len(productos)):\n",
        "    total_ventas_en_kilos = 0\n",
        "    for mes in ventas_mensuales:\n",
        "        total_ventas_en_kilos = total_ventas_en_kilos + ventas_mensuales[mes][productos[i]]\n",
        "    print(f'total_ventas_en_kilos del producto {productos[i]}: {total_ventas_en_kilos} en USD')"
      ],
      "metadata": {
        "colab": {
          "base_uri": "https://localhost:8080/"
        },
        "id": "0OSyrctvRd1x",
        "outputId": "57d3ca09-039e-4085-dcf4-c1808f9fae82"
      },
      "execution_count": 181,
      "outputs": [
        {
          "output_type": "stream",
          "name": "stdout",
          "text": [
            "total_ventas_en_kilos del producto Mango: 4400 en USD\n",
            "total_ventas_en_kilos del producto Palta: 2750 en USD\n",
            "total_ventas_en_kilos del producto Uva: 3250 en USD\n"
          ]
        }
      ]
    },
    {
      "cell_type": "code",
      "source": [],
      "metadata": {
        "id": "EJ6qf7R-ICEr"
      },
      "execution_count": null,
      "outputs": []
    },
    {
      "cell_type": "code",
      "source": [],
      "metadata": {
        "id": "l9nvRkFMT4ch"
      },
      "execution_count": null,
      "outputs": []
    },
    {
      "cell_type": "code",
      "source": [],
      "metadata": {
        "id": "HiHZjSvgPESJ"
      },
      "execution_count": 180,
      "outputs": []
    },
    {
      "cell_type": "code",
      "source": [],
      "metadata": {
        "id": "fSxnX6quUISB"
      },
      "execution_count": null,
      "outputs": []
    },
    {
      "cell_type": "markdown",
      "source": [
        "6. Simular el crecimiento de la producción de mangos:\n",
        "La empresa produce 1000 kg en el primer mes y crece un 10% mensual.\n",
        "Usar while para calcular en cuántos meses la producción superará los 2000 kg."
      ],
      "metadata": {
        "id": "w1R7UbwX4Ym3"
      }
    },
    {
      "cell_type": "code",
      "source": [
        "contador_mes_supera_2000_kg = 0\n",
        "numero_de_mes = 1  # inicializa en 1 que equivale a Enero\n",
        "produccion_mango = 1000\n",
        "# print(f'numero_de_mes: {numero_de_mes}  produccion_mango: {produccion_mango}   contador_mes_supera_2000_kg: {contador_mes_supera_2000_kg}')\n",
        "if produccion_mango > 2000:\n",
        "        contador_mes_supera_2000_kg = contador_mes_supera_2000_kg + 1\n",
        "\n",
        "while numero_de_mes <= 12:\n",
        "     # para el 2mes en adelante\n",
        "    incremento = produccion_mango * 0.1\n",
        "    produccion_mango = produccion_mango + incremento\n",
        "    numero_de_mes = numero_de_mes + 1\n",
        "    if produccion_mango > 2000:\n",
        "        contador_mes_supera_2000_kg = contador_mes_supera_2000_kg + 1\n",
        "    # print(f'numero_de_mes: {numero_de_mes}  produccion_mango: {round(produccion_mango,2)}    contador_mes_supera_2000_kg: {contador_mes_supera_2000_kg}')\n",
        "\n",
        "print(f'cantidad de meses que la producción supera los 2,000 kg es: {contador_mes_supera_2000_kg}' )\n"
      ],
      "metadata": {
        "colab": {
          "base_uri": "https://localhost:8080/"
        },
        "id": "3ORmTtPwYt5Z",
        "outputId": "18e43544-7d00-4f20-ace1-b231c83fe3d5"
      },
      "execution_count": 182,
      "outputs": [
        {
          "output_type": "stream",
          "name": "stdout",
          "text": [
            "cantidad de meses que la producción supera los 2,000 kg es: 5\n"
          ]
        }
      ]
    },
    {
      "cell_type": "code",
      "source": [],
      "metadata": {
        "id": "l-LOIW_BUbrK"
      },
      "execution_count": null,
      "outputs": []
    },
    {
      "cell_type": "markdown",
      "source": [
        "7. Calcular el ingreso total por producto en el trimestre (ventas * precio) usando el diccionario ventas_mensuales."
      ],
      "metadata": {
        "id": "xfsZ9jbB4uGR"
      }
    },
    {
      "cell_type": "code",
      "source": [
        "# considerando que el diccionario de ventas mensuales estan en kilos, ej. mando> 1,200 kg\n",
        "for i in range(len(productos)):\n",
        "    ingreso_total_por_producto = 0\n",
        "    for mes in ventas_mensuales:\n",
        "        ventas_en_kilo =  ventas_mensuales[mes][productos[i]]\n",
        "        ingreso_total_por_producto = ingreso_total_por_producto + ventas_en_kilo * precios[i]\n",
        "        # print(f'productos {productos[i]}  ventas_en_kilo: {ventas_en_kilo}   precio: {precios[i]}')\n",
        "    print(f\"El ingreso total del producto {productos[i]} en el trimestre es: {round(ingreso_total_por_producto,2)} USD\")"
      ],
      "metadata": {
        "id": "h9Rmj1BgIaIP",
        "outputId": "4bccf650-ac2b-4e03-d1d5-182668f5e5fa",
        "colab": {
          "base_uri": "https://localhost:8080/"
        }
      },
      "execution_count": 185,
      "outputs": [
        {
          "output_type": "stream",
          "name": "stdout",
          "text": [
            "El ingreso total del producto Mango en el trimestre es: 11000.0 USD\n",
            "El ingreso total del producto Palta en el trimestre es: 8250.0 USD\n",
            "El ingreso total del producto Uva en el trimestre es: 13650.0 USD\n"
          ]
        }
      ]
    },
    {
      "cell_type": "markdown",
      "source": [
        "8. Crear una función calcular_utilidad(producto) que reciba el nombre de un producto y retorne su utilidad total del trimestre (ingresos – costos)."
      ],
      "metadata": {
        "id": "dG-o3wVW44x8"
      }
    },
    {
      "cell_type": "code",
      "source": [
        "def calcular_utilidad(nombre_producto):\n",
        "    utilidad_total_por_producto = 0\n",
        "    ingreso_total_por_producto = 0\n",
        "    costo_total_por_producto = 0\n",
        "    for i in range(len(productos)):\n",
        "        if nombre_producto == productos[i]:\n",
        "            for mes in ventas_mensuales:\n",
        "                ventas_en_kilo =  ventas_mensuales[mes][productos[i]] # ventas_mensuales[mes][productos[i]]\n",
        "                ingreso_total_por_producto = ingreso_total_por_producto + ventas_en_kilo * precios[i]\n",
        "                costo_total_por_producto = costo_total_por_producto + ventas_en_kilo * costos[i]\n",
        "            utilidad_total_por_producto = ingreso_total_por_producto - costo_total_por_producto\n",
        "            utilidad_total_por_producto = round(utilidad_total_por_producto,2)\n",
        "    return utilidad_total_por_producto\n",
        "\n",
        "for i in range(len(productos)):\n",
        "    utilidad_total_por_producto = calcular_utilidad(productos[i])\n",
        "    print(f\"La utilidad total del trimestre del producto {productos[i]} es: {utilidad_total_por_producto} USD\")"
      ],
      "metadata": {
        "id": "h-WWfGwhQuEP",
        "colab": {
          "base_uri": "https://localhost:8080/"
        },
        "outputId": "8a10fd45-4b02-4c41-ba90-59cae2407ebe"
      },
      "execution_count": 186,
      "outputs": [
        {
          "output_type": "stream",
          "name": "stdout",
          "text": [
            "La utilidad total del trimestre del producto Mango es: 5720.0 USD\n",
            "La utilidad total del trimestre del producto Palta es: 4125.0 USD\n",
            "La utilidad total del trimestre del producto Uva es: 4550.0 USD\n"
          ]
        }
      ]
    },
    {
      "cell_type": "markdown",
      "source": [
        "9. Separar la función del ejercicio anterior en un archivo utilidades.py e importarla desde el programa principal."
      ],
      "metadata": {
        "id": "WkLlB6_75Hop"
      }
    },
    {
      "cell_type": "code",
      "source": [
        "%%writefile utilidades_.py\n",
        "productos = [\"Mango\", \"Palta\", \"Uva\"]\n",
        "precios = [2.5, 3.0, 4.2]  # precio por kilo en USD\n",
        "costos = [1.2, 1.5, 2.8]   # costo por kilo en USD\n",
        "ventas_mensuales = {\n",
        "    \"Enero\": {\"Mango\": 1200, \"Palta\": 800, \"Uva\": 950},\n",
        "    \"Febrero\": {\"Mango\": 1500, \"Palta\": 950, \"Uva\": 1100},\n",
        "    \"Marzo\": {\"Mango\": 1700, \"Palta\": 1000, \"Uva\": 1200}\n",
        "}\n",
        "def calcular_utilidad(nombre_producto):\n",
        "    utilidad_total_por_producto = 0\n",
        "    ingreso_total_por_producto = 0\n",
        "    costo_total_por_producto = 0\n",
        "    for i in range(len(productos)):\n",
        "        if nombre_producto == productos[i]:\n",
        "            for mes in ventas_mensuales:\n",
        "                ventas_en_kilo =  ventas_mensuales[mes][productos[i]] # ventas_mensuales[mes][productos[i]]\n",
        "                ingreso_total_por_producto = ingreso_total_por_producto + ventas_en_kilo * precios[i]\n",
        "                costo_total_por_producto = costo_total_por_producto + ventas_en_kilo * costos[i]\n",
        "                # print(f'productos {productos[i]}  ventas_en_kilo: {ventas_en_kilo}   precio: {precios[i]}')\n",
        "            utilidad_total_por_producto = ingreso_total_por_producto - costo_total_por_producto\n",
        "            utilidad_total_por_producto = round(utilidad_total_por_producto,2)\n",
        "    return utilidad_total_por_producto"
      ],
      "metadata": {
        "id": "k6NjRypkggpf",
        "outputId": "6236a444-2ae8-491c-fb0e-ebf9cbdfde25",
        "colab": {
          "base_uri": "https://localhost:8080/"
        }
      },
      "execution_count": 188,
      "outputs": [
        {
          "output_type": "stream",
          "name": "stdout",
          "text": [
            "Overwriting utilidades_.py\n"
          ]
        }
      ]
    },
    {
      "cell_type": "code",
      "source": [
        "import utilidades_\n",
        "\n",
        "# listado de productos con su utilidad llamando\n",
        "for i in range(len(productos)):\n",
        "    utilidad_total_por_producto = calcular_utilidad(productos[i])\n",
        "    print(f\"La utilidad total del trimestre del producto {productos[i]} es: {utilidades_.calcular_utilidad(productos[i])} USD\")"
      ],
      "metadata": {
        "id": "9gUoEMTbhPUg",
        "colab": {
          "base_uri": "https://localhost:8080/"
        },
        "outputId": "b61c01cf-68d5-4043-a302-973bb2967f4d"
      },
      "execution_count": 189,
      "outputs": [
        {
          "output_type": "stream",
          "name": "stdout",
          "text": [
            "La utilidad total del trimestre del producto Mango es: 5720.0 USD\n",
            "La utilidad total del trimestre del producto Palta es: 4125.0 USD\n",
            "La utilidad total del trimestre del producto Uva es: 4550.0 USD\n"
          ]
        }
      ]
    },
    {
      "cell_type": "code",
      "source": [],
      "metadata": {
        "id": "uavFP91Nha1v",
        "outputId": "1aced9c8-febd-4931-a301-6107a8486fba",
        "colab": {
          "base_uri": "https://localhost:8080/"
        }
      },
      "execution_count": 84,
      "outputs": [
        {
          "output_type": "stream",
          "name": "stdout",
          "text": [
            "5720.0\n"
          ]
        }
      ]
    },
    {
      "cell_type": "code",
      "source": [],
      "metadata": {
        "colab": {
          "base_uri": "https://localhost:8080/"
        },
        "id": "-gN93q7Ks3kv",
        "outputId": "46386547-9e5a-4dc7-aaee-0bdf86040dc6"
      },
      "execution_count": 85,
      "outputs": [
        {
          "output_type": "stream",
          "name": "stdout",
          "text": [
            "La utilidad total del trimestre del producto Mango es: 5720.0 USD\n",
            "La utilidad total del trimestre del producto Palta es: 4125.0 USD\n",
            "La utilidad total del trimestre del producto Uva es: 4550.0 USD\n"
          ]
        }
      ]
    },
    {
      "cell_type": "code",
      "source": [],
      "metadata": {
        "id": "_019N_cPo20X"
      },
      "execution_count": 63,
      "outputs": []
    },
    {
      "cell_type": "markdown",
      "source": [
        "10. Construir un reporte de rentabilidad trimestral que muestre:\n",
        "* Producto\n",
        "* Total de ventas (kg)\n",
        "* Ingreso total (USD)\n",
        "* Costo total (USD)\n",
        "* Utilidad total (USD)\n",
        "* Clasificación de rentabilidad (alta, media o baja, según el margen)\n"
      ],
      "metadata": {
        "id": "-RNitDWN5SX2"
      }
    },
    {
      "cell_type": "code",
      "source": [
        "def calcular_total_ventas_kg_por_producto(nombre_producto):\n",
        "    total_ventas_en_kilos_por_producto = 0\n",
        "    for i in range(len(productos)):\n",
        "        if nombre_producto == productos[i]:\n",
        "            for mes in ventas_mensuales:\n",
        "                total_ventas_en_kilos_por_producto = total_ventas_en_kilos_por_producto + ventas_mensuales[mes][productos[i]]\n",
        "            total_ventas_en_kilos_por_producto = round(total_ventas_en_kilos_por_producto,2)\n",
        "    return total_ventas_en_kilos_por_producto\n",
        "\n",
        "def calcular_total_ventas_kg():\n",
        "    total_ventas_en_kilos = 0\n",
        "    for i in range(len(productos)):\n",
        "            for mes in ventas_mensuales:\n",
        "                total_ventas_en_kilos = total_ventas_en_kilos + ventas_mensuales[mes][productos[i]]\n",
        "            total_ventas_en_kilos = round(total_ventas_en_kilos,2)\n",
        "    return total_ventas_en_kilos\n",
        "\n",
        "def calcular_ingreso_total_por_producto(nombre_producto):\n",
        "    ingreso_total_por_producto = 0\n",
        "    for i in range(len(productos)):\n",
        "        if nombre_producto == productos[i]:\n",
        "            for mes in ventas_mensuales:\n",
        "                ventas_en_kilo =  ventas_mensuales[mes][productos[i]]\n",
        "                ingreso_total_por_producto = ingreso_total_por_producto + ventas_en_kilo * precios[i]\n",
        "            ingreso_total_por_producto = round(ingreso_total_por_producto,2)\n",
        "    return ingreso_total_por_producto\n",
        "\n",
        "def calcular_ingreso_total():\n",
        "    ingreso_total = 0\n",
        "    for i in range(len(productos)):\n",
        "            for mes in ventas_mensuales:\n",
        "                ventas_en_kilo =  ventas_mensuales[mes][productos[i]]\n",
        "                ingreso_total = ingreso_total + ventas_en_kilo * precios[i]\n",
        "            ingreso_total = round(ingreso_total,2)\n",
        "    return ingreso_total\n",
        "\n",
        "def calcular_costo_total_por_producto(nombre_producto):\n",
        "    costos_total_por_producto = 0\n",
        "    for i in range(len(productos)):\n",
        "        if nombre_producto == productos[i]:\n",
        "            for mes in ventas_mensuales:\n",
        "                ventas_en_kilo = ventas_mensuales[mes][productos[i]]\n",
        "                costos_total_por_producto = costos_total_por_producto + ( ventas_en_kilo * costos[i] )\n",
        "            costos_total_por_producto = round(costos_total_por_producto,2)\n",
        "    return costos_total_por_producto\n",
        "\n",
        "def calcular_costo_total():\n",
        "    costos_total = 0\n",
        "    for i in range(len(productos)):\n",
        "            for mes in ventas_mensuales:\n",
        "                ventas_en_kilo = ventas_mensuales[mes][productos[i]]\n",
        "                costos_total = costos_total + ( ventas_en_kilo * costos[i] )\n",
        "            costos_total = round(costos_total,2)\n",
        "    return costos_total\n",
        "\n",
        "def calcular_utilidad_total_por_producto(nombre_producto):\n",
        "    utilidad_total_por_producto = calcular_ingreso_total_por_producto(nombre_producto) - calcular_costo_total_por_producto(nombre_producto)\n",
        "    utilidad_total_por_producto = round(utilidad_total_por_producto,2)\n",
        "    return utilidad_total_por_producto\n",
        "\n",
        "def calcular_utilidad_total():\n",
        "    utilidad_total = calcular_ingreso_total() - calcular_costo_total()\n",
        "    utilidad_total = round(utilidad_total,2)\n",
        "    return utilidad_total\n",
        "\n",
        "def calcular_rentabilidad_total_por_producto(nombre_producto):\n",
        "    for i in range(len(productos)):\n",
        "        if nombre_producto == productos[i]:\n",
        "                margen_unitario = round(precios[i] - costos[i], 2)\n",
        "                if margen_unitario >= 2:\n",
        "                    clasificacion = \"Alta\"\n",
        "                elif margen_unitario >= 1:\n",
        "                    clasificacion = \"Media\"\n",
        "                else:\n",
        "                    clasificacion = \"Baja\"\n",
        "    return clasificacion\n",
        "\n",
        "print(\"Reporte de Rentabilidad Trimestral\\n\")\n",
        "print(\"Producto    Total de ventas (kg)     Ingreso total (USD)   Costo total (USD)    Utilidad total (USD)    Clasificación de rentabilidad\")\n",
        "for i in range(len(productos)):\n",
        "    print(f\"{productos[i]}   ........   {calcular_total_ventas_kg_por_producto(productos[i])}      .........      {calcular_ingreso_total_por_producto(productos[i])}   .......   {calcular_costo_total_por_producto(productos[i])}   ............   {calcular_utilidad_total_por_producto(productos[i])}   ..............    {calcular_rentabilidad_total_por_producto(productos[i])}\")\n",
        "print(f\"Total             {calcular_total_ventas_kg()}                     {calcular_ingreso_total()}            {calcular_costo_total()}                 {calcular_utilidad_total()}\")"
      ],
      "metadata": {
        "colab": {
          "base_uri": "https://localhost:8080/"
        },
        "id": "Bh9VbOmp4JVP",
        "outputId": "326f6dca-ed23-4d97-d387-fc8e659fd506"
      },
      "execution_count": 235,
      "outputs": [
        {
          "output_type": "stream",
          "name": "stdout",
          "text": [
            "Reporte de Rentabilidad Trimestral\n",
            "\n",
            "Producto    Total de ventas (kg)     Ingreso total (USD)   Costo total (USD)    Utilidad total (USD)    Clasificación de rentabilidad\n",
            "Mango   ........   4400      .........      11000.0   .......   5280.0   ............   5720.0   ..............    Media\n",
            "Palta   ........   2750      .........      8250.0   .......   4125.0   ............   4125.0   ..............    Media\n",
            "Uva   ........   3250      .........      13650.0   .......   9100.0   ............   4550.0   ..............    Media\n",
            "Total             10400                     32900.0            18505.0                 14395.0\n"
          ]
        }
      ]
    },
    {
      "cell_type": "code",
      "source": [],
      "metadata": {
        "colab": {
          "base_uri": "https://localhost:8080/"
        },
        "id": "MFA9v4oF6byG",
        "outputId": "50b96de0-07a9-4736-de1d-e3fff0cd5af6"
      },
      "execution_count": 109,
      "outputs": [
        {
          "output_type": "execute_result",
          "data": {
            "text/plain": [
              "3250"
            ]
          },
          "metadata": {},
          "execution_count": 109
        }
      ]
    },
    {
      "cell_type": "code",
      "source": [],
      "metadata": {
        "id": "TDL5skE8XbDW"
      },
      "execution_count": 111,
      "outputs": []
    },
    {
      "cell_type": "code",
      "source": [],
      "metadata": {
        "colab": {
          "base_uri": "https://localhost:8080/"
        },
        "id": "a9EO9CsxZJfQ",
        "outputId": "88b72bce-b8ac-46dc-b967-868224d0db1a"
      },
      "execution_count": 126,
      "outputs": [
        {
          "output_type": "execute_result",
          "data": {
            "text/plain": [
              "11000.0"
            ]
          },
          "metadata": {},
          "execution_count": 126
        }
      ]
    },
    {
      "cell_type": "code",
      "source": [],
      "metadata": {
        "id": "zgep1fSvbC8g"
      },
      "execution_count": 119,
      "outputs": []
    },
    {
      "cell_type": "code",
      "source": [],
      "metadata": {
        "colab": {
          "base_uri": "https://localhost:8080/"
        },
        "id": "xuxw-Z6_cZiA",
        "outputId": "d25b694c-b97f-45a5-c034-d2ee7722063d"
      },
      "execution_count": 127,
      "outputs": [
        {
          "output_type": "execute_result",
          "data": {
            "text/plain": [
              "9100.0"
            ]
          },
          "metadata": {},
          "execution_count": 127
        }
      ]
    },
    {
      "cell_type": "code",
      "source": [],
      "metadata": {
        "id": "1Cm4EnQnek44"
      },
      "execution_count": 129,
      "outputs": []
    },
    {
      "cell_type": "code",
      "source": [],
      "metadata": {
        "colab": {
          "base_uri": "https://localhost:8080/"
        },
        "id": "1zqwvk3efVfv",
        "outputId": "ea9ac74d-2935-4bdd-ba95-e89563c54b2a"
      },
      "execution_count": 133,
      "outputs": [
        {
          "output_type": "execute_result",
          "data": {
            "text/plain": [
              "4550.0"
            ]
          },
          "metadata": {},
          "execution_count": 133
        }
      ]
    },
    {
      "cell_type": "code",
      "source": [],
      "metadata": {
        "id": "QBoLi_4JgVBP"
      },
      "execution_count": 135,
      "outputs": []
    },
    {
      "cell_type": "code",
      "source": [],
      "metadata": {
        "colab": {
          "base_uri": "https://localhost:8080/",
          "height": 35
        },
        "id": "vFz-BN0ShrG3",
        "outputId": "383fac20-734b-48eb-e7d5-91633a6c40bd"
      },
      "execution_count": 140,
      "outputs": [
        {
          "output_type": "execute_result",
          "data": {
            "text/plain": [
              "'Media'"
            ],
            "application/vnd.google.colaboratory.intrinsic+json": {
              "type": "string"
            }
          },
          "metadata": {},
          "execution_count": 140
        }
      ]
    },
    {
      "cell_type": "code",
      "source": [],
      "metadata": {
        "colab": {
          "base_uri": "https://localhost:8080/"
        },
        "id": "H5vZTydqiYC4",
        "outputId": "9833e889-2eda-4803-d4c9-9853274249cc"
      },
      "execution_count": 175,
      "outputs": [
        {
          "output_type": "stream",
          "name": "stdout",
          "text": [
            "Reporte de Rentabilidad Trimestral\n",
            "\n",
            "Producto    Total de ventas (kg)     Ingreso total (USD)   Costo total (USD)    Utilidad total (USD)    Clasificación de rentabilidad\n",
            "Mango             4400                      11000.0            5280.0             5720.0                          Media\n",
            "Palta             2750                      8250.0            4125.0             4125.0                          Media\n",
            "Uva             3250                      13650.0            9100.0             4550.0                          Media\n"
          ]
        }
      ]
    },
    {
      "cell_type": "code",
      "source": [],
      "metadata": {
        "id": "kB9vAZAxi5V_"
      },
      "execution_count": null,
      "outputs": []
    }
  ]
}