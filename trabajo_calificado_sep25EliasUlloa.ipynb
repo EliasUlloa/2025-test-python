{
  "nbformat": 4,
  "nbformat_minor": 0,
  "metadata": {
    "colab": {
      "provenance": [],
      "include_colab_link": true
    },
    "kernelspec": {
      "name": "python3",
      "display_name": "Python 3"
    },
    "language_info": {
      "name": "python"
    }
  },
  "cells": [
    {
      "cell_type": "markdown",
      "metadata": {
        "id": "view-in-github",
        "colab_type": "text"
      },
      "source": [
        "<a href=\"https://colab.research.google.com/github/EliasUlloa/2025-test-python/blob/main/trabajo_calificado_sep25EliasUlloa.ipynb\" target=\"_parent\"><img src=\"https://colab.research.google.com/assets/colab-badge.svg\" alt=\"Open In Colab\"/></a>"
      ]
    },
    {
      "cell_type": "markdown",
      "source": [
        "**Trabajo Calificado de Cierre – Python aplicado a la Agroindustria**"
      ],
      "metadata": {
        "id": "YHmrZzcJ1UPK"
      }
    },
    {
      "cell_type": "markdown",
      "source": [
        "La empresa AgroAndes S.A. se dedica a la exportación de frutas (mango, palta y uva).\n",
        "La gerencia quiere implementar un sistema en Python para analizar datos de ventas, costos y eficiencia de producción.\n",
        "Se te ha pedido construir pequeñas piezas de código que luego se integrarán en un sistema más grande.\n",
        "Los datos iniciales que se usarán son los siguientes:"
      ],
      "metadata": {
        "id": "dPpKboGo1kwh"
      }
    },
    {
      "cell_type": "code",
      "execution_count": 106,
      "metadata": {
        "id": "kC_1miyB1SrH"
      },
      "outputs": [],
      "source": [
        "productos = [\"Mango\", \"Palta\", \"Uva\"]\n",
        "precios = [2.5, 3.0, 4.2]  # precio por kilo en USD\n",
        "costos = [1.2, 1.5, 2.8]   # costo por kilo en USD\n",
        "ventas_mensuales = {\n",
        "    \"Enero\": {\"Mango\": 1200, \"Palta\": 800, \"Uva\": 950},\n",
        "    \"Febrero\": {\"Mango\": 1500, \"Palta\": 950, \"Uva\": 1100},\n",
        "    \"Marzo\": {\"Mango\": 1700, \"Palta\": 1000, \"Uva\": 1200}\n",
        "}"
      ]
    },
    {
      "cell_type": "markdown",
      "source": [
        "1. Calcular y mostrar la ganancia unitaria de cada producto (precio – costo)."
      ],
      "metadata": {
        "id": "QH4Kw9DY11zM"
      }
    },
    {
      "cell_type": "code",
      "source": [
        "for i in range(len(productos)):\n",
        "    ganancia_unitaria = round(precios[i] - costos[i], 2)\n",
        "    print(f\"La ganancia unitaria de {productos[i]} es: {ganancia_unitaria} USD\")"
      ],
      "metadata": {
        "colab": {
          "base_uri": "https://localhost:8080/"
        },
        "id": "hY-Yk_GN40Tp",
        "outputId": "57f1a09a-059d-47a8-99d1-16c279d72d30"
      },
      "execution_count": 2,
      "outputs": [
        {
          "output_type": "stream",
          "name": "stdout",
          "text": [
            "La ganancia unitaria de Mango es: 1.3 USD\n",
            "La ganancia unitaria de Palta es: 1.5 USD\n",
            "La ganancia unitaria de Uva es: 1.4 USD\n"
          ]
        }
      ]
    },
    {
      "cell_type": "markdown",
      "source": [
        "2.  Imprimir el nombre y el precio del segundo producto en la lista productos."
      ],
      "metadata": {
        "id": "KYDKjy6S19S9"
      }
    },
    {
      "cell_type": "code",
      "source": [
        "nombre_2do_producto = productos[1]\n",
        "precio_2do_producto = precios[1]\n",
        "print(f\"El nombre del segundo producto es: {nombre_2do_producto}\")\n",
        "print(f\"El precio del segundo producto es: {precio_2do_producto} USD\")"
      ],
      "metadata": {
        "colab": {
          "base_uri": "https://localhost:8080/"
        },
        "id": "xEKSMuXQ5zRp",
        "outputId": "305ebac2-57d3-4b32-d453-3c6d8aa5cd6d"
      },
      "execution_count": 3,
      "outputs": [
        {
          "output_type": "stream",
          "name": "stdout",
          "text": [
            "El nombre del segundo producto es: Palta\n",
            "El precio del segundo producto es: 3.0 USD\n"
          ]
        }
      ]
    },
    {
      "cell_type": "markdown",
      "source": [
        "3. Un cliente pide crédito para comprar fruta al por mayor.\n",
        "Si el monto total de compra es mayor a 5000 USD → imprimir \"Crédito aprobado\", de lo contrario → \"Crédito denegado\"."
      ],
      "metadata": {
        "id": "KG9SMmjU2Jbu"
      }
    },
    {
      "cell_type": "code",
      "source": [
        "monto_total_compra = input(\"Ingrese el monto total de la compra: \")\n",
        "monto_total_compra = float(monto_total_compra)\n",
        "if monto_total_compra > 5000:\n",
        "    print(\"Crédito aprobado\")\n",
        "else:\n",
        "    print(\"Crédito denegado\")"
      ],
      "metadata": {
        "colab": {
          "base_uri": "https://localhost:8080/"
        },
        "id": "QHAWDVeD7zCI",
        "outputId": "875248a1-5388-4496-999b-a201926c7f33"
      },
      "execution_count": 4,
      "outputs": [
        {
          "output_type": "stream",
          "name": "stdout",
          "text": [
            "Ingrese el monto total de la compra: 800\n",
            "Crédito denegado\n"
          ]
        }
      ]
    },
    {
      "cell_type": "markdown",
      "source": [
        "4. La empresa clasifica la rentabilidad de un producto según su margen unitario:\n",
        "*  \"Alta\" si margen ≥ 2\n",
        "*  \"Media\" si margen entre 1 y 2\n",
        "*  \"Baja\" si margen < 1\n",
        "Mostrar la clasificación de cada producto."
      ],
      "metadata": {
        "id": "yCSqWIUG336s"
      }
    },
    {
      "cell_type": "markdown",
      "source": [
        "pista: margen unitario = precio unitario - costo unitario"
      ],
      "metadata": {
        "id": "8KbZJ2PJ6HuK"
      }
    },
    {
      "cell_type": "code",
      "source": [
        "for i in range(len(productos)):\n",
        "    margen_unitario = round(precios[i] - costos[i], 2)\n",
        "    if margen_unitario >= 2:\n",
        "        clasificacion = \"Alta\"\n",
        "    elif margen_unitario >= 1:\n",
        "        clasificacion = \"Media\"\n",
        "    else:\n",
        "        clasificacion = \"Baja\"\n",
        "    print(f\"La clasificación del producto {productos[i]} es: {clasificacion} (el margen unitario es: {margen_unitario} USD)\")\n"
      ],
      "metadata": {
        "colab": {
          "base_uri": "https://localhost:8080/"
        },
        "id": "nIpOe2Mg9QGp",
        "outputId": "23ed8fe9-a0f3-4696-d4e3-aeec938c1362"
      },
      "execution_count": 5,
      "outputs": [
        {
          "output_type": "stream",
          "name": "stdout",
          "text": [
            "La clasificación del producto Mango es: Media (el margen unitario es: 1.3 USD)\n",
            "La clasificación del producto Palta es: Media (el margen unitario es: 1.5 USD)\n",
            "La clasificación del producto Uva es: Media (el margen unitario es: 1.4 USD)\n"
          ]
        }
      ]
    },
    {
      "cell_type": "markdown",
      "source": [
        "5. Usar un ciclo for para imprimir el total de ventas (en kilos) de cada producto en el trimestre."
      ],
      "metadata": {
        "id": "GtvI7MF44F_J"
      }
    },
    {
      "cell_type": "code",
      "source": [
        "# considerando que la unidad de ventas_mensuales es en kilos ej. 1200 kg\n",
        "for i in range(len(productos)):\n",
        "    total_ventas_en_kilos = 0\n",
        "    for mes in ventas_mensuales:\n",
        "        total_ventas_en_kilos = total_ventas_en_kilos + ventas_mensuales[mes][productos[i]]\n",
        "    print(f'total_ventas_en_kilos del producto {productos[i]}: {total_ventas_en_kilos} en USD')"
      ],
      "metadata": {
        "colab": {
          "base_uri": "https://localhost:8080/"
        },
        "id": "0OSyrctvRd1x",
        "outputId": "5262d51d-7283-4f2b-9241-915dcd1b87e8"
      },
      "execution_count": 86,
      "outputs": [
        {
          "output_type": "stream",
          "name": "stdout",
          "text": [
            "total_ventas_en_kilos del producto Mango: 4400 en USD\n",
            "total_ventas_en_kilos del producto Palta: 2750 en USD\n",
            "total_ventas_en_kilos del producto Uva: 3250 en USD\n"
          ]
        }
      ]
    },
    {
      "cell_type": "code",
      "source": [],
      "metadata": {
        "id": "EJ6qf7R-ICEr"
      },
      "execution_count": null,
      "outputs": []
    },
    {
      "cell_type": "code",
      "source": [],
      "metadata": {
        "id": "l9nvRkFMT4ch"
      },
      "execution_count": null,
      "outputs": []
    },
    {
      "cell_type": "code",
      "source": [
        "# este es un borrador\n",
        "for i in range(len(productos)):\n",
        "    total_ventas = 0\n",
        "    for mes in ventas_mensuales:\n",
        "        total_ventas = total_ventas + ( ventas_mensuales[mes][productos[i]] / precios[i] )\n",
        "        print(f'  {productos[i]} ventas_mensuales[mes][productos[i]]: {ventas_mensuales[mes][productos[i]]} \"/\"  precios[i]: {precios[i]} ')\n",
        "    print(f\"El total de ventas de {productos[i]} en el trimestre es: {total_ventas} kg\")"
      ],
      "metadata": {
        "colab": {
          "base_uri": "https://localhost:8080/"
        },
        "id": "HiHZjSvgPESJ",
        "outputId": "6497103e-c4a7-4e5d-fac4-6400b5229214"
      },
      "execution_count": null,
      "outputs": [
        {
          "output_type": "stream",
          "name": "stdout",
          "text": [
            "  Mango ventas_mensuales[mes][productos[i]]: 1200 \"/\"  precios[i]: 2.5 \n",
            "  Mango ventas_mensuales[mes][productos[i]]: 1500 \"/\"  precios[i]: 2.5 \n",
            "  Mango ventas_mensuales[mes][productos[i]]: 1700 \"/\"  precios[i]: 2.5 \n",
            "El total de ventas de Mango en el trimestre es: 1760.0 kg\n",
            "  Palta ventas_mensuales[mes][productos[i]]: 800 \"/\"  precios[i]: 3.0 \n",
            "  Palta ventas_mensuales[mes][productos[i]]: 950 \"/\"  precios[i]: 3.0 \n",
            "  Palta ventas_mensuales[mes][productos[i]]: 1000 \"/\"  precios[i]: 3.0 \n",
            "El total de ventas de Palta en el trimestre es: 916.6666666666667 kg\n",
            "  Uva ventas_mensuales[mes][productos[i]]: 950 \"/\"  precios[i]: 4.2 \n",
            "  Uva ventas_mensuales[mes][productos[i]]: 1100 \"/\"  precios[i]: 4.2 \n",
            "  Uva ventas_mensuales[mes][productos[i]]: 1200 \"/\"  precios[i]: 4.2 \n",
            "El total de ventas de Uva en el trimestre es: 773.8095238095239 kg\n"
          ]
        }
      ]
    },
    {
      "cell_type": "code",
      "source": [],
      "metadata": {
        "id": "fSxnX6quUISB"
      },
      "execution_count": null,
      "outputs": []
    },
    {
      "cell_type": "markdown",
      "source": [
        "6. Simular el crecimiento de la producción de mangos:\n",
        "La empresa produce 1000 kg en el primer mes y crece un 10% mensual.\n",
        "Usar while para calcular en cuántos meses la producción superará los 2000 kg."
      ],
      "metadata": {
        "id": "w1R7UbwX4Ym3"
      }
    },
    {
      "cell_type": "code",
      "source": [
        "contador_mes_supera_2000_kg = 0\n",
        "numero_de_mes = 1  # inicializa en 1 que equivale a Enero\n",
        "produccion_mango = 1000\n",
        "# print(f'numero_de_mes: {numero_de_mes}  produccion_mango: {produccion_mango}   contador_mes_supera_2000_kg: {contador_mes_supera_2000_kg}')\n",
        "if produccion_mango > 2000:\n",
        "        contador_mes_supera_2000_kg = contador_mes_supera_2000_kg + 1\n",
        "\n",
        "while numero_de_mes <= 12:\n",
        "     # para el 2mes en adelante\n",
        "    incremento = produccion_mango * 0.1\n",
        "    produccion_mango = produccion_mango + incremento\n",
        "    numero_de_mes = numero_de_mes + 1\n",
        "    if produccion_mango > 2000:\n",
        "        contador_mes_supera_2000_kg = contador_mes_supera_2000_kg + 1\n",
        "    # print(f'numero_de_mes: {numero_de_mes}  produccion_mango: {round(produccion_mango,2)}    contador_mes_supera_2000_kg: {contador_mes_supera_2000_kg}')\n",
        "\n",
        "print(f'cantidad de meses que la producción supera los 2,000 kg es: {contador_mes_supera_2000_kg}' )\n"
      ],
      "metadata": {
        "colab": {
          "base_uri": "https://localhost:8080/"
        },
        "id": "3ORmTtPwYt5Z",
        "outputId": "e81e8df5-99d1-4287-df60-6461ec223e91"
      },
      "execution_count": 7,
      "outputs": [
        {
          "output_type": "stream",
          "name": "stdout",
          "text": [
            "cantidad de meses que la producción supera los 2,000 kg es: 5\n"
          ]
        }
      ]
    },
    {
      "cell_type": "code",
      "source": [],
      "metadata": {
        "id": "l-LOIW_BUbrK"
      },
      "execution_count": null,
      "outputs": []
    },
    {
      "cell_type": "markdown",
      "source": [
        "7. Calcular el ingreso total por producto en el trimestre (ventas * precio) usando el diccionario ventas_mensuales."
      ],
      "metadata": {
        "id": "xfsZ9jbB4uGR"
      }
    },
    {
      "cell_type": "code",
      "source": [
        "# considerando que el diccionario de ventas mensuales estan en kilos, ej. mando> 1,200 kg\n",
        "for i in range(len(productos)):\n",
        "    ingreso_total_por_producto = 0\n",
        "    for mes in ventas_mensuales:\n",
        "        ventas_en_kilo =  ventas_mensuales[mes][productos[i]] # ventas_mensuales[mes][productos[i]]\n",
        "        ingreso_total_por_producto = ingreso_total_por_producto + ventas_en_kilo * precios[i]\n",
        "        # print(f'productos {productos[i]}  ventas_en_kilo: {ventas_en_kilo}   precio: {precios[i]}')\n",
        "    print(f\"El ingreso total del producto {productos[i]} en el trimestre es: {round(ingreso_total_por_producto,2)} USD\")"
      ],
      "metadata": {
        "id": "h9Rmj1BgIaIP",
        "outputId": "f94a6d58-835d-45cc-a8ff-f8e3b2ecd348",
        "colab": {
          "base_uri": "https://localhost:8080/"
        }
      },
      "execution_count": 8,
      "outputs": [
        {
          "output_type": "stream",
          "name": "stdout",
          "text": [
            "El ingreso total del producto Mango en el trimestre es: 11000.0 USD\n",
            "El ingreso total del producto Palta en el trimestre es: 8250.0 USD\n",
            "El ingreso total del producto Uva en el trimestre es: 13650.0 USD\n"
          ]
        }
      ]
    },
    {
      "cell_type": "markdown",
      "source": [
        "8. Crear una función calcular_utilidad(producto) que reciba el nombre de un producto y retorne su utilidad total del trimestre (ingresos – costos)."
      ],
      "metadata": {
        "id": "dG-o3wVW44x8"
      }
    },
    {
      "cell_type": "code",
      "source": [
        "def calcular_utilidad(nombre_producto):\n",
        "    utilidad_total_por_producto = 0\n",
        "    ingreso_total_por_producto = 0\n",
        "    costo_total_por_producto = 0\n",
        "    for i in range(len(productos)):\n",
        "        if nombre_producto == productos[i]:\n",
        "            for mes in ventas_mensuales:\n",
        "                ventas_en_kilo =  ventas_mensuales[mes][productos[i]] # ventas_mensuales[mes][productos[i]]\n",
        "                ingreso_total_por_producto = ingreso_total_por_producto + ventas_en_kilo * precios[i]\n",
        "                costo_total_por_producto = costo_total_por_producto + ventas_en_kilo * costos[i]\n",
        "            utilidad_total_por_producto = ingreso_total_por_producto - costo_total_por_producto\n",
        "            utilidad_total_por_producto = round(utilidad_total_por_producto,2)\n",
        "    return utilidad_total_por_producto\n",
        "\n",
        "for i in range(len(productos)):\n",
        "    utilidad_total_por_producto = calcular_utilidad(productos[i])\n",
        "    print(f\"La utilidad total del trimestre del producto {productos[i]} es: {utilidad_total_por_producto} USD\")"
      ],
      "metadata": {
        "id": "h-WWfGwhQuEP",
        "colab": {
          "base_uri": "https://localhost:8080/"
        },
        "outputId": "baa7c06a-bff2-4147-d45f-c28232ea8b00"
      },
      "execution_count": 75,
      "outputs": [
        {
          "output_type": "stream",
          "name": "stdout",
          "text": [
            "La utilidad total del trimestre del producto Mango es: 5720.0 USD\n",
            "La utilidad total del trimestre del producto Palta es: 4125.0 USD\n",
            "La utilidad total del trimestre del producto Uva es: 4550.0 USD\n"
          ]
        }
      ]
    },
    {
      "cell_type": "markdown",
      "source": [
        "9. Separar la función del ejercicio anterior en un archivo utilidades.py e importarla desde el programa principal."
      ],
      "metadata": {
        "id": "WkLlB6_75Hop"
      }
    },
    {
      "cell_type": "code",
      "source": [
        "%%writefile utilidades_.py\n",
        "productos = [\"Mango\", \"Palta\", \"Uva\"]\n",
        "precios = [2.5, 3.0, 4.2]  # precio por kilo en USD\n",
        "costos = [1.2, 1.5, 2.8]   # costo por kilo en USD\n",
        "ventas_mensuales = {\n",
        "    \"Enero\": {\"Mango\": 1200, \"Palta\": 800, \"Uva\": 950},\n",
        "    \"Febrero\": {\"Mango\": 1500, \"Palta\": 950, \"Uva\": 1100},\n",
        "    \"Marzo\": {\"Mango\": 1700, \"Palta\": 1000, \"Uva\": 1200}\n",
        "}\n",
        "def calcular_utilidad(nombre_producto):\n",
        "    utilidad_total_por_producto = 0\n",
        "    ingreso_total_por_producto = 0\n",
        "    costo_total_por_producto = 0\n",
        "    for i in range(len(productos)):\n",
        "        if nombre_producto == productos[i]:\n",
        "            for mes in ventas_mensuales:\n",
        "                ventas_en_kilo =  ventas_mensuales[mes][productos[i]] # ventas_mensuales[mes][productos[i]]\n",
        "                ingreso_total_por_producto = ingreso_total_por_producto + ventas_en_kilo * precios[i]\n",
        "                costo_total_por_producto = costo_total_por_producto + ventas_en_kilo * costos[i]\n",
        "                # print(f'productos {productos[i]}  ventas_en_kilo: {ventas_en_kilo}   precio: {precios[i]}')\n",
        "            utilidad_total_por_producto = ingreso_total_por_producto - costo_total_por_producto\n",
        "            utilidad_total_por_producto = round(utilidad_total_por_producto,2)\n",
        "    return utilidad_total_por_producto"
      ],
      "metadata": {
        "id": "k6NjRypkggpf",
        "outputId": "24b155a9-e19a-414e-8038-654edcb4772e",
        "colab": {
          "base_uri": "https://localhost:8080/"
        }
      },
      "execution_count": 82,
      "outputs": [
        {
          "output_type": "stream",
          "name": "stdout",
          "text": [
            "Writing utilidades_.py\n"
          ]
        }
      ]
    },
    {
      "cell_type": "code",
      "source": [
        "import utilidades_"
      ],
      "metadata": {
        "id": "9gUoEMTbhPUg"
      },
      "execution_count": 83,
      "outputs": []
    },
    {
      "cell_type": "code",
      "source": [
        "# muestra la utilidad del producto del nombre que se envía\n",
        "print(utilidades_.calcular_utilidad('Mango'))"
      ],
      "metadata": {
        "id": "uavFP91Nha1v",
        "outputId": "1aced9c8-febd-4931-a301-6107a8486fba",
        "colab": {
          "base_uri": "https://localhost:8080/"
        }
      },
      "execution_count": 84,
      "outputs": [
        {
          "output_type": "stream",
          "name": "stdout",
          "text": [
            "5720.0\n"
          ]
        }
      ]
    },
    {
      "cell_type": "code",
      "source": [
        "# listado de productos con su utilidad llamando\n",
        "for i in range(len(productos)):\n",
        "    utilidad_total_por_producto = calcular_utilidad(productos[i])\n",
        "    print(f\"La utilidad total del trimestre del producto {productos[i]} es: {utilidades_.calcular_utilidad(productos[i])} USD\")"
      ],
      "metadata": {
        "colab": {
          "base_uri": "https://localhost:8080/"
        },
        "id": "-gN93q7Ks3kv",
        "outputId": "46386547-9e5a-4dc7-aaee-0bdf86040dc6"
      },
      "execution_count": 85,
      "outputs": [
        {
          "output_type": "stream",
          "name": "stdout",
          "text": [
            "La utilidad total del trimestre del producto Mango es: 5720.0 USD\n",
            "La utilidad total del trimestre del producto Palta es: 4125.0 USD\n",
            "La utilidad total del trimestre del producto Uva es: 4550.0 USD\n"
          ]
        }
      ]
    },
    {
      "cell_type": "code",
      "source": [
        "!rm utilidades.py"
      ],
      "metadata": {
        "id": "_019N_cPo20X"
      },
      "execution_count": 63,
      "outputs": []
    },
    {
      "cell_type": "markdown",
      "source": [
        "10. Construir un reporte de rentabilidad trimestral que muestre:\n",
        "* Producto\n",
        "* Total de ventas (kg)\n",
        "* Ingreso total (USD)\n",
        "* Costo total (USD)\n",
        "* Utilidad total (USD)\n",
        "* Clasificación de rentabilidad (alta, media o baja, según el margen)\n"
      ],
      "metadata": {
        "id": "-RNitDWN5SX2"
      }
    },
    {
      "cell_type": "code",
      "source": [
        "def calcular_total_ventas_kg_por_producto(nombre_producto):\n",
        "    total_ventas_en_kilos_por_producto = 0\n",
        "    for i in range(len(productos)):\n",
        "        if nombre_producto == productos[i]:\n",
        "            for mes in ventas_mensuales:\n",
        "                total_ventas_en_kilos_por_producto = total_ventas_en_kilos_por_producto + ventas_mensuales[mes][productos[i]]\n",
        "            total_ventas_en_kilos_por_producto = round(total_ventas_en_kilos_por_producto,2)\n",
        "    return total_ventas_en_kilos_por_producto"
      ],
      "metadata": {
        "id": "Bh9VbOmp4JVP"
      },
      "execution_count": 107,
      "outputs": []
    },
    {
      "cell_type": "code",
      "source": [
        "#calcular_total_ventas_kg_por_producto('Mango')\n",
        "#calcular_total_ventas_kg_por_producto('Palta')\n",
        "calcular_total_ventas_kg_por_producto('Uva')"
      ],
      "metadata": {
        "colab": {
          "base_uri": "https://localhost:8080/"
        },
        "id": "MFA9v4oF6byG",
        "outputId": "50b96de0-07a9-4736-de1d-e3fff0cd5af6"
      },
      "execution_count": 109,
      "outputs": [
        {
          "output_type": "execute_result",
          "data": {
            "text/plain": [
              "3250"
            ]
          },
          "metadata": {},
          "execution_count": 109
        }
      ]
    },
    {
      "cell_type": "code",
      "source": [
        "def calcular_ingreso_total_por_producto(nombre_producto):\n",
        "    ingreso_total_por_producto = 0\n",
        "    for i in range(len(productos)):\n",
        "        if nombre_producto == productos[i]:\n",
        "            for mes in ventas_mensuales:\n",
        "                ventas_en_kilo =  ventas_mensuales[mes][productos[i]]\n",
        "                ingreso_total_por_producto = ingreso_total_por_producto + ventas_en_kilo * precios[i]\n",
        "            ingreso_total_por_producto = round(ingreso_total_por_producto,2)\n",
        "    return ingreso_total_por_producto"
      ],
      "metadata": {
        "id": "TDL5skE8XbDW"
      },
      "execution_count": 111,
      "outputs": []
    },
    {
      "cell_type": "code",
      "source": [
        "calcular_ingreso_total_por_producto('Mango')\n",
        "#calcular_ingreso_total_por_producto('Palta')\n",
        "#calcular_ingreso_total_por_producto('Uva')"
      ],
      "metadata": {
        "colab": {
          "base_uri": "https://localhost:8080/"
        },
        "id": "a9EO9CsxZJfQ",
        "outputId": "88b72bce-b8ac-46dc-b967-868224d0db1a"
      },
      "execution_count": 126,
      "outputs": [
        {
          "output_type": "execute_result",
          "data": {
            "text/plain": [
              "11000.0"
            ]
          },
          "metadata": {},
          "execution_count": 126
        }
      ]
    },
    {
      "cell_type": "code",
      "source": [
        "def calcular_costo_total_por_producto(nombre_producto):\n",
        "    costos_total_por_producto = 0\n",
        "    for i in range(len(productos)):\n",
        "        if nombre_producto == productos[i]:\n",
        "            for mes in ventas_mensuales:\n",
        "                ventas_en_kilo = ventas_mensuales[mes][productos[i]]\n",
        "                costos_total_por_producto = costos_total_por_producto + ( ventas_en_kilo * costos[i] )\n",
        "            costos_total_por_producto = round(costos_total_por_producto,2)\n",
        "    return costos_total_por_producto"
      ],
      "metadata": {
        "id": "zgep1fSvbC8g"
      },
      "execution_count": 119,
      "outputs": []
    },
    {
      "cell_type": "code",
      "source": [
        "#calcular_costo_total_por_producto('Mango')\n",
        "#calcular_costo_total_por_producto('Palta')\n",
        "calcular_costo_total_por_producto('Uva')"
      ],
      "metadata": {
        "colab": {
          "base_uri": "https://localhost:8080/"
        },
        "id": "xuxw-Z6_cZiA",
        "outputId": "d25b694c-b97f-45a5-c034-d2ee7722063d"
      },
      "execution_count": 127,
      "outputs": [
        {
          "output_type": "execute_result",
          "data": {
            "text/plain": [
              "9100.0"
            ]
          },
          "metadata": {},
          "execution_count": 127
        }
      ]
    },
    {
      "cell_type": "code",
      "source": [
        "# utilidad_total_por_producto = ingreso_total_por_producto - costo_total_por_producto\n",
        "def calcular_utilidad_total_por_producto(nombre_producto):\n",
        "    utilidad_total_por_producto = calcular_ingreso_total_por_producto(nombre_producto) - calcular_costo_total_por_producto(nombre_producto)\n",
        "    utilidad_total_por_producto = round(utilidad_total_por_producto,2)\n",
        "    return utilidad_total_por_producto"
      ],
      "metadata": {
        "id": "1Cm4EnQnek44"
      },
      "execution_count": 129,
      "outputs": []
    },
    {
      "cell_type": "code",
      "source": [
        "#calcular_utilidad_total_por_producto('Mango')\n",
        "#calcular_utilidad_total_por_producto('Palta')\n",
        "calcular_utilidad_total_por_producto('Uva')"
      ],
      "metadata": {
        "id": "1zqwvk3efVfv",
        "outputId": "3ce16354-5ee7-49e9-eb3b-9ffcfbaa7d66",
        "colab": {
          "base_uri": "https://localhost:8080/"
        }
      },
      "execution_count": 132,
      "outputs": [
        {
          "output_type": "execute_result",
          "data": {
            "text/plain": [
              "4550.0"
            ]
          },
          "metadata": {},
          "execution_count": 132
        }
      ]
    }
  ]
}