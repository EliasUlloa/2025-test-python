{
  "nbformat": 4,
  "nbformat_minor": 0,
  "metadata": {
    "colab": {
      "provenance": [],
      "toc_visible": true,
      "include_colab_link": true
    },
    "kernelspec": {
      "name": "python3",
      "display_name": "Python 3"
    },
    "language_info": {
      "name": "python"
    }
  },
  "cells": [
    {
      "cell_type": "markdown",
      "metadata": {
        "id": "view-in-github",
        "colab_type": "text"
      },
      "source": [
        "<a href=\"https://colab.research.google.com/github/EliasUlloa/2025-test-python/blob/main/%5B1%5D_Progama_Python_UTEC_Sesion01_Listas.ipynb\" target=\"_parent\"><img src=\"https://colab.research.google.com/assets/colab-badge.svg\" alt=\"Open In Colab\"/></a>"
      ]
    },
    {
      "cell_type": "markdown",
      "source": [
        "## [1] Ejemplos de resultados en Python (listas)"
      ],
      "metadata": {
        "id": "QtqxsCNE8PTi"
      }
    },
    {
      "cell_type": "markdown",
      "source": [
        "### [1.1] De expresiones regulares"
      ],
      "metadata": {
        "id": "JLRcga_w8X_k"
      }
    },
    {
      "cell_type": "code",
      "execution_count": null,
      "metadata": {
        "id": "mGTakFJF2WUs"
      },
      "outputs": [],
      "source": [
        "import re"
      ]
    },
    {
      "cell_type": "code",
      "source": [
        "texto = \"Mi correo personal es david.allendeq@gmail.com y mi correo corporativo es david.allende@misdsolutions.com\""
      ],
      "metadata": {
        "id": "qS8JfnTE9L4z"
      },
      "execution_count": null,
      "outputs": []
    },
    {
      "cell_type": "code",
      "source": [
        "print(texto)"
      ],
      "metadata": {
        "colab": {
          "base_uri": "https://localhost:8080/"
        },
        "id": "XEDrhe389aQK",
        "outputId": "5d7d57fc-1884-4cff-83b6-748b15f19c04"
      },
      "execution_count": null,
      "outputs": [
        {
          "output_type": "stream",
          "name": "stdout",
          "text": [
            "Mi correo personal es david.allendeq@gmail.com y mi correo corporativo es david.allende@misdsolutions.com\n"
          ]
        }
      ]
    },
    {
      "cell_type": "code",
      "source": [
        "correos = re.findall(r'\\S+@\\S+',texto)"
      ],
      "metadata": {
        "id": "Mb1qsIMx9dEF"
      },
      "execution_count": null,
      "outputs": []
    },
    {
      "cell_type": "code",
      "source": [
        "print(correos)"
      ],
      "metadata": {
        "colab": {
          "base_uri": "https://localhost:8080/"
        },
        "id": "m_N0hRpa-GZU",
        "outputId": "c0f9a0a0-105b-464d-fff0-ec141df68c2f"
      },
      "execution_count": null,
      "outputs": [
        {
          "output_type": "stream",
          "name": "stdout",
          "text": [
            "['david.allendeq@gmail.com', 'david.allende@misdsolutions.com']\n"
          ]
        }
      ]
    },
    {
      "cell_type": "code",
      "source": [
        "type(correos)"
      ],
      "metadata": {
        "colab": {
          "base_uri": "https://localhost:8080/"
        },
        "id": "oz2dcwtE-IHu",
        "outputId": "05737c8c-f91f-427b-9bae-8152fd4e6dbd"
      },
      "execution_count": null,
      "outputs": [
        {
          "output_type": "execute_result",
          "data": {
            "text/plain": [
              "list"
            ]
          },
          "metadata": {},
          "execution_count": 6
        }
      ]
    },
    {
      "cell_type": "markdown",
      "source": [
        "### [1.2] Del uso de librerías"
      ],
      "metadata": {
        "id": "nhtuFV9TAFZe"
      }
    },
    {
      "cell_type": "code",
      "source": [
        "import sys\n",
        "\n",
        "sys.path"
      ],
      "metadata": {
        "colab": {
          "base_uri": "https://localhost:8080/"
        },
        "id": "omC9T7A8-ise",
        "outputId": "1252431b-e207-43f5-e726-fb80194cdd4a"
      },
      "execution_count": null,
      "outputs": [
        {
          "output_type": "execute_result",
          "data": {
            "text/plain": [
              "['/content',\n",
              " '/env/python',\n",
              " '/usr/lib/python312.zip',\n",
              " '/usr/lib/python3.12',\n",
              " '/usr/lib/python3.12/lib-dynload',\n",
              " '',\n",
              " '/usr/local/lib/python3.12/dist-packages',\n",
              " '/usr/lib/python3/dist-packages',\n",
              " '/usr/local/lib/python3.12/dist-packages/IPython/extensions',\n",
              " '/root/.ipython']"
            ]
          },
          "metadata": {},
          "execution_count": 7
        }
      ]
    },
    {
      "cell_type": "code",
      "source": [
        "type(sys.path)"
      ],
      "metadata": {
        "colab": {
          "base_uri": "https://localhost:8080/"
        },
        "id": "sasmuyX6AL9F",
        "outputId": "9e7ff638-8034-4464-f0df-5a0fc3ea2aa4"
      },
      "execution_count": null,
      "outputs": [
        {
          "output_type": "execute_result",
          "data": {
            "text/plain": [
              "list"
            ]
          },
          "metadata": {},
          "execution_count": 8
        }
      ]
    },
    {
      "cell_type": "markdown",
      "source": [
        "### [1.3] De Dataframes"
      ],
      "metadata": {
        "id": "mXJpT36vAvhU"
      }
    },
    {
      "cell_type": "code",
      "source": [
        "import pandas as pd"
      ],
      "metadata": {
        "id": "uCgp6iDqAlBY"
      },
      "execution_count": null,
      "outputs": []
    },
    {
      "cell_type": "code",
      "source": [
        "df = pd.read_csv(\"/content/clientes.csv\",sep=';')"
      ],
      "metadata": {
        "id": "3TMN8AxJBHgv"
      },
      "execution_count": null,
      "outputs": []
    },
    {
      "cell_type": "code",
      "source": [
        "print(df)"
      ],
      "metadata": {
        "colab": {
          "base_uri": "https://localhost:8080/"
        },
        "id": "ZQsL8VcSCcGN",
        "outputId": "6ae908b9-ed4e-4c7c-ea13-000e2ea738a1"
      },
      "execution_count": null,
      "outputs": [
        {
          "output_type": "stream",
          "name": "stdout",
          "text": [
            "    ID  EDAD  INGRESOS RIESGO  LINEA_TC\n",
            "0  123    36      1348      A     49924\n",
            "1  234    52      9479      A     28454\n",
            "2  345    60      7511      B     14250\n",
            "3  456    40      7992      C     32064\n",
            "4  567    58      2675      C      1485\n",
            "5  678    47      7086      D     29157\n",
            "6  789    31      4704      E     14945\n",
            "7  999    42      6245      E      8798\n"
          ]
        }
      ]
    },
    {
      "cell_type": "code",
      "source": [
        "type(df)"
      ],
      "metadata": {
        "colab": {
          "base_uri": "https://localhost:8080/",
          "height": 203
        },
        "id": "okR8rmUHChig",
        "outputId": "f9f236b6-70f8-4a10-abd3-ba354044950d"
      },
      "execution_count": null,
      "outputs": [
        {
          "output_type": "execute_result",
          "data": {
            "text/plain": [
              "pandas.core.frame.DataFrame"
            ],
            "text/html": [
              "<div style=\"max-width:800px; border: 1px solid var(--colab-border-color);\"><style>\n",
              "      pre.function-repr-contents {\n",
              "        overflow-x: auto;\n",
              "        padding: 8px 12px;\n",
              "        max-height: 500px;\n",
              "      }\n",
              "\n",
              "      pre.function-repr-contents.function-repr-contents-collapsed {\n",
              "        cursor: pointer;\n",
              "        max-height: 100px;\n",
              "      }\n",
              "    </style>\n",
              "    <pre style=\"white-space: initial; background:\n",
              "         var(--colab-secondary-surface-color); padding: 8px 12px;\n",
              "         border-bottom: 1px solid var(--colab-border-color);\"><b>pandas.core.frame.DataFrame</b><br/>def __init__(data=None, index: Axes | None=None, columns: Axes | None=None, dtype: Dtype | None=None, copy: bool | None=None) -&gt; None</pre><pre class=\"function-repr-contents function-repr-contents-collapsed\" style=\"\"><a class=\"filepath\" style=\"display:none\" href=\"#\">/usr/local/lib/python3.12/dist-packages/pandas/core/frame.py</a>Two-dimensional, size-mutable, potentially heterogeneous tabular data.\n",
              "\n",
              "Data structure also contains labeled axes (rows and columns).\n",
              "Arithmetic operations align on both row and column labels. Can be\n",
              "thought of as a dict-like container for Series objects. The primary\n",
              "pandas data structure.\n",
              "\n",
              "Parameters\n",
              "----------\n",
              "data : ndarray (structured or homogeneous), Iterable, dict, or DataFrame\n",
              "    Dict can contain Series, arrays, constants, dataclass or list-like objects. If\n",
              "    data is a dict, column order follows insertion-order. If a dict contains Series\n",
              "    which have an index defined, it is aligned by its index. This alignment also\n",
              "    occurs if data is a Series or a DataFrame itself. Alignment is done on\n",
              "    Series/DataFrame inputs.\n",
              "\n",
              "    If data is a list of dicts, column order follows insertion-order.\n",
              "\n",
              "index : Index or array-like\n",
              "    Index to use for resulting frame. Will default to RangeIndex if\n",
              "    no indexing information part of input data and no index provided.\n",
              "columns : Index or array-like\n",
              "    Column labels to use for resulting frame when data does not have them,\n",
              "    defaulting to RangeIndex(0, 1, 2, ..., n). If data contains column labels,\n",
              "    will perform column selection instead.\n",
              "dtype : dtype, default None\n",
              "    Data type to force. Only a single dtype is allowed. If None, infer.\n",
              "copy : bool or None, default None\n",
              "    Copy data from inputs.\n",
              "    For dict data, the default of None behaves like ``copy=True``.  For DataFrame\n",
              "    or 2d ndarray input, the default of None behaves like ``copy=False``.\n",
              "    If data is a dict containing one or more Series (possibly of different dtypes),\n",
              "    ``copy=False`` will ensure that these inputs are not copied.\n",
              "\n",
              "    .. versionchanged:: 1.3.0\n",
              "\n",
              "See Also\n",
              "--------\n",
              "DataFrame.from_records : Constructor from tuples, also record arrays.\n",
              "DataFrame.from_dict : From dicts of Series, arrays, or dicts.\n",
              "read_csv : Read a comma-separated values (csv) file into DataFrame.\n",
              "read_table : Read general delimited file into DataFrame.\n",
              "read_clipboard : Read text from clipboard into DataFrame.\n",
              "\n",
              "Notes\n",
              "-----\n",
              "Please reference the :ref:`User Guide &lt;basics.dataframe&gt;` for more information.\n",
              "\n",
              "Examples\n",
              "--------\n",
              "Constructing DataFrame from a dictionary.\n",
              "\n",
              "&gt;&gt;&gt; d = {&#x27;col1&#x27;: [1, 2], &#x27;col2&#x27;: [3, 4]}\n",
              "&gt;&gt;&gt; df = pd.DataFrame(data=d)\n",
              "&gt;&gt;&gt; df\n",
              "   col1  col2\n",
              "0     1     3\n",
              "1     2     4\n",
              "\n",
              "Notice that the inferred dtype is int64.\n",
              "\n",
              "&gt;&gt;&gt; df.dtypes\n",
              "col1    int64\n",
              "col2    int64\n",
              "dtype: object\n",
              "\n",
              "To enforce a single dtype:\n",
              "\n",
              "&gt;&gt;&gt; df = pd.DataFrame(data=d, dtype=np.int8)\n",
              "&gt;&gt;&gt; df.dtypes\n",
              "col1    int8\n",
              "col2    int8\n",
              "dtype: object\n",
              "\n",
              "Constructing DataFrame from a dictionary including Series:\n",
              "\n",
              "&gt;&gt;&gt; d = {&#x27;col1&#x27;: [0, 1, 2, 3], &#x27;col2&#x27;: pd.Series([2, 3], index=[2, 3])}\n",
              "&gt;&gt;&gt; pd.DataFrame(data=d, index=[0, 1, 2, 3])\n",
              "   col1  col2\n",
              "0     0   NaN\n",
              "1     1   NaN\n",
              "2     2   2.0\n",
              "3     3   3.0\n",
              "\n",
              "Constructing DataFrame from numpy ndarray:\n",
              "\n",
              "&gt;&gt;&gt; df2 = pd.DataFrame(np.array([[1, 2, 3], [4, 5, 6], [7, 8, 9]]),\n",
              "...                    columns=[&#x27;a&#x27;, &#x27;b&#x27;, &#x27;c&#x27;])\n",
              "&gt;&gt;&gt; df2\n",
              "   a  b  c\n",
              "0  1  2  3\n",
              "1  4  5  6\n",
              "2  7  8  9\n",
              "\n",
              "Constructing DataFrame from a numpy ndarray that has labeled columns:\n",
              "\n",
              "&gt;&gt;&gt; data = np.array([(1, 2, 3), (4, 5, 6), (7, 8, 9)],\n",
              "...                 dtype=[(&quot;a&quot;, &quot;i4&quot;), (&quot;b&quot;, &quot;i4&quot;), (&quot;c&quot;, &quot;i4&quot;)])\n",
              "&gt;&gt;&gt; df3 = pd.DataFrame(data, columns=[&#x27;c&#x27;, &#x27;a&#x27;])\n",
              "...\n",
              "&gt;&gt;&gt; df3\n",
              "   c  a\n",
              "0  3  1\n",
              "1  6  4\n",
              "2  9  7\n",
              "\n",
              "Constructing DataFrame from dataclass:\n",
              "\n",
              "&gt;&gt;&gt; from dataclasses import make_dataclass\n",
              "&gt;&gt;&gt; Point = make_dataclass(&quot;Point&quot;, [(&quot;x&quot;, int), (&quot;y&quot;, int)])\n",
              "&gt;&gt;&gt; pd.DataFrame([Point(0, 0), Point(0, 3), Point(2, 3)])\n",
              "   x  y\n",
              "0  0  0\n",
              "1  0  3\n",
              "2  2  3\n",
              "\n",
              "Constructing DataFrame from Series/DataFrame:\n",
              "\n",
              "&gt;&gt;&gt; ser = pd.Series([1, 2, 3], index=[&quot;a&quot;, &quot;b&quot;, &quot;c&quot;])\n",
              "&gt;&gt;&gt; df = pd.DataFrame(data=ser, index=[&quot;a&quot;, &quot;c&quot;])\n",
              "&gt;&gt;&gt; df\n",
              "   0\n",
              "a  1\n",
              "c  3\n",
              "\n",
              "&gt;&gt;&gt; df1 = pd.DataFrame([1, 2, 3], index=[&quot;a&quot;, &quot;b&quot;, &quot;c&quot;], columns=[&quot;x&quot;])\n",
              "&gt;&gt;&gt; df2 = pd.DataFrame(data=df1, index=[&quot;a&quot;, &quot;c&quot;])\n",
              "&gt;&gt;&gt; df2\n",
              "   x\n",
              "a  1\n",
              "c  3</pre>\n",
              "      <script>\n",
              "      if (google.colab.kernel.accessAllowed && google.colab.files && google.colab.files.view) {\n",
              "        for (const element of document.querySelectorAll('.filepath')) {\n",
              "          element.style.display = 'block'\n",
              "          element.onclick = (event) => {\n",
              "            event.preventDefault();\n",
              "            event.stopPropagation();\n",
              "            google.colab.files.view(element.textContent, 509);\n",
              "          };\n",
              "        }\n",
              "      }\n",
              "      for (const element of document.querySelectorAll('.function-repr-contents')) {\n",
              "        element.onclick = (event) => {\n",
              "          event.preventDefault();\n",
              "          event.stopPropagation();\n",
              "          element.classList.toggle('function-repr-contents-collapsed');\n",
              "        };\n",
              "      }\n",
              "      </script>\n",
              "      </div>"
            ]
          },
          "metadata": {},
          "execution_count": 12
        }
      ]
    },
    {
      "cell_type": "code",
      "source": [
        "variables = df.columns.to_list()\n",
        "variables"
      ],
      "metadata": {
        "colab": {
          "base_uri": "https://localhost:8080/"
        },
        "id": "ve5X9CdRC34K",
        "outputId": "b4066bf6-9099-49e7-c746-57f6b200e43e"
      },
      "execution_count": null,
      "outputs": [
        {
          "output_type": "execute_result",
          "data": {
            "text/plain": [
              "['ID', 'EDAD', 'INGRESOS', 'RIESGO', 'LINEA_TC']"
            ]
          },
          "metadata": {},
          "execution_count": 14
        }
      ]
    },
    {
      "cell_type": "code",
      "source": [
        "type(variables)"
      ],
      "metadata": {
        "colab": {
          "base_uri": "https://localhost:8080/"
        },
        "id": "gPgFXIpTDAMY",
        "outputId": "c7536e99-1cfe-4778-f631-9560c3a1c3f5"
      },
      "execution_count": null,
      "outputs": [
        {
          "output_type": "execute_result",
          "data": {
            "text/plain": [
              "list"
            ]
          },
          "metadata": {},
          "execution_count": 15
        }
      ]
    },
    {
      "cell_type": "markdown",
      "source": [
        "## [2] Creación de listas"
      ],
      "metadata": {
        "id": "5yfHvg4WGAao"
      }
    },
    {
      "cell_type": "markdown",
      "source": [
        "### Actividad N001"
      ],
      "metadata": {
        "id": "hIMlXq-eEiCi"
      }
    },
    {
      "cell_type": "code",
      "source": [
        "# Lista de mis 5 lugares favoritos para vacacionar\n",
        "lugares=[\"Arequipa\", \"Selva central\", \"Cuzco\", \"Ica\",\"Trujillo\"]"
      ],
      "metadata": {
        "id": "o2UT5tHyDL2E"
      },
      "execution_count": null,
      "outputs": []
    },
    {
      "cell_type": "code",
      "source": [
        "print(f\"Mis lugares favoritos para vacacionar son \\n{lugares}\")"
      ],
      "metadata": {
        "colab": {
          "base_uri": "https://localhost:8080/"
        },
        "id": "IjuuM0lXEnJl",
        "outputId": "cc4e8409-0c56-4c21-d8af-dbed976a3ec0"
      },
      "execution_count": null,
      "outputs": [
        {
          "output_type": "stream",
          "name": "stdout",
          "text": [
            "Mis lugares favoritos para vacacionar son \n",
            "['Arequipa', 'Selva central', 'Cuzco', 'Ica', 'Trujillo']\n"
          ]
        }
      ]
    },
    {
      "cell_type": "markdown",
      "source": [
        "## [3] Tipos de listas"
      ],
      "metadata": {
        "id": "cdH8s7AxGG9r"
      }
    },
    {
      "cell_type": "markdown",
      "source": [
        "### Actividad N002"
      ],
      "metadata": {
        "id": "YqqzIWTUF4_J"
      }
    },
    {
      "cell_type": "code",
      "source": [
        "nombre = 'David'\n",
        "apellidoPaterno = 'Allende'\n",
        "profesion = 'Estadístico'\n",
        "edad = 37\n",
        "centroLaboral = 'MISD Solutions'\n",
        "aniosExperiencia = 13"
      ],
      "metadata": {
        "id": "-jvVl9sJE94I"
      },
      "execution_count": null,
      "outputs": []
    },
    {
      "cell_type": "code",
      "source": [
        "print(aniosExperiencia)"
      ],
      "metadata": {
        "colab": {
          "base_uri": "https://localhost:8080/"
        },
        "id": "eD6_i3MUGcGr",
        "outputId": "d2afeb3c-e32f-472a-9a4b-dd9bb8fbbfc8"
      },
      "execution_count": null,
      "outputs": [
        {
          "output_type": "stream",
          "name": "stdout",
          "text": [
            "13\n"
          ]
        }
      ]
    },
    {
      "cell_type": "code",
      "source": [
        "info_personal = [nombre,apellidoPaterno,profesion,edad,centroLaboral,aniosExperiencia]"
      ],
      "metadata": {
        "id": "YLDLzD4NGwdj"
      },
      "execution_count": null,
      "outputs": []
    },
    {
      "cell_type": "code",
      "source": [
        "type(info_personal)"
      ],
      "metadata": {
        "colab": {
          "base_uri": "https://localhost:8080/"
        },
        "id": "g42JiLVeHDS-",
        "outputId": "c8670c4d-3c02-47f9-beb1-cdea43faf2c2"
      },
      "execution_count": null,
      "outputs": [
        {
          "output_type": "execute_result",
          "data": {
            "text/plain": [
              "list"
            ]
          },
          "metadata": {},
          "execution_count": 33
        }
      ]
    },
    {
      "cell_type": "code",
      "source": [
        "print(f\"Mi lista con mi información personal es \\n{info_personal}\")"
      ],
      "metadata": {
        "colab": {
          "base_uri": "https://localhost:8080/"
        },
        "id": "Q6sBHM2IHH28",
        "outputId": "39ee6b60-fb4a-446c-9aeb-d2fabf40f5d4"
      },
      "execution_count": null,
      "outputs": [
        {
          "output_type": "stream",
          "name": "stdout",
          "text": [
            "Mi lista con mi información personal es \n",
            "['David', 'Allende', 'Estadístico', 37, 'MISD Solutions', 13]\n"
          ]
        }
      ]
    },
    {
      "cell_type": "markdown",
      "source": [
        "## [4] Acceder a los elementos de una lista"
      ],
      "metadata": {
        "id": "r8FA4GH-IfSa"
      }
    },
    {
      "cell_type": "markdown",
      "source": [
        "### Actividad N003"
      ],
      "metadata": {
        "id": "N-mvFeDUIku6"
      }
    },
    {
      "cell_type": "code",
      "source": [
        "print(f\"La lista de mis 5 lugares favoritos es \\n{lugares}\")"
      ],
      "metadata": {
        "colab": {
          "base_uri": "https://localhost:8080/"
        },
        "id": "4fVHA92CIwuH",
        "outputId": "f17f9ec6-218c-4de3-e68b-df87a625ef7d"
      },
      "execution_count": null,
      "outputs": [
        {
          "output_type": "stream",
          "name": "stdout",
          "text": [
            "La lista de mis 5 lugares favoritos es \n",
            "['Arequipa', 'Selva central', 'Cuzco', 'Ica', 'Trujillo']\n"
          ]
        }
      ]
    },
    {
      "cell_type": "code",
      "source": [
        "print(f\"El tercer lugar es {lugares[2]}\")"
      ],
      "metadata": {
        "colab": {
          "base_uri": "https://localhost:8080/"
        },
        "id": "7BdR1jGpHPXW",
        "outputId": "af84ed1e-d425-4283-a996-40047c7d2a0a"
      },
      "execution_count": null,
      "outputs": [
        {
          "output_type": "stream",
          "name": "stdout",
          "text": [
            "El tercer lugar es Cuzco\n"
          ]
        }
      ]
    },
    {
      "cell_type": "code",
      "source": [
        "print(f\"Mi lugar favorito nro 3 es\\n{lugares[3]}\")"
      ],
      "metadata": {
        "colab": {
          "base_uri": "https://localhost:8080/"
        },
        "id": "VsA1nsrkJZly",
        "outputId": "820f3115-5dd6-41fd-84b8-030d19bf42cc"
      },
      "execution_count": null,
      "outputs": [
        {
          "output_type": "stream",
          "name": "stdout",
          "text": [
            "Mi lugar favorito nro 3 es\n",
            "Ica\n"
          ]
        }
      ]
    },
    {
      "cell_type": "code",
      "source": [
        "print(f\"Mi lugar favorito nro 5 es\\n{lugares[-1]}\")"
      ],
      "metadata": {
        "colab": {
          "base_uri": "https://localhost:8080/"
        },
        "id": "Iq1O7Q23KQji",
        "outputId": "d716054e-330d-4679-f954-0f46cfb5a9d6"
      },
      "execution_count": null,
      "outputs": [
        {
          "output_type": "stream",
          "name": "stdout",
          "text": [
            "Mi lugar favorito nro 5 es\n",
            "Trujillo\n"
          ]
        }
      ]
    },
    {
      "cell_type": "code",
      "source": [
        "# Tipo de dato del elemento que se encuentra en la última posición de la lista lugares\n",
        "type(lugares[-1])"
      ],
      "metadata": {
        "colab": {
          "base_uri": "https://localhost:8080/"
        },
        "id": "yAzemdO3JlaT",
        "outputId": "dc05afde-6a9a-43ff-b2dc-b8458f762e73"
      },
      "execution_count": null,
      "outputs": [
        {
          "output_type": "execute_result",
          "data": {
            "text/plain": [
              "str"
            ]
          },
          "metadata": {},
          "execution_count": 39
        }
      ]
    },
    {
      "cell_type": "code",
      "source": [
        "print(f\"Mi lugar favorito nro 5 es\\n{lugares[-1].upper()}\")"
      ],
      "metadata": {
        "colab": {
          "base_uri": "https://localhost:8080/"
        },
        "id": "diFAbt0yNoDJ",
        "outputId": "8d78b48b-f734-4d4c-df2f-5b87b4642df6"
      },
      "execution_count": null,
      "outputs": [
        {
          "output_type": "stream",
          "name": "stdout",
          "text": [
            "Mi lugar favorito nro 5 es\n",
            "TRUJILLO\n"
          ]
        }
      ]
    },
    {
      "cell_type": "code",
      "source": [
        "print(f\"Mi lugar favorito nro 5 es\\n{lugares[-1].lower()}\")"
      ],
      "metadata": {
        "colab": {
          "base_uri": "https://localhost:8080/"
        },
        "id": "wGlHIDWjN4kW",
        "outputId": "ebf162c0-bc46-4aa1-82e7-1362753740b8"
      },
      "execution_count": null,
      "outputs": [
        {
          "output_type": "stream",
          "name": "stdout",
          "text": [
            "Mi lugar favorito nro 5 es\n",
            "trujillo\n"
          ]
        }
      ]
    },
    {
      "cell_type": "markdown",
      "source": [
        "### Actividad N004"
      ],
      "metadata": {
        "id": "FxP7Y1MSPOS_"
      }
    },
    {
      "cell_type": "code",
      "source": [
        "print(f\"La lista con mi información personal es \\n{info_personal}\")"
      ],
      "metadata": {
        "colab": {
          "base_uri": "https://localhost:8080/"
        },
        "id": "bvYh_IvAPTla",
        "outputId": "9b0988fd-8feb-4c21-f982-819585540c18"
      },
      "execution_count": null,
      "outputs": [
        {
          "output_type": "stream",
          "name": "stdout",
          "text": [
            "La lista con mi información personal es \n",
            "['David', 'Allende', 'Estadístico', 37, 'MISD Solutions', 13]\n"
          ]
        }
      ]
    },
    {
      "cell_type": "code",
      "source": [
        "print(f\"Hola, me llamo {info_personal[0]} {info_personal[1]} soy {info_personal[2]}, tengo {info_personal[3]} años, trabajo en la empresa {info_personal[4]} y tengo {info_personal[5]} de experiencia profesional.\")"
      ],
      "metadata": {
        "colab": {
          "base_uri": "https://localhost:8080/"
        },
        "id": "QiDAT4rDOAb5",
        "outputId": "bf8b2ef1-1133-4af2-f0f7-ca7dd99273d9"
      },
      "execution_count": null,
      "outputs": [
        {
          "output_type": "stream",
          "name": "stdout",
          "text": [
            "Hola, me llamo David Allende soy Estadístico, tengo 37 años, trabajo en la empresa MISD Solutions y tengo 13 de experiencia profesional.\n"
          ]
        }
      ]
    },
    {
      "cell_type": "markdown",
      "source": [
        "### Actividad N005"
      ],
      "metadata": {
        "id": "juljJXFbQRGZ"
      }
    },
    {
      "cell_type": "code",
      "source": [
        "marcas = ['nike','adidas','puma','new balance','walon']"
      ],
      "metadata": {
        "id": "vvQdSRtfPhfM"
      },
      "execution_count": null,
      "outputs": []
    },
    {
      "cell_type": "code",
      "source": [
        "print(f\"La lista marcas es \\n{marcas}\")"
      ],
      "metadata": {
        "colab": {
          "base_uri": "https://localhost:8080/"
        },
        "id": "dp4yWqmuQTm1",
        "outputId": "45d32d1f-fc31-48b2-b0c3-5f6ef62e4e3e"
      },
      "execution_count": null,
      "outputs": [
        {
          "output_type": "stream",
          "name": "stdout",
          "text": [
            "La lista marcas es \n",
            "['nike', 'adidas', 'puma', 'new balance', 'walon']\n"
          ]
        }
      ]
    },
    {
      "cell_type": "code",
      "source": [
        "print(f\"El último elemento de la lista marcas es {marcas[-1]}\")"
      ],
      "metadata": {
        "colab": {
          "base_uri": "https://localhost:8080/"
        },
        "id": "ZGO_Jm2xQTvQ",
        "outputId": "42b3314a-1f77-4b6b-c6e9-ca1dca64bef3"
      },
      "execution_count": null,
      "outputs": [
        {
          "output_type": "stream",
          "name": "stdout",
          "text": [
            "El último elemento de la lista marcas es walon\n"
          ]
        }
      ]
    },
    {
      "cell_type": "code",
      "source": [
        "print(f\"El último elemento de la lista marcas es {marcas[-1].capitalize()}\")"
      ],
      "metadata": {
        "colab": {
          "base_uri": "https://localhost:8080/"
        },
        "id": "Cx4JgPZvPQ8r",
        "outputId": "e46914ab-1e1c-4259-9998-f2f029767da7"
      },
      "execution_count": null,
      "outputs": [
        {
          "output_type": "stream",
          "name": "stdout",
          "text": [
            "El último elemento de la lista marcas es Walon\n"
          ]
        }
      ]
    },
    {
      "cell_type": "code",
      "source": [
        "marcas.append('Coca Cola') # append me permite añadir elementos al final de la lista\n",
        "print(f\"La lista marcas actualizada es \\n{marcas}\")"
      ],
      "metadata": {
        "colab": {
          "base_uri": "https://localhost:8080/"
        },
        "id": "w1TZQ78jRvuj",
        "outputId": "8d431277-bb5a-4b21-c819-8f1d01209364"
      },
      "execution_count": null,
      "outputs": [
        {
          "output_type": "stream",
          "name": "stdout",
          "text": [
            "La lista marcas actualizada es \n",
            "['nike', 'adidas', 'puma', 'new balance', 'walon', 'Coca Cola']\n"
          ]
        }
      ]
    },
    {
      "cell_type": "code",
      "source": [
        "for i in range(5):\n",
        "  print(i)"
      ],
      "metadata": {
        "colab": {
          "base_uri": "https://localhost:8080/"
        },
        "id": "iggJe9SfRTlu",
        "outputId": "aad73d37-9d32-4a7c-cfb8-677c30ab05d0"
      },
      "execution_count": null,
      "outputs": [
        {
          "output_type": "stream",
          "name": "stdout",
          "text": [
            "0\n",
            "1\n",
            "2\n",
            "3\n",
            "4\n"
          ]
        }
      ]
    },
    {
      "cell_type": "code",
      "source": [
        "# Ingresando elementos a una lista a partir de un bucle FOR por teclado\n",
        "marcas=[] # lista vacía\n",
        "for i in range(5):\n",
        "  ingreso_marcas = input(f\"Ingrese la marca # {i+1}: \").capitalize()\n",
        "  marcas.append(ingreso_marcas)\n",
        "print(f\"La lista marcas es \\n{marcas}\")\n",
        "print(f\"El último elemento ingresado a la lista marcas es {marcas[-1]}\")"
      ],
      "metadata": {
        "colab": {
          "base_uri": "https://localhost:8080/"
        },
        "id": "2-2_2XnvPRIo",
        "outputId": "8e2f3301-c1e2-4fcf-e531-2cc725dda93d"
      },
      "execution_count": null,
      "outputs": [
        {
          "output_type": "stream",
          "name": "stdout",
          "text": [
            "Ingrese la marca # 1: adidas\n",
            "Ingrese la marca # 2: nike\n",
            "Ingrese la marca # 3: tito\n",
            "Ingrese la marca # 4: tottus\n",
            "Ingrese la marca # 5: interbank\n",
            "La lista marcas es \n",
            "['Adidas', 'Nike', 'Tito', 'Tottus', 'Interbank']\n",
            "El último elemento ingresado a la lista marcas es Interbank\n"
          ]
        }
      ]
    },
    {
      "cell_type": "markdown",
      "source": [
        "## [5] Modificar los elementos de una lista"
      ],
      "metadata": {
        "id": "spxdb-gETn-s"
      }
    },
    {
      "cell_type": "code",
      "source": [
        "print(f\"Mi lista de marcas favoritas es \\n{marcas}\")"
      ],
      "metadata": {
        "colab": {
          "base_uri": "https://localhost:8080/"
        },
        "id": "0yjFCqlCPRVg",
        "outputId": "d49f0aa9-7d6b-48b6-97c1-4c947773468e"
      },
      "execution_count": null,
      "outputs": [
        {
          "output_type": "stream",
          "name": "stdout",
          "text": [
            "Mi lista de marcas favoritas es \n",
            "['Adidas', 'Nike', 'Tito', 'Tottus', 'Interbank']\n"
          ]
        }
      ]
    },
    {
      "cell_type": "code",
      "source": [
        "marcas[-1] = 'BCP'"
      ],
      "metadata": {
        "id": "mJstR4upT0OC"
      },
      "execution_count": null,
      "outputs": []
    },
    {
      "cell_type": "code",
      "source": [
        "print(f\"Mi lista actualizada de marcas favoritas es \\n{marcas}\")"
      ],
      "metadata": {
        "colab": {
          "base_uri": "https://localhost:8080/"
        },
        "id": "sTeRKm_6T-D-",
        "outputId": "181a5838-4e32-475b-e871-be8a363024bb"
      },
      "execution_count": null,
      "outputs": [
        {
          "output_type": "stream",
          "name": "stdout",
          "text": [
            "Mi lista actualizada de marcas favoritas es \n",
            "['Adidas', 'Nike', 'Tito', 'Tottus', 'BCP']\n"
          ]
        }
      ]
    },
    {
      "cell_type": "markdown",
      "source": [
        "### Actividad N006"
      ],
      "metadata": {
        "id": "TUl-Pke9VR-B"
      }
    },
    {
      "cell_type": "code",
      "source": [
        "nombre = 'Juan'\n",
        "apellidoPaterno = 'Alarcon'\n",
        "profesion = 'Sistemas'\n",
        "edad = 38\n",
        "centroLaboral = 'Scotiabank Peru'\n",
        "aniosExperiencia = 15\n",
        "\n",
        "info_personal = [nombre,apellidoPaterno,profesion,edad,centroLaboral,aniosExperiencia]\n",
        "print(f\"Mi informacion personal es \\n {info_personal}\")\n",
        "info_personal[4]=\"BBVA\"\n",
        "print(f\"\\nMi informacion personal es actaulizada \\n {info_personal}\")"
      ],
      "metadata": {
        "colab": {
          "base_uri": "https://localhost:8080/"
        },
        "id": "iHEwQmuYUBOq",
        "outputId": "3551ce64-0b58-445c-e73f-b74794ee34f6"
      },
      "execution_count": null,
      "outputs": [
        {
          "output_type": "stream",
          "name": "stdout",
          "text": [
            "Mi informacion personal es \n",
            " ['Juan', 'Alarcon', 'Sistemas', 38, 'Scotiabank Peru', 15]\n",
            "\n",
            "Mi informacion personal es actaulizada \n",
            " ['Juan', 'Alarcon', 'Sistemas', 38, 'BBVA', 15]\n"
          ]
        }
      ]
    },
    {
      "cell_type": "markdown",
      "source": [
        "## [6] Añadir elementos a una lista"
      ],
      "metadata": {
        "id": "-8X7_uT2V4ud"
      }
    },
    {
      "cell_type": "markdown",
      "source": [
        "### [6.1] Método .append()"
      ],
      "metadata": {
        "id": "309jHIHgWY1I"
      }
    },
    {
      "cell_type": "markdown",
      "source": [
        "### Actividad N007"
      ],
      "metadata": {
        "id": "Vj9PmxmiV_3w"
      }
    },
    {
      "cell_type": "code",
      "source": [
        "print(f\"Mis lugares favoritos para visitar son : \\n{lugares}\")"
      ],
      "metadata": {
        "colab": {
          "base_uri": "https://localhost:8080/"
        },
        "id": "ekAkk97nVXX0",
        "outputId": "a6dbaff8-525c-46a2-9584-a4e05b7cfaea"
      },
      "execution_count": null,
      "outputs": [
        {
          "output_type": "stream",
          "name": "stdout",
          "text": [
            "Mis lugares favoritos para visitar son : \n",
            "['Arequipa', 'Selva central', 'Cuzco', 'Ica', 'Trujillo']\n"
          ]
        }
      ]
    },
    {
      "cell_type": "code",
      "source": [
        "lugares.append('Amazonas')\n",
        "print(f\"La lista de lugares actualizada es \\n{lugares}\")"
      ],
      "metadata": {
        "colab": {
          "base_uri": "https://localhost:8080/"
        },
        "id": "kxRuUEmHWIPx",
        "outputId": "6241402e-e099-476f-e7fa-950a19bf61d4"
      },
      "execution_count": null,
      "outputs": [
        {
          "output_type": "stream",
          "name": "stdout",
          "text": [
            "La lista de lugares actualizada es \n",
            "['Arequipa', 'Selva central', 'Cuzco', 'Ica', 'Trujillo', 'Amazonas']\n"
          ]
        }
      ]
    },
    {
      "cell_type": "markdown",
      "source": [
        "### [6.2] Método .insert()"
      ],
      "metadata": {
        "id": "riq9UGJtWi8K"
      }
    },
    {
      "cell_type": "markdown",
      "source": [
        "### Actividad N008"
      ],
      "metadata": {
        "id": "H3uOEl6uXIky"
      }
    },
    {
      "cell_type": "code",
      "source": [
        "print(f\"La lista de mi información personal es \\n{info_personal}\")"
      ],
      "metadata": {
        "colab": {
          "base_uri": "https://localhost:8080/"
        },
        "id": "m31ZyA-5WTxR",
        "outputId": "28772c35-c457-40a6-8866-221e2fb43930"
      },
      "execution_count": null,
      "outputs": [
        {
          "output_type": "stream",
          "name": "stdout",
          "text": [
            "La lista de mi información personal es \n",
            "['Juan', 'Alarcon', 'Sistemas', 38, 'BBVA', 15]\n"
          ]
        }
      ]
    },
    {
      "cell_type": "code",
      "source": [
        "info_personal.insert(3,'Utec')"
      ],
      "metadata": {
        "id": "sA_kXGgHYfaV"
      },
      "execution_count": null,
      "outputs": []
    },
    {
      "cell_type": "code",
      "source": [
        "print(f\"Hola, me llamo {info_personal[0]} {info_personal[1]} soy {info_personal[2]}, estudié en la institución {info_personal[3].upper()}, tengo {info_personal[4]} años, trabajo en la empresa {info_personal[5]} y tengo {info_personal[6]} años de experiencia profesional.\")"
      ],
      "metadata": {
        "colab": {
          "base_uri": "https://localhost:8080/"
        },
        "id": "RsBrsyW_YuWm",
        "outputId": "02e47808-ca95-47b4-bf54-f5580f69eb34"
      },
      "execution_count": null,
      "outputs": [
        {
          "output_type": "stream",
          "name": "stdout",
          "text": [
            "Hola, me llamo Juan Alarcon soy Sistemas, estudié en la institución UTEC, tengo 38 años, trabajo en la empresa BBVA y tengo 15 años de experiencia profesional.\n"
          ]
        }
      ]
    },
    {
      "cell_type": "markdown",
      "source": [
        "## [7] Eliminar elementos de una lista"
      ],
      "metadata": {
        "id": "s2K4zESAaD2q"
      }
    },
    {
      "cell_type": "markdown",
      "source": [
        "### [7.1] Método del"
      ],
      "metadata": {
        "id": "gzTYdk4MaJSM"
      }
    },
    {
      "cell_type": "markdown",
      "source": [
        "### Actividad N009"
      ],
      "metadata": {
        "id": "SS4xUVztaWfZ"
      }
    },
    {
      "cell_type": "code",
      "source": [
        "print(f\"La lista marcas es \\n{marcas}\")"
      ],
      "metadata": {
        "colab": {
          "base_uri": "https://localhost:8080/"
        },
        "id": "HpZ6ytz4ZTN-",
        "outputId": "8afeebe8-e753-409c-de7d-494a59054a4f"
      },
      "execution_count": null,
      "outputs": [
        {
          "output_type": "stream",
          "name": "stdout",
          "text": [
            "La lista marcas es \n",
            "['Adidas', 'Nike', 'Tito', 'Tottus', 'BCP']\n"
          ]
        }
      ]
    },
    {
      "cell_type": "code",
      "source": [
        "del marcas[1]\n",
        "print(f\"La lista marcas es \\n{marcas}\")"
      ],
      "metadata": {
        "colab": {
          "base_uri": "https://localhost:8080/"
        },
        "id": "ZDTEC-HIacs4",
        "outputId": "262afaeb-e73c-4a0a-da01-aea2803d411a"
      },
      "execution_count": null,
      "outputs": [
        {
          "output_type": "stream",
          "name": "stdout",
          "text": [
            "La lista marcas es \n",
            "['Adidas', 'Tito', 'Tottus', 'BCP']\n"
          ]
        }
      ]
    },
    {
      "cell_type": "code",
      "source": [],
      "metadata": {
        "id": "FTfx9isJai-e"
      },
      "execution_count": null,
      "outputs": []
    }
  ]
}