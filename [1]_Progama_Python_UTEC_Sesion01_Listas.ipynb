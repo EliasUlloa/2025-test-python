{
  "nbformat": 4,
  "nbformat_minor": 0,
  "metadata": {
    "colab": {
      "provenance": [],
      "include_colab_link": true
    },
    "kernelspec": {
      "name": "python3",
      "display_name": "Python 3"
    },
    "language_info": {
      "name": "python"
    }
  },
  "cells": [
    {
      "cell_type": "markdown",
      "metadata": {
        "id": "view-in-github",
        "colab_type": "text"
      },
      "source": [
        "<a href=\"https://colab.research.google.com/github/EliasUlloa/2025-test-python/blob/main/%5B1%5D_Progama_Python_UTEC_Sesion01_Listas.ipynb\" target=\"_parent\"><img src=\"https://colab.research.google.com/assets/colab-badge.svg\" alt=\"Open In Colab\"/></a>"
      ]
    },
    {
      "cell_type": "markdown",
      "source": [
        "## [1] Ejemplos de resultados en Python (listas)"
      ],
      "metadata": {
        "id": "QtqxsCNE8PTi"
      }
    },
    {
      "cell_type": "markdown",
      "source": [
        "### [1.1] De expresiones regulares"
      ],
      "metadata": {
        "id": "JLRcga_w8X_k"
      }
    },
    {
      "cell_type": "code",
      "execution_count": null,
      "metadata": {
        "id": "mGTakFJF2WUs"
      },
      "outputs": [],
      "source": [
        "import re"
      ]
    },
    {
      "cell_type": "code",
      "source": [
        "texto = \"Mi correo personal es david.allendeq@gmail.com y mi correo corporativo es david.allende@misdsolutions.com\""
      ],
      "metadata": {
        "id": "qS8JfnTE9L4z"
      },
      "execution_count": null,
      "outputs": []
    },
    {
      "cell_type": "code",
      "source": [
        "print(texto)"
      ],
      "metadata": {
        "colab": {
          "base_uri": "https://localhost:8080/"
        },
        "id": "XEDrhe389aQK",
        "outputId": "db882283-ad9f-4451-f391-0eacfe930fe5"
      },
      "execution_count": null,
      "outputs": [
        {
          "output_type": "stream",
          "name": "stdout",
          "text": [
            "Mi correo personal es david.allendeq@gmail.com y mi correo corporativo es david.allende@misdsolutions.com\n"
          ]
        }
      ]
    },
    {
      "cell_type": "code",
      "source": [
        "correos = re.findall(r'\\S+@\\S+',texto)"
      ],
      "metadata": {
        "id": "Mb1qsIMx9dEF"
      },
      "execution_count": null,
      "outputs": []
    },
    {
      "cell_type": "code",
      "source": [
        "print(correos)"
      ],
      "metadata": {
        "colab": {
          "base_uri": "https://localhost:8080/"
        },
        "id": "m_N0hRpa-GZU",
        "outputId": "649e0621-8cdf-40a0-ebae-34a6068c000a"
      },
      "execution_count": null,
      "outputs": [
        {
          "output_type": "stream",
          "name": "stdout",
          "text": [
            "['david.allendeq@gmail.com', 'david.allende@misdsolutions.com']\n"
          ]
        }
      ]
    },
    {
      "cell_type": "code",
      "source": [
        "type(correos)"
      ],
      "metadata": {
        "colab": {
          "base_uri": "https://localhost:8080/"
        },
        "id": "oz2dcwtE-IHu",
        "outputId": "1d2e4f45-1596-4f5e-d266-9a1f19245af3"
      },
      "execution_count": null,
      "outputs": [
        {
          "output_type": "execute_result",
          "data": {
            "text/plain": [
              "list"
            ]
          },
          "metadata": {},
          "execution_count": 6
        }
      ]
    },
    {
      "cell_type": "markdown",
      "source": [
        "### [1.2] Del uso de librerías"
      ],
      "metadata": {
        "id": "nhtuFV9TAFZe"
      }
    },
    {
      "cell_type": "code",
      "source": [
        "import sys\n",
        "\n",
        "sys.path"
      ],
      "metadata": {
        "colab": {
          "base_uri": "https://localhost:8080/"
        },
        "id": "omC9T7A8-ise",
        "outputId": "58008b82-a3bc-4532-c5b3-19beb97c15bc"
      },
      "execution_count": null,
      "outputs": [
        {
          "output_type": "execute_result",
          "data": {
            "text/plain": [
              "['/content',\n",
              " '/env/python',\n",
              " '/usr/lib/python312.zip',\n",
              " '/usr/lib/python3.12',\n",
              " '/usr/lib/python3.12/lib-dynload',\n",
              " '',\n",
              " '/usr/local/lib/python3.12/dist-packages',\n",
              " '/usr/lib/python3/dist-packages',\n",
              " '/usr/local/lib/python3.12/dist-packages/IPython/extensions',\n",
              " '/root/.ipython']"
            ]
          },
          "metadata": {},
          "execution_count": 7
        }
      ]
    },
    {
      "cell_type": "code",
      "source": [
        "type(sys.path)"
      ],
      "metadata": {
        "colab": {
          "base_uri": "https://localhost:8080/"
        },
        "id": "sasmuyX6AL9F",
        "outputId": "4ed08a2c-f856-4eb1-95de-bc3fca041ae6"
      },
      "execution_count": null,
      "outputs": [
        {
          "output_type": "execute_result",
          "data": {
            "text/plain": [
              "list"
            ]
          },
          "metadata": {},
          "execution_count": 8
        }
      ]
    },
    {
      "cell_type": "markdown",
      "source": [
        "### [1.3] De Dataframes"
      ],
      "metadata": {
        "id": "mXJpT36vAvhU"
      }
    },
    {
      "cell_type": "code",
      "source": [
        "import pandas as pd"
      ],
      "metadata": {
        "id": "uCgp6iDqAlBY"
      },
      "execution_count": null,
      "outputs": []
    },
    {
      "cell_type": "code",
      "source": [
        "df = pd.read_csv(\"/content/clientes.csv\",sep=';')"
      ],
      "metadata": {
        "id": "3TMN8AxJBHgv"
      },
      "execution_count": null,
      "outputs": []
    },
    {
      "cell_type": "code",
      "source": [
        "print(df)"
      ],
      "metadata": {
        "colab": {
          "base_uri": "https://localhost:8080/"
        },
        "id": "ZQsL8VcSCcGN",
        "outputId": "6e05ed13-a39b-4412-916e-7e83827bf22d"
      },
      "execution_count": null,
      "outputs": [
        {
          "output_type": "stream",
          "name": "stdout",
          "text": [
            "    ID  EDAD  INGRESOS RIESGO  LINEA_TC\n",
            "0  123    36      1348      A     49924\n",
            "1  234    52      9479      A     28454\n",
            "2  345    60      7511      B     14250\n",
            "3  456    40      7992      C     32064\n",
            "4  567    58      2675      C      1485\n",
            "5  678    47      7086      D     29157\n",
            "6  789    31      4704      E     14945\n",
            "7  999    42      6245      E      8798\n"
          ]
        }
      ]
    },
    {
      "cell_type": "code",
      "source": [
        "type(df)"
      ],
      "metadata": {
        "colab": {
          "base_uri": "https://localhost:8080/",
          "height": 203
        },
        "id": "okR8rmUHChig",
        "outputId": "d75fd23d-f1af-44fe-cb4b-8f8e9380326a"
      },
      "execution_count": null,
      "outputs": [
        {
          "output_type": "execute_result",
          "data": {
            "text/plain": [
              "pandas.core.frame.DataFrame"
            ],
            "text/html": [
              "<div style=\"max-width:800px; border: 1px solid var(--colab-border-color);\"><style>\n",
              "      pre.function-repr-contents {\n",
              "        overflow-x: auto;\n",
              "        padding: 8px 12px;\n",
              "        max-height: 500px;\n",
              "      }\n",
              "\n",
              "      pre.function-repr-contents.function-repr-contents-collapsed {\n",
              "        cursor: pointer;\n",
              "        max-height: 100px;\n",
              "      }\n",
              "    </style>\n",
              "    <pre style=\"white-space: initial; background:\n",
              "         var(--colab-secondary-surface-color); padding: 8px 12px;\n",
              "         border-bottom: 1px solid var(--colab-border-color);\"><b>pandas.core.frame.DataFrame</b><br/>def __init__(data=None, index: Axes | None=None, columns: Axes | None=None, dtype: Dtype | None=None, copy: bool | None=None) -&gt; None</pre><pre class=\"function-repr-contents function-repr-contents-collapsed\" style=\"\"><a class=\"filepath\" style=\"display:none\" href=\"#\">/usr/local/lib/python3.12/dist-packages/pandas/core/frame.py</a>Two-dimensional, size-mutable, potentially heterogeneous tabular data.\n",
              "\n",
              "Data structure also contains labeled axes (rows and columns).\n",
              "Arithmetic operations align on both row and column labels. Can be\n",
              "thought of as a dict-like container for Series objects. The primary\n",
              "pandas data structure.\n",
              "\n",
              "Parameters\n",
              "----------\n",
              "data : ndarray (structured or homogeneous), Iterable, dict, or DataFrame\n",
              "    Dict can contain Series, arrays, constants, dataclass or list-like objects. If\n",
              "    data is a dict, column order follows insertion-order. If a dict contains Series\n",
              "    which have an index defined, it is aligned by its index. This alignment also\n",
              "    occurs if data is a Series or a DataFrame itself. Alignment is done on\n",
              "    Series/DataFrame inputs.\n",
              "\n",
              "    If data is a list of dicts, column order follows insertion-order.\n",
              "\n",
              "index : Index or array-like\n",
              "    Index to use for resulting frame. Will default to RangeIndex if\n",
              "    no indexing information part of input data and no index provided.\n",
              "columns : Index or array-like\n",
              "    Column labels to use for resulting frame when data does not have them,\n",
              "    defaulting to RangeIndex(0, 1, 2, ..., n). If data contains column labels,\n",
              "    will perform column selection instead.\n",
              "dtype : dtype, default None\n",
              "    Data type to force. Only a single dtype is allowed. If None, infer.\n",
              "copy : bool or None, default None\n",
              "    Copy data from inputs.\n",
              "    For dict data, the default of None behaves like ``copy=True``.  For DataFrame\n",
              "    or 2d ndarray input, the default of None behaves like ``copy=False``.\n",
              "    If data is a dict containing one or more Series (possibly of different dtypes),\n",
              "    ``copy=False`` will ensure that these inputs are not copied.\n",
              "\n",
              "    .. versionchanged:: 1.3.0\n",
              "\n",
              "See Also\n",
              "--------\n",
              "DataFrame.from_records : Constructor from tuples, also record arrays.\n",
              "DataFrame.from_dict : From dicts of Series, arrays, or dicts.\n",
              "read_csv : Read a comma-separated values (csv) file into DataFrame.\n",
              "read_table : Read general delimited file into DataFrame.\n",
              "read_clipboard : Read text from clipboard into DataFrame.\n",
              "\n",
              "Notes\n",
              "-----\n",
              "Please reference the :ref:`User Guide &lt;basics.dataframe&gt;` for more information.\n",
              "\n",
              "Examples\n",
              "--------\n",
              "Constructing DataFrame from a dictionary.\n",
              "\n",
              "&gt;&gt;&gt; d = {&#x27;col1&#x27;: [1, 2], &#x27;col2&#x27;: [3, 4]}\n",
              "&gt;&gt;&gt; df = pd.DataFrame(data=d)\n",
              "&gt;&gt;&gt; df\n",
              "   col1  col2\n",
              "0     1     3\n",
              "1     2     4\n",
              "\n",
              "Notice that the inferred dtype is int64.\n",
              "\n",
              "&gt;&gt;&gt; df.dtypes\n",
              "col1    int64\n",
              "col2    int64\n",
              "dtype: object\n",
              "\n",
              "To enforce a single dtype:\n",
              "\n",
              "&gt;&gt;&gt; df = pd.DataFrame(data=d, dtype=np.int8)\n",
              "&gt;&gt;&gt; df.dtypes\n",
              "col1    int8\n",
              "col2    int8\n",
              "dtype: object\n",
              "\n",
              "Constructing DataFrame from a dictionary including Series:\n",
              "\n",
              "&gt;&gt;&gt; d = {&#x27;col1&#x27;: [0, 1, 2, 3], &#x27;col2&#x27;: pd.Series([2, 3], index=[2, 3])}\n",
              "&gt;&gt;&gt; pd.DataFrame(data=d, index=[0, 1, 2, 3])\n",
              "   col1  col2\n",
              "0     0   NaN\n",
              "1     1   NaN\n",
              "2     2   2.0\n",
              "3     3   3.0\n",
              "\n",
              "Constructing DataFrame from numpy ndarray:\n",
              "\n",
              "&gt;&gt;&gt; df2 = pd.DataFrame(np.array([[1, 2, 3], [4, 5, 6], [7, 8, 9]]),\n",
              "...                    columns=[&#x27;a&#x27;, &#x27;b&#x27;, &#x27;c&#x27;])\n",
              "&gt;&gt;&gt; df2\n",
              "   a  b  c\n",
              "0  1  2  3\n",
              "1  4  5  6\n",
              "2  7  8  9\n",
              "\n",
              "Constructing DataFrame from a numpy ndarray that has labeled columns:\n",
              "\n",
              "&gt;&gt;&gt; data = np.array([(1, 2, 3), (4, 5, 6), (7, 8, 9)],\n",
              "...                 dtype=[(&quot;a&quot;, &quot;i4&quot;), (&quot;b&quot;, &quot;i4&quot;), (&quot;c&quot;, &quot;i4&quot;)])\n",
              "&gt;&gt;&gt; df3 = pd.DataFrame(data, columns=[&#x27;c&#x27;, &#x27;a&#x27;])\n",
              "...\n",
              "&gt;&gt;&gt; df3\n",
              "   c  a\n",
              "0  3  1\n",
              "1  6  4\n",
              "2  9  7\n",
              "\n",
              "Constructing DataFrame from dataclass:\n",
              "\n",
              "&gt;&gt;&gt; from dataclasses import make_dataclass\n",
              "&gt;&gt;&gt; Point = make_dataclass(&quot;Point&quot;, [(&quot;x&quot;, int), (&quot;y&quot;, int)])\n",
              "&gt;&gt;&gt; pd.DataFrame([Point(0, 0), Point(0, 3), Point(2, 3)])\n",
              "   x  y\n",
              "0  0  0\n",
              "1  0  3\n",
              "2  2  3\n",
              "\n",
              "Constructing DataFrame from Series/DataFrame:\n",
              "\n",
              "&gt;&gt;&gt; ser = pd.Series([1, 2, 3], index=[&quot;a&quot;, &quot;b&quot;, &quot;c&quot;])\n",
              "&gt;&gt;&gt; df = pd.DataFrame(data=ser, index=[&quot;a&quot;, &quot;c&quot;])\n",
              "&gt;&gt;&gt; df\n",
              "   0\n",
              "a  1\n",
              "c  3\n",
              "\n",
              "&gt;&gt;&gt; df1 = pd.DataFrame([1, 2, 3], index=[&quot;a&quot;, &quot;b&quot;, &quot;c&quot;], columns=[&quot;x&quot;])\n",
              "&gt;&gt;&gt; df2 = pd.DataFrame(data=df1, index=[&quot;a&quot;, &quot;c&quot;])\n",
              "&gt;&gt;&gt; df2\n",
              "   x\n",
              "a  1\n",
              "c  3</pre>\n",
              "      <script>\n",
              "      if (google.colab.kernel.accessAllowed && google.colab.files && google.colab.files.view) {\n",
              "        for (const element of document.querySelectorAll('.filepath')) {\n",
              "          element.style.display = 'block'\n",
              "          element.onclick = (event) => {\n",
              "            event.preventDefault();\n",
              "            event.stopPropagation();\n",
              "            google.colab.files.view(element.textContent, 509);\n",
              "          };\n",
              "        }\n",
              "      }\n",
              "      for (const element of document.querySelectorAll('.function-repr-contents')) {\n",
              "        element.onclick = (event) => {\n",
              "          event.preventDefault();\n",
              "          event.stopPropagation();\n",
              "          element.classList.toggle('function-repr-contents-collapsed');\n",
              "        };\n",
              "      }\n",
              "      </script>\n",
              "      </div>"
            ]
          },
          "metadata": {},
          "execution_count": 12
        }
      ]
    },
    {
      "cell_type": "code",
      "source": [
        "variables = df.columns.to_list()\n",
        "variables"
      ],
      "metadata": {
        "colab": {
          "base_uri": "https://localhost:8080/"
        },
        "id": "ve5X9CdRC34K",
        "outputId": "48ae71be-7d22-4d94-bb61-48394402a59d"
      },
      "execution_count": null,
      "outputs": [
        {
          "output_type": "execute_result",
          "data": {
            "text/plain": [
              "['ID', 'EDAD', 'INGRESOS', 'RIESGO', 'LINEA_TC']"
            ]
          },
          "metadata": {},
          "execution_count": 13
        }
      ]
    },
    {
      "cell_type": "code",
      "source": [
        "type(variables)"
      ],
      "metadata": {
        "colab": {
          "base_uri": "https://localhost:8080/"
        },
        "id": "gPgFXIpTDAMY",
        "outputId": "8d84ae2c-2147-49b4-bcb5-c51e478d97aa"
      },
      "execution_count": null,
      "outputs": [
        {
          "output_type": "execute_result",
          "data": {
            "text/plain": [
              "list"
            ]
          },
          "metadata": {},
          "execution_count": 14
        }
      ]
    },
    {
      "cell_type": "markdown",
      "source": [
        "## [2] Creación de listas"
      ],
      "metadata": {
        "id": "5yfHvg4WGAao"
      }
    },
    {
      "cell_type": "markdown",
      "source": [
        "### Actividad N001"
      ],
      "metadata": {
        "id": "hIMlXq-eEiCi"
      }
    },
    {
      "cell_type": "code",
      "source": [
        "# Lista de mis 5 lugares favoritos para vacacionar\n",
        "lugares=[\"Arequipa\", \"Selva central\", \"Cuzco\", \"Ica\",\"Trujillo\"]"
      ],
      "metadata": {
        "id": "o2UT5tHyDL2E"
      },
      "execution_count": null,
      "outputs": []
    },
    {
      "cell_type": "code",
      "source": [
        "print(f\"Mis lugares favoritos para vacacionar son \\n{lugares}\")"
      ],
      "metadata": {
        "colab": {
          "base_uri": "https://localhost:8080/"
        },
        "id": "IjuuM0lXEnJl",
        "outputId": "daa2f8aa-073f-4cac-a9cf-e544d714bc9e"
      },
      "execution_count": null,
      "outputs": [
        {
          "output_type": "stream",
          "name": "stdout",
          "text": [
            "Mis lugares favoritos para vacacionar son \n",
            "['Arequipa', 'Selva central', 'Cuzco', 'Ica', 'Trujillo']\n"
          ]
        }
      ]
    },
    {
      "cell_type": "markdown",
      "source": [
        "## [3] Tipos de listas"
      ],
      "metadata": {
        "id": "cdH8s7AxGG9r"
      }
    },
    {
      "cell_type": "markdown",
      "source": [
        "### Actividad N002"
      ],
      "metadata": {
        "id": "YqqzIWTUF4_J"
      }
    },
    {
      "cell_type": "code",
      "source": [
        "nombre = 'David'\n",
        "apellidoPaterno = 'Allende'\n",
        "profesion = 'Estadístico'\n",
        "edad = 37\n",
        "centroLaboral = 'MISD Solutions'\n",
        "aniosExperiencia = 13"
      ],
      "metadata": {
        "id": "-jvVl9sJE94I"
      },
      "execution_count": null,
      "outputs": []
    },
    {
      "cell_type": "code",
      "source": [
        "print(aniosExperiencia)"
      ],
      "metadata": {
        "colab": {
          "base_uri": "https://localhost:8080/"
        },
        "id": "eD6_i3MUGcGr",
        "outputId": "7e018259-935a-4639-9547-28a9e6d77375"
      },
      "execution_count": null,
      "outputs": [
        {
          "output_type": "stream",
          "name": "stdout",
          "text": [
            "13\n"
          ]
        }
      ]
    },
    {
      "cell_type": "code",
      "source": [
        "info_personal = [nombre,apellidoPaterno,profesion,edad,centroLaboral,aniosExperiencia]"
      ],
      "metadata": {
        "id": "YLDLzD4NGwdj"
      },
      "execution_count": null,
      "outputs": []
    },
    {
      "cell_type": "code",
      "source": [
        "type(info_personal)"
      ],
      "metadata": {
        "colab": {
          "base_uri": "https://localhost:8080/"
        },
        "id": "g42JiLVeHDS-",
        "outputId": "946e9e54-b61b-4f03-ebb3-258dbf2b2a07"
      },
      "execution_count": null,
      "outputs": [
        {
          "output_type": "execute_result",
          "data": {
            "text/plain": [
              "list"
            ]
          },
          "metadata": {},
          "execution_count": 20
        }
      ]
    },
    {
      "cell_type": "code",
      "source": [
        "print(f\"Mi lista con mi información personal es \\n{info_personal}\")"
      ],
      "metadata": {
        "colab": {
          "base_uri": "https://localhost:8080/"
        },
        "id": "Q6sBHM2IHH28",
        "outputId": "97e5dcbd-1ed2-4dc0-af43-13613ca86ed7"
      },
      "execution_count": null,
      "outputs": [
        {
          "output_type": "stream",
          "name": "stdout",
          "text": [
            "Mi lista con mi información personal es \n",
            "['David', 'Allende', 'Estadístico', 37, 'MISD Solutions', 13]\n"
          ]
        }
      ]
    },
    {
      "cell_type": "markdown",
      "source": [
        "## [4] Acceder a los elementos de una lista"
      ],
      "metadata": {
        "id": "r8FA4GH-IfSa"
      }
    },
    {
      "cell_type": "markdown",
      "source": [
        "### Actividad N003"
      ],
      "metadata": {
        "id": "N-mvFeDUIku6"
      }
    },
    {
      "cell_type": "code",
      "source": [
        "print(f\"La lista de mis 5 lugares favoritos es \\n{lugares}\")"
      ],
      "metadata": {
        "colab": {
          "base_uri": "https://localhost:8080/"
        },
        "id": "4fVHA92CIwuH",
        "outputId": "4e3458c0-a958-48bc-eef6-473e3203f533"
      },
      "execution_count": null,
      "outputs": [
        {
          "output_type": "stream",
          "name": "stdout",
          "text": [
            "La lista de mis 5 lugares favoritos es \n",
            "['Arequipa', 'Selva central', 'Cuzco', 'Ica', 'Trujillo']\n"
          ]
        }
      ]
    },
    {
      "cell_type": "code",
      "source": [
        "print(f\"El tercer lugar es {lugares[2]}\")"
      ],
      "metadata": {
        "colab": {
          "base_uri": "https://localhost:8080/"
        },
        "id": "7BdR1jGpHPXW",
        "outputId": "5b34883f-173c-4947-cae5-353ad2a5fb4f"
      },
      "execution_count": null,
      "outputs": [
        {
          "output_type": "stream",
          "name": "stdout",
          "text": [
            "El tercer lugar es Cuzco\n"
          ]
        }
      ]
    },
    {
      "cell_type": "code",
      "source": [
        "print(f\"Mi lugar favorito nro 3 es\\n{lugares[3]}\")"
      ],
      "metadata": {
        "colab": {
          "base_uri": "https://localhost:8080/",
          "height": 141
        },
        "id": "VsA1nsrkJZly",
        "outputId": "11b0b8d1-22b1-4a06-f951-24b71fc799a1"
      },
      "execution_count": 1,
      "outputs": [
        {
          "output_type": "error",
          "ename": "NameError",
          "evalue": "name 'lugares' is not defined",
          "traceback": [
            "\u001b[0;31m---------------------------------------------------------------------------\u001b[0m",
            "\u001b[0;31mNameError\u001b[0m                                 Traceback (most recent call last)",
            "\u001b[0;32m/tmp/ipython-input-1522360112.py\u001b[0m in \u001b[0;36m<cell line: 0>\u001b[0;34m()\u001b[0m\n\u001b[0;32m----> 1\u001b[0;31m \u001b[0mprint\u001b[0m\u001b[0;34m(\u001b[0m\u001b[0;34mf\"Mi lugar favorito nro 3 es\\n{lugares[3]}\"\u001b[0m\u001b[0;34m)\u001b[0m\u001b[0;34m\u001b[0m\u001b[0;34m\u001b[0m\u001b[0m\n\u001b[0m",
            "\u001b[0;31mNameError\u001b[0m: name 'lugares' is not defined"
          ]
        }
      ]
    },
    {
      "cell_type": "code",
      "source": [
        "print(f\"Mi lugar favorito nro 5 es\\n{lugares[-1]}\")"
      ],
      "metadata": {
        "colab": {
          "base_uri": "https://localhost:8080/"
        },
        "id": "Iq1O7Q23KQji",
        "outputId": "4787500a-0d32-49e5-c856-4101f9c9a042"
      },
      "execution_count": null,
      "outputs": [
        {
          "output_type": "stream",
          "name": "stdout",
          "text": [
            "Mi lugar favorito nro 5 es\n",
            "Trujillo\n"
          ]
        }
      ]
    },
    {
      "cell_type": "code",
      "source": [
        "# Tipo de dato del elemento que se encuentra en la última posición de la lista lugares\n",
        "type(lugares[-1])"
      ],
      "metadata": {
        "colab": {
          "base_uri": "https://localhost:8080/"
        },
        "id": "yAzemdO3JlaT",
        "outputId": "2dc52161-6656-467e-c5e1-d31cc49fbc3a"
      },
      "execution_count": null,
      "outputs": [
        {
          "output_type": "execute_result",
          "data": {
            "text/plain": [
              "str"
            ]
          },
          "metadata": {},
          "execution_count": 26
        }
      ]
    },
    {
      "cell_type": "code",
      "source": [
        "print(f\"Mi lugar favorito nro 5 es\\n{lugares[-1].upper()}\")"
      ],
      "metadata": {
        "colab": {
          "base_uri": "https://localhost:8080/"
        },
        "id": "diFAbt0yNoDJ",
        "outputId": "ca1dd247-6512-473b-c3dd-cdd16602e262"
      },
      "execution_count": null,
      "outputs": [
        {
          "output_type": "stream",
          "name": "stdout",
          "text": [
            "Mi lugar favorito nro 5 es\n",
            "TRUJILLO\n"
          ]
        }
      ]
    },
    {
      "cell_type": "code",
      "source": [
        "print(f\"Mi lugar favorito nro 5 es\\n{lugares[-1].lower()}\")"
      ],
      "metadata": {
        "colab": {
          "base_uri": "https://localhost:8080/"
        },
        "id": "wGlHIDWjN4kW",
        "outputId": "7863fdd5-5bfe-4d6e-b42a-d70336441df8"
      },
      "execution_count": null,
      "outputs": [
        {
          "output_type": "stream",
          "name": "stdout",
          "text": [
            "Mi lugar favorito nro 5 es\n",
            "trujillo\n"
          ]
        }
      ]
    },
    {
      "cell_type": "markdown",
      "source": [
        "### Actividad N004"
      ],
      "metadata": {
        "id": "FxP7Y1MSPOS_"
      }
    },
    {
      "cell_type": "code",
      "source": [
        "print(f\"La lista con mi información personal es \\n{info_personal}\")"
      ],
      "metadata": {
        "colab": {
          "base_uri": "https://localhost:8080/"
        },
        "id": "bvYh_IvAPTla",
        "outputId": "bcebf6fb-5013-4871-af16-443260ea4dbc"
      },
      "execution_count": null,
      "outputs": [
        {
          "output_type": "stream",
          "name": "stdout",
          "text": [
            "La lista con mi información personal es \n",
            "['David', 'Allende', 'Estadístico', 37, 'MISD Solutions', 13]\n"
          ]
        }
      ]
    },
    {
      "cell_type": "code",
      "source": [
        "print(f\"Hola, me llamo {info_personal[0]} {info_personal[1]} soy {info_personal[2]}, tengo {info_personal[3]} años, trabajo en la empresa {info_personal[4]} y tengo {info_personal[5]} de experiencia profesional.\")"
      ],
      "metadata": {
        "colab": {
          "base_uri": "https://localhost:8080/"
        },
        "id": "QiDAT4rDOAb5",
        "outputId": "4bfed96e-783b-49e8-8603-a37b21f6aebd"
      },
      "execution_count": null,
      "outputs": [
        {
          "output_type": "stream",
          "name": "stdout",
          "text": [
            "Hola, me llamo David Allende soy Estadístico, tengo 37 años, trabajo en la empresa MISD Solutions y tengo 13 de experiencia profesional.\n"
          ]
        }
      ]
    },
    {
      "cell_type": "markdown",
      "source": [
        "### Actividad N005"
      ],
      "metadata": {
        "id": "juljJXFbQRGZ"
      }
    },
    {
      "cell_type": "code",
      "source": [
        "marcas = ['nike','adidas','puma','new balance','walon']"
      ],
      "metadata": {
        "id": "vvQdSRtfPhfM"
      },
      "execution_count": null,
      "outputs": []
    },
    {
      "cell_type": "code",
      "source": [
        "print(f\"La lista marcas es \\n{marcas}\")"
      ],
      "metadata": {
        "colab": {
          "base_uri": "https://localhost:8080/"
        },
        "id": "dp4yWqmuQTm1",
        "outputId": "fcc0e23c-4827-42e8-951e-093e9b9cba9b"
      },
      "execution_count": null,
      "outputs": [
        {
          "output_type": "stream",
          "name": "stdout",
          "text": [
            "La lista marcas es \n",
            "['nike', 'adidas', 'puma', 'new balance', 'walon']\n"
          ]
        }
      ]
    },
    {
      "cell_type": "code",
      "source": [
        "print(f\"El último elemento de la lista marcas es {marcas[-1]}\")"
      ],
      "metadata": {
        "colab": {
          "base_uri": "https://localhost:8080/"
        },
        "id": "ZGO_Jm2xQTvQ",
        "outputId": "46e986ea-730e-4d6d-887d-2912f558cd7f"
      },
      "execution_count": null,
      "outputs": [
        {
          "output_type": "stream",
          "name": "stdout",
          "text": [
            "El último elemento de la lista marcas es walon\n"
          ]
        }
      ]
    },
    {
      "cell_type": "code",
      "source": [
        "print(f\"El último elemento de la lista marcas es {marcas[-1].capitalize()}\")"
      ],
      "metadata": {
        "colab": {
          "base_uri": "https://localhost:8080/"
        },
        "id": "Cx4JgPZvPQ8r",
        "outputId": "388f2b52-6567-451f-c46c-cff7526ce580"
      },
      "execution_count": null,
      "outputs": [
        {
          "output_type": "stream",
          "name": "stdout",
          "text": [
            "El último elemento de la lista marcas es Walon\n"
          ]
        }
      ]
    },
    {
      "cell_type": "code",
      "source": [
        "marcas.append('Coca Cola') # append me permite añadir elementos al final de la lista\n",
        "print(f\"La lista marcas actualizada es \\n{marcas}\")"
      ],
      "metadata": {
        "colab": {
          "base_uri": "https://localhost:8080/"
        },
        "id": "w1TZQ78jRvuj",
        "outputId": "839a1506-9c7a-4106-b6f8-2eba84a9c0da"
      },
      "execution_count": null,
      "outputs": [
        {
          "output_type": "stream",
          "name": "stdout",
          "text": [
            "La lista marcas actualizada es \n",
            "['nike', 'adidas', 'puma', 'new balance', 'walon', 'Coca Cola']\n"
          ]
        }
      ]
    },
    {
      "cell_type": "code",
      "source": [
        "for i in range(5):\n",
        "  print(i)"
      ],
      "metadata": {
        "colab": {
          "base_uri": "https://localhost:8080/"
        },
        "id": "iggJe9SfRTlu",
        "outputId": "e0aec4b3-b5f1-4873-e8d5-f10527d8151d"
      },
      "execution_count": null,
      "outputs": [
        {
          "output_type": "stream",
          "name": "stdout",
          "text": [
            "0\n",
            "1\n",
            "2\n",
            "3\n",
            "4\n"
          ]
        }
      ]
    },
    {
      "cell_type": "code",
      "source": [
        "# Ingresando elementos a una lista a partir de un bucle FOR por teclado\n",
        "marcas=[] # lista vacía\n",
        "for i in range(5):\n",
        "  ingreso_marcas = input(f\"Ingrese la marca # {i+1}: \").capitalize()\n",
        "  marcas.append(ingreso_marcas)\n",
        "print(f\"La lista marcas es \\n{marcas}\")\n",
        "print(f\"El último elemento ingresado a la lista marcas es {marcas[-1]}\")"
      ],
      "metadata": {
        "colab": {
          "base_uri": "https://localhost:8080/"
        },
        "id": "2-2_2XnvPRIo",
        "outputId": "bd8e89ad-acc0-413f-b323-9705ab2ceeb8"
      },
      "execution_count": null,
      "outputs": [
        {
          "output_type": "stream",
          "name": "stdout",
          "text": [
            "Ingrese la marca # 1: a\n",
            "Ingrese la marca # 2: f\n",
            "Ingrese la marca # 3: g\n",
            "Ingrese la marca # 4: e\n",
            "Ingrese la marca # 5: g\n",
            "La lista marcas es \n",
            "['A', 'F', 'G', 'E', 'G']\n",
            "El último elemento ingresado a la lista marcas es G\n"
          ]
        }
      ]
    },
    {
      "cell_type": "markdown",
      "source": [
        "## [5] Modificar los elementos de una lista"
      ],
      "metadata": {
        "id": "spxdb-gETn-s"
      }
    },
    {
      "cell_type": "code",
      "source": [
        "print(f\"Mi lista de marcas favoritas es \\n{marcas}\")"
      ],
      "metadata": {
        "colab": {
          "base_uri": "https://localhost:8080/"
        },
        "id": "0yjFCqlCPRVg",
        "outputId": "b013b562-4763-4133-a941-b9d8cf36cc5b"
      },
      "execution_count": null,
      "outputs": [
        {
          "output_type": "stream",
          "name": "stdout",
          "text": [
            "Mi lista de marcas favoritas es \n",
            "['A', 'F', 'G', 'E', 'G']\n"
          ]
        }
      ]
    },
    {
      "cell_type": "code",
      "source": [
        "marcas[-1] = 'BCP'"
      ],
      "metadata": {
        "id": "mJstR4upT0OC"
      },
      "execution_count": null,
      "outputs": []
    },
    {
      "cell_type": "code",
      "source": [
        "print(f\"Mi lista actualizada de marcas favoritas es \\n{marcas}\")"
      ],
      "metadata": {
        "colab": {
          "base_uri": "https://localhost:8080/"
        },
        "id": "sTeRKm_6T-D-",
        "outputId": "ae3cbc00-d86c-462a-ddd9-595b04a0e354"
      },
      "execution_count": null,
      "outputs": [
        {
          "output_type": "stream",
          "name": "stdout",
          "text": [
            "Mi lista actualizada de marcas favoritas es \n",
            "['A', 'F', 'G', 'E', 'BCP']\n"
          ]
        }
      ]
    },
    {
      "cell_type": "markdown",
      "source": [
        "### Actividad N006"
      ],
      "metadata": {
        "id": "TUl-Pke9VR-B"
      }
    },
    {
      "cell_type": "code",
      "source": [
        "nombre = 'Juan'\n",
        "apellidoPaterno = 'Alarcon'\n",
        "profesion = 'Sistemas'\n",
        "edad = 38\n",
        "centroLaboral = 'Scotiabank Peru'\n",
        "aniosExperiencia = 15\n",
        "\n",
        "info_personal = [nombre,apellidoPaterno,profesion,edad,centroLaboral,aniosExperiencia]\n",
        "print(f\"Mi informacion personal es \\n {info_personal}\")\n",
        "info_personal[4]=\"BBVA\"\n",
        "print(f\"\\nMi informacion personal es actaulizada \\n {info_personal}\")"
      ],
      "metadata": {
        "colab": {
          "base_uri": "https://localhost:8080/"
        },
        "id": "iHEwQmuYUBOq",
        "outputId": "579832b8-151c-4b64-cccb-00ec1aa05a8b"
      },
      "execution_count": null,
      "outputs": [
        {
          "output_type": "stream",
          "name": "stdout",
          "text": [
            "Mi informacion personal es \n",
            " ['Juan', 'Alarcon', 'Sistemas', 38, 'Scotiabank Peru', 15]\n",
            "\n",
            "Mi informacion personal es actaulizada \n",
            " ['Juan', 'Alarcon', 'Sistemas', 38, 'BBVA', 15]\n"
          ]
        }
      ]
    },
    {
      "cell_type": "markdown",
      "source": [
        "## [6] Añadir elementos a una lista"
      ],
      "metadata": {
        "id": "-8X7_uT2V4ud"
      }
    },
    {
      "cell_type": "markdown",
      "source": [
        "### [6.1] Método .append()"
      ],
      "metadata": {
        "id": "309jHIHgWY1I"
      }
    },
    {
      "cell_type": "markdown",
      "source": [
        "### Actividad N007"
      ],
      "metadata": {
        "id": "Vj9PmxmiV_3w"
      }
    },
    {
      "cell_type": "code",
      "source": [
        "print(f\"Mis lugares favoritos para visitar son : \\n{lugares}\")"
      ],
      "metadata": {
        "colab": {
          "base_uri": "https://localhost:8080/"
        },
        "id": "ekAkk97nVXX0",
        "outputId": "8dc65566-554d-4690-b2fc-a889e0a4f2f5"
      },
      "execution_count": null,
      "outputs": [
        {
          "output_type": "stream",
          "name": "stdout",
          "text": [
            "Mis lugares favoritos para visitar son : \n",
            "['Arequipa', 'Selva central', 'Cuzco', 'Ica', 'Trujillo']\n"
          ]
        }
      ]
    },
    {
      "cell_type": "code",
      "source": [
        "lugares.append('Amazonas')\n",
        "print(f\"La lista de lugares actualizada es \\n{lugares}\")"
      ],
      "metadata": {
        "colab": {
          "base_uri": "https://localhost:8080/"
        },
        "id": "kxRuUEmHWIPx",
        "outputId": "db028f44-de2e-46a1-fccb-949abe5de662"
      },
      "execution_count": null,
      "outputs": [
        {
          "output_type": "stream",
          "name": "stdout",
          "text": [
            "La lista de lugares actualizada es \n",
            "['Arequipa', 'Selva central', 'Cuzco', 'Ica', 'Trujillo', 'Amazonas']\n"
          ]
        }
      ]
    },
    {
      "cell_type": "markdown",
      "source": [
        "### [6.2] Método .insert()"
      ],
      "metadata": {
        "id": "riq9UGJtWi8K"
      }
    },
    {
      "cell_type": "markdown",
      "source": [
        "### Actividad N008"
      ],
      "metadata": {
        "id": "H3uOEl6uXIky"
      }
    },
    {
      "cell_type": "code",
      "source": [
        "print(f\"La lista de mi información personal es \\n{info_personal}\")"
      ],
      "metadata": {
        "colab": {
          "base_uri": "https://localhost:8080/"
        },
        "id": "m31ZyA-5WTxR",
        "outputId": "2f64c807-b443-416e-c109-46235591bf46"
      },
      "execution_count": null,
      "outputs": [
        {
          "output_type": "stream",
          "name": "stdout",
          "text": [
            "La lista de mi información personal es \n",
            "['Juan', 'Alarcon', 'Sistemas', 38, 'BBVA', 15]\n"
          ]
        }
      ]
    },
    {
      "cell_type": "code",
      "source": [
        "info_personal.insert(3,'Utec')"
      ],
      "metadata": {
        "id": "sA_kXGgHYfaV"
      },
      "execution_count": null,
      "outputs": []
    },
    {
      "cell_type": "code",
      "source": [
        "print(f\"Hola, me llamo {info_personal[0]} {info_personal[1]} soy {info_personal[2]}, estudié en la institución {info_personal[3].upper()}, tengo {info_personal[4]} años, trabajo en la empresa {info_personal[5]} y tengo {info_personal[6]} años de experiencia profesional.\")"
      ],
      "metadata": {
        "colab": {
          "base_uri": "https://localhost:8080/"
        },
        "id": "RsBrsyW_YuWm",
        "outputId": "02270793-41d4-4a55-d19f-cd65db224558"
      },
      "execution_count": null,
      "outputs": [
        {
          "output_type": "stream",
          "name": "stdout",
          "text": [
            "Hola, me llamo Juan Alarcon soy Sistemas, estudié en la institución UTEC, tengo 38 años, trabajo en la empresa BBVA y tengo 15 años de experiencia profesional.\n"
          ]
        }
      ]
    },
    {
      "cell_type": "markdown",
      "source": [
        "## [7] Eliminar elementos de una lista"
      ],
      "metadata": {
        "id": "s2K4zESAaD2q"
      }
    },
    {
      "cell_type": "markdown",
      "source": [
        "### [7.1] Método del"
      ],
      "metadata": {
        "id": "gzTYdk4MaJSM"
      }
    },
    {
      "cell_type": "markdown",
      "source": [
        "### Actividad N009"
      ],
      "metadata": {
        "id": "SS4xUVztaWfZ"
      }
    },
    {
      "cell_type": "code",
      "source": [
        "print(f\"La lista marcas es \\n{marcas}\")"
      ],
      "metadata": {
        "colab": {
          "base_uri": "https://localhost:8080/"
        },
        "id": "HpZ6ytz4ZTN-",
        "outputId": "5a082dd8-8ba6-4306-8ef7-9d0f8fe45bcb"
      },
      "execution_count": null,
      "outputs": [
        {
          "output_type": "stream",
          "name": "stdout",
          "text": [
            "La lista marcas es \n",
            "['A', 'F', 'G', 'E', 'BCP']\n"
          ]
        }
      ]
    },
    {
      "cell_type": "code",
      "source": [
        "del marcas[1]\n",
        "print(f\"La lista marcas es \\n{marcas}\")"
      ],
      "metadata": {
        "colab": {
          "base_uri": "https://localhost:8080/"
        },
        "id": "ZDTEC-HIacs4",
        "outputId": "74abf98c-0311-44b4-8c65-a5b6d1752423"
      },
      "execution_count": null,
      "outputs": [
        {
          "output_type": "stream",
          "name": "stdout",
          "text": [
            "La lista marcas es \n",
            "['A', 'G', 'E', 'BCP']\n"
          ]
        }
      ]
    },
    {
      "cell_type": "code",
      "source": [
        "ele_ = marcas.pop()\n",
        "print(f\"marcas{marcas}\")\n",
        "print(f\"ele_{ele_}\")"
      ],
      "metadata": {
        "id": "FTfx9isJai-e",
        "outputId": "e87d3d7e-6668-440b-c9b5-ac11cc32dde1",
        "colab": {
          "base_uri": "https://localhost:8080/"
        }
      },
      "execution_count": null,
      "outputs": [
        {
          "output_type": "stream",
          "name": "stdout",
          "text": [
            "marcas['A', 'G']\n",
            "ele_E\n"
          ]
        }
      ]
    },
    {
      "cell_type": "code",
      "source": [
        "print(f\"lugares{lugares}\")"
      ],
      "metadata": {
        "id": "BkACmZyRQeG4",
        "outputId": "d69b3d1c-8c64-450b-d26f-74210e51bf0a",
        "colab": {
          "base_uri": "https://localhost:8080/"
        }
      },
      "execution_count": null,
      "outputs": [
        {
          "output_type": "stream",
          "name": "stdout",
          "text": [
            "lugares['Arequipa', 'Selva central', 'Cuzco', 'Ica', 'Trujillo', 'Amazonas']\n"
          ]
        }
      ]
    },
    {
      "cell_type": "code",
      "source": [
        "ele_2 = lugares.pop(2)\n",
        "print(f\"lugares {lugares}\")\n",
        "print(f\"ele_2 {ele_2}\")"
      ],
      "metadata": {
        "id": "W_cQXiRqQntv",
        "outputId": "608ea46d-9904-436f-a26b-667ef1316330",
        "colab": {
          "base_uri": "https://localhost:8080/"
        }
      },
      "execution_count": null,
      "outputs": [
        {
          "output_type": "stream",
          "name": "stdout",
          "text": [
            "lugares ['Arequipa', 'Selva central', 'Trujillo', 'Amazonas']\n",
            "ele_2 Ica\n"
          ]
        }
      ]
    },
    {
      "cell_type": "code",
      "source": [
        "marcas = [\"nike\",\"adidas\",\"puma\",\"renzo costa\",\"bruno ferrini\"]\n",
        "print(f\"la lista original de marcas más recordadas es : es \\n {marcas}\")\n",
        "marcas.remove(\"adidas\")\n"
      ],
      "metadata": {
        "id": "rIxFNujGQ-yp",
        "outputId": "771218fa-7019-4b5b-85ba-8ac79d1f80c6",
        "colab": {
          "base_uri": "https://localhost:8080/"
        }
      },
      "execution_count": null,
      "outputs": [
        {
          "output_type": "stream",
          "name": "stdout",
          "text": [
            "la lista original de marcas más recordadas es : es \n",
            " ['nike', 'adidas', 'puma', 'renzo costa', 'bruno ferrini']\n"
          ]
        }
      ]
    },
    {
      "cell_type": "code",
      "source": [
        "stem = ['science','tecnology','engineering','amazonas','imagen']\n",
        "## stem.remove('TECNOLOGY')"
      ],
      "metadata": {
        "id": "lbCrvklMTmkJ"
      },
      "execution_count": null,
      "outputs": []
    },
    {
      "cell_type": "code",
      "source": [
        "print(f\"la lista original stem es \\n{stem}\")\n",
        "stem.sort()\n",
        "print(f\"la lista original stem es \\n{stem}\")"
      ],
      "metadata": {
        "id": "kWQclOTDUUwT",
        "outputId": "5108f1db-215f-4656-f16a-3f81504fd910",
        "colab": {
          "base_uri": "https://localhost:8080/"
        }
      },
      "execution_count": null,
      "outputs": [
        {
          "output_type": "stream",
          "name": "stdout",
          "text": [
            "la lista original stem es \n",
            "['science', 'tecnology', 'engineering', 'amazonas', 'imagen']\n",
            "la lista original stem es \n",
            "['amazonas', 'engineering', 'imagen', 'science', 'tecnology']\n"
          ]
        }
      ]
    },
    {
      "cell_type": "code",
      "source": [
        "paises = ['perú','argentina','israel','jordania','india','chile','venezuela']\n",
        "print(f\"la lista original de paises es \\n{paises}\")\n",
        "paises.sort()\n",
        "print(f\"la lista original de paises ordenada ascendentemente es \\n{paises}\")\n",
        "paises.sort(reverse=1)\n",
        "print(f\"la lista original de paises ordenad descendentemente es \\n{paises}\")"
      ],
      "metadata": {
        "id": "BLJZvZ9oUwRH",
        "outputId": "187ec460-ccec-48dd-9ed4-250061121369",
        "colab": {
          "base_uri": "https://localhost:8080/"
        }
      },
      "execution_count": null,
      "outputs": [
        {
          "output_type": "stream",
          "name": "stdout",
          "text": [
            "la lista original de paises es \n",
            "['perú', 'argentina', 'israel', 'jordania', 'india', 'chile', 'venezuela']\n",
            "la lista original de paises ordenada ascendentemente es \n",
            "['argentina', 'chile', 'india', 'israel', 'jordania', 'perú', 'venezuela']\n",
            "la lista original de paises ordenad descendentemente es \n",
            "['venezuela', 'perú', 'jordania', 'israel', 'india', 'chile', 'argentina']\n"
          ]
        }
      ]
    },
    {
      "cell_type": "code",
      "source": [
        "paises = ['perú','argentina','israel','jordania','India','Chile','venezuela']\n",
        "print(f\"la lista original de paises es \\n{paises}\")\n",
        "paises.sort()\n",
        "print(f\"la lista original de paises ordenada ascendentemente es \\n{paises}\")\n",
        "paises.sort(reverse=1)\n",
        "print(f\"la lista original de paises ordenad descendentemente es \\n{paises}\")"
      ],
      "metadata": {
        "id": "Ax85RGmXURk_",
        "outputId": "0ad22b40-5d15-40e8-d86b-6c0ff6137b59",
        "colab": {
          "base_uri": "https://localhost:8080/"
        }
      },
      "execution_count": null,
      "outputs": [
        {
          "output_type": "stream",
          "name": "stdout",
          "text": [
            "la lista original de paises es \n",
            "['perú', 'argentina', 'israel', 'jordania', 'India', 'Chile', 'venezuela']\n",
            "la lista original de paises ordenada ascendentemente es \n",
            "['Chile', 'India', 'argentina', 'israel', 'jordania', 'perú', 'venezuela']\n",
            "la lista original de paises ordenad descendentemente es \n",
            "['venezuela', 'perú', 'jordania', 'israel', 'argentina', 'India', 'Chile']\n"
          ]
        }
      ]
    },
    {
      "cell_type": "code",
      "source": [
        "numeros = [10,1,5,50,2,5,15]\n",
        "print(f\"la lista original de numeros es \\n{numeros}\")\n",
        "numeros.sort()\n",
        "print(f\"la lista original de numeros ordenada ascendentemente es \\n{numeros}\")"
      ],
      "metadata": {
        "id": "_3_EHhS7Wg-v",
        "outputId": "8ec5c659-68c6-4360-ef68-01a15bf74e7b",
        "colab": {
          "base_uri": "https://localhost:8080/"
        }
      },
      "execution_count": null,
      "outputs": [
        {
          "output_type": "stream",
          "name": "stdout",
          "text": [
            "la lista original de numeros es \n",
            "[10, 1, 5, 50, 2, 5, 15]\n",
            "la lista original de numeros ordenada ascendentemente es \n",
            "[1, 2, 5, 5, 10, 15, 50]\n"
          ]
        }
      ]
    },
    {
      "cell_type": "code",
      "source": [
        "paises = ['perú','argentina',100,50,'israel','jordania','India','Chile','venezuela']\n",
        "print(f\"la lista original de paises es \\n{paises}\")\n",
        "#paises.sort()\n",
        "#print(f\"la lista original de paises ordenada ascendentemente es \\n{paises}\")\n",
        "#paises.sort(reverse=1)\n",
        "#print(f\"la lista original de paises ordenad descendentemente es \\n{paises}\")"
      ],
      "metadata": {
        "id": "j12yLYYfSV0f",
        "outputId": "833d0f27-6e28-4a17-aa63-1f3313be5680",
        "colab": {
          "base_uri": "https://localhost:8080/",
          "height": 245
        }
      },
      "execution_count": null,
      "outputs": [
        {
          "output_type": "stream",
          "name": "stdout",
          "text": [
            "la lista original de paises es \n",
            "['perú', 'argentina', 100, 50, 'israel', 'jordania', 'India', 'Chile', 'venezuela']\n"
          ]
        },
        {
          "output_type": "error",
          "ename": "TypeError",
          "evalue": "'<' not supported between instances of 'int' and 'str'",
          "traceback": [
            "\u001b[0;31m---------------------------------------------------------------------------\u001b[0m",
            "\u001b[0;31mTypeError\u001b[0m                                 Traceback (most recent call last)",
            "\u001b[0;32m/tmp/ipython-input-1900323121.py\u001b[0m in \u001b[0;36m<cell line: 0>\u001b[0;34m()\u001b[0m\n\u001b[1;32m      1\u001b[0m \u001b[0mpaises\u001b[0m \u001b[0;34m=\u001b[0m \u001b[0;34m[\u001b[0m\u001b[0;34m'perú'\u001b[0m\u001b[0;34m,\u001b[0m\u001b[0;34m'argentina'\u001b[0m\u001b[0;34m,\u001b[0m\u001b[0;36m100\u001b[0m\u001b[0;34m,\u001b[0m\u001b[0;36m50\u001b[0m\u001b[0;34m,\u001b[0m\u001b[0;34m'israel'\u001b[0m\u001b[0;34m,\u001b[0m\u001b[0;34m'jordania'\u001b[0m\u001b[0;34m,\u001b[0m\u001b[0;34m'India'\u001b[0m\u001b[0;34m,\u001b[0m\u001b[0;34m'Chile'\u001b[0m\u001b[0;34m,\u001b[0m\u001b[0;34m'venezuela'\u001b[0m\u001b[0;34m]\u001b[0m\u001b[0;34m\u001b[0m\u001b[0;34m\u001b[0m\u001b[0m\n\u001b[1;32m      2\u001b[0m \u001b[0mprint\u001b[0m\u001b[0;34m(\u001b[0m\u001b[0;34mf\"la lista original de paises es \\n{paises}\"\u001b[0m\u001b[0;34m)\u001b[0m\u001b[0;34m\u001b[0m\u001b[0;34m\u001b[0m\u001b[0m\n\u001b[0;32m----> 3\u001b[0;31m \u001b[0mpaises\u001b[0m\u001b[0;34m.\u001b[0m\u001b[0msort\u001b[0m\u001b[0;34m(\u001b[0m\u001b[0;34m)\u001b[0m\u001b[0;34m\u001b[0m\u001b[0;34m\u001b[0m\u001b[0m\n\u001b[0m\u001b[1;32m      4\u001b[0m \u001b[0;31m#print(f\"la lista original de paises ordenada ascendentemente es \\n{paises}\")\u001b[0m\u001b[0;34m\u001b[0m\u001b[0;34m\u001b[0m\u001b[0m\n\u001b[1;32m      5\u001b[0m \u001b[0;31m#paises.sort(reverse=1)\u001b[0m\u001b[0;34m\u001b[0m\u001b[0;34m\u001b[0m\u001b[0m\n",
            "\u001b[0;31mTypeError\u001b[0m: '<' not supported between instances of 'int' and 'str'"
          ]
        }
      ]
    },
    {
      "cell_type": "code",
      "source": [
        "paises_v = ['israel','japón','corea','jordania','china']\n",
        "print(f\"lista paises ascendente temporal de paises es \\n{sorted(paises_v)}\")\n",
        "print(f\"la lista paises ordenado descendentemente temporal es \\n{sorted(paises_v,reverse=True)}\")\n",
        "print(f\"la lista paises es \\n{paises_v}\")\n"
      ],
      "metadata": {
        "id": "sxiwSLK4Xodw",
        "outputId": "3fcfcc8c-a5a2-48f8-aa03-2c1e9f947119",
        "colab": {
          "base_uri": "https://localhost:8080/"
        }
      },
      "execution_count": null,
      "outputs": [
        {
          "output_type": "stream",
          "name": "stdout",
          "text": [
            "lista paises ascendente temporal de paises es \n",
            "['china', 'corea', 'israel', 'japón', 'jordania']\n",
            "la lista paises ordenado descendentemente temporal es \n",
            "['jordania', 'japón', 'israel', 'corea', 'china']\n",
            "la lista paises es \n",
            "['israel', 'japón', 'corea', 'jordania', 'china']\n"
          ]
        }
      ]
    },
    {
      "cell_type": "code",
      "source": [
        "print(listas_mas_usadas)"
      ],
      "metadata": {
        "id": "qr2DOhmGSdUZ",
        "outputId": "b2f29c67-37f1-42e7-a290-8f8f7e220f7a",
        "colab": {
          "base_uri": "https://localhost:8080/"
        }
      },
      "execution_count": null,
      "outputs": [
        {
          "output_type": "stream",
          "name": "stdout",
          "text": [
            "['nike', 'puma', 'renzo costa', 'bruno ferrini']\n"
          ]
        }
      ]
    },
    {
      "cell_type": "code",
      "source": [
        "print(f\"La lista stem es \\n {stem}\")\n",
        "stem.reverse()\n",
        "print(f\"La lista stem es \\n {stem}\")"
      ],
      "metadata": {
        "id": "1865xq_8SOjo",
        "outputId": "04bb82c5-b78f-4329-93fe-c7fc566f222f",
        "colab": {
          "base_uri": "https://localhost:8080/"
        }
      },
      "execution_count": null,
      "outputs": [
        {
          "output_type": "stream",
          "name": "stdout",
          "text": [
            "La lista stem es \n",
            " ['tecnology', 'science', 'imagen', 'engineering', 'amazonas']\n",
            "La lista stem es \n",
            " ['amazonas', 'engineering', 'imagen', 'science', 'tecnology']\n"
          ]
        }
      ]
    },
    {
      "cell_type": "code",
      "source": [
        "universidades = ['pucp','usil','esan','ulima','usmp','utec']\n",
        "print(f\"La lista de universidades es \\n{universidades}\")\n",
        "universidades.reverse()\n",
        "print(f\"La lista de universidades es \\n{universidades}\")"
      ],
      "metadata": {
        "id": "ll69-zUFawVw",
        "outputId": "e1df9966-24de-44a8-92e3-a08edc14fb8c",
        "colab": {
          "base_uri": "https://localhost:8080/"
        }
      },
      "execution_count": null,
      "outputs": [
        {
          "output_type": "stream",
          "name": "stdout",
          "text": [
            "La lista de universidades es \n",
            "['pucp', 'usil', 'esan', 'ulima', 'usmp', 'utec']\n",
            "La lista de universidades es \n",
            "['utec', 'usmp', 'ulima', 'esan', 'usil', 'pucp']\n"
          ]
        }
      ]
    },
    {
      "cell_type": "code",
      "source": [
        "len(universidades)"
      ],
      "metadata": {
        "id": "4llrN2gjbWcw",
        "outputId": "1002aebb-63f4-40bc-fcee-75c8c4e9a2cd",
        "colab": {
          "base_uri": "https://localhost:8080/"
        }
      },
      "execution_count": null,
      "outputs": [
        {
          "output_type": "execute_result",
          "data": {
            "text/plain": [
              "6"
            ]
          },
          "metadata": {},
          "execution_count": 110
        }
      ]
    },
    {
      "cell_type": "code",
      "source": [
        "print(f\"La lista info_personal es \\n{info_personal}\")\n",
        "print(f\"La longitud de la lista info_personal es {len(info_personal)}\")"
      ],
      "metadata": {
        "id": "j7KBnEYWbfew",
        "outputId": "c94f17cf-d680-4d7b-fae4-7e2d21c798c8",
        "colab": {
          "base_uri": "https://localhost:8080/"
        }
      },
      "execution_count": null,
      "outputs": [
        {
          "output_type": "stream",
          "name": "stdout",
          "text": [
            "La lista info_personal es \n",
            "['Juan', 'Alarcon', 'Sistemas', 'Utec', 38, 'BBVA', 15]\n",
            "La longitud de la lista info_personal es 7\n"
          ]
        }
      ]
    },
    {
      "cell_type": "code",
      "source": [
        "librerias = ['numpy','pandas', '','','']\n",
        "print(f\"La lista de librerias es \\n{librerias}\")\n"
      ],
      "metadata": {
        "id": "ccc6__GKiO-J",
        "outputId": "a45969b6-813b-41be-d6d6-2650765ee392",
        "colab": {
          "base_uri": "https://localhost:8080/"
        }
      },
      "execution_count": null,
      "outputs": [
        {
          "output_type": "stream",
          "name": "stdout",
          "text": [
            "La lista de librerias es \n",
            "['numpy', 'pandas', '', '', '']\n"
          ]
        }
      ]
    },
    {
      "cell_type": "code",
      "source": [
        "productos = ['papel higienico','prestobarba','cepillo']\n",
        "print(f\"Mi lista de compra habitual en el supermercado es:\")\n",
        "for i in range(len(productos)):\n",
        "  print(f\"El producto nro {i+1} es {productos[i]}\")\n",
        "print(f\"Mi presupuesto principalmente se basa en esta lista\")"
      ],
      "metadata": {
        "id": "W83m_yikj9d4",
        "outputId": "4c46ad36-503e-43f7-d498-4676fdc4a408",
        "colab": {
          "base_uri": "https://localhost:8080/"
        }
      },
      "execution_count": null,
      "outputs": [
        {
          "output_type": "stream",
          "name": "stdout",
          "text": [
            "Mi lista de compra habitual en el supermercado es:\n",
            "El producto nro 1 es papel higienico\n",
            "El producto nro 2 es prestobarba\n",
            "El producto nro 3 es cepillo\n",
            "Mi presupuesto principalmente se basa en esta lista\n"
          ]
        }
      ]
    },
    {
      "cell_type": "code",
      "source": [
        "productos = ['papel higienico','prestobarba','cepillo']\n",
        "print(f\"Mi lista de compra habitual en el supermercado es:\")\n",
        "for producto in productos:\n",
        "  print(f\"El producto nro {i+1} es {producto}\")\n",
        "print(f\"Mi presupuesto principalmente se basa en esta lista\")"
      ],
      "metadata": {
        "id": "RdkeFqsrluug",
        "outputId": "17afd9dc-1375-46bc-f87f-ed037991419a",
        "colab": {
          "base_uri": "https://localhost:8080/"
        }
      },
      "execution_count": null,
      "outputs": [
        {
          "output_type": "stream",
          "name": "stdout",
          "text": [
            "Mi lista de compra habitual en el supermercado es:\n",
            "El producto nro 3 es papel higienico\n",
            "El producto nro 3 es prestobarba\n",
            "El producto nro 3 es cepillo\n",
            "Mi presupuesto principalmente se basa en esta lista\n"
          ]
        }
      ]
    },
    {
      "cell_type": "code",
      "source": [
        "print(f\"En python las librerias mas populares son\")\n",
        "for libreria in librerias:\n",
        "  print('-',libreria)\n",
        "  print(\"Tengo experiencia profesional trabajando con dichas librerias en Python\")"
      ],
      "metadata": {
        "id": "ww2mzh0mlKux",
        "outputId": "d84cf3a9-0e2c-426c-ace4-a360e8168d0f",
        "colab": {
          "base_uri": "https://localhost:8080/"
        }
      },
      "execution_count": null,
      "outputs": [
        {
          "output_type": "stream",
          "name": "stdout",
          "text": [
            "En python las librerias mas populares son\n",
            "- numpy\n",
            "Tengo experiencia profesional trabajando con dichas librerias en Python\n",
            "- pandas\n",
            "Tengo experiencia profesional trabajando con dichas librerias en Python\n",
            "- \n",
            "Tengo experiencia profesional trabajando con dichas librerias en Python\n",
            "- \n",
            "Tengo experiencia profesional trabajando con dichas librerias en Python\n",
            "- \n",
            "Tengo experiencia profesional trabajando con dichas librerias en Python\n"
          ]
        }
      ]
    },
    {
      "cell_type": "code",
      "source": [
        "paises = ['Israel','EEUU','España']\n",
        "for pais in paises:\n",
        "  print(pais)\n",
        "print(f'tienen la caracteristica que son democráticos')\n"
      ],
      "metadata": {
        "id": "zqUDMioUm1kY",
        "outputId": "035cc4fa-da95-4eed-88cc-9a89d7b144bf",
        "colab": {
          "base_uri": "https://localhost:8080/"
        }
      },
      "execution_count": null,
      "outputs": [
        {
          "output_type": "stream",
          "name": "stdout",
          "text": [
            "Israel\n",
            "EEUU\n",
            "España\n",
            "tienen la caracteristica que son democráticos\n"
          ]
        }
      ]
    },
    {
      "cell_type": "code",
      "source": [
        "numeros = list(range(1,11))\n",
        "print(numeros)"
      ],
      "metadata": {
        "id": "8YMR9XFJocjJ",
        "outputId": "b236d35e-d603-483b-d148-e40fb0d31319",
        "colab": {
          "base_uri": "https://localhost:8080/"
        }
      },
      "execution_count": null,
      "outputs": [
        {
          "output_type": "stream",
          "name": "stdout",
          "text": [
            "[1, 2, 3, 4, 5, 6, 7, 8, 9, 10]\n"
          ]
        }
      ]
    },
    {
      "cell_type": "code",
      "source": [
        "correlativos = list(range(10,21))\n",
        "for correlativo in correlativos:\n",
        "  print(correlativo)\n",
        "\n"
      ],
      "metadata": {
        "id": "ml3dorVxox2w",
        "outputId": "a95ffab4-8d0a-4292-b599-ea5bf18ee666",
        "colab": {
          "base_uri": "https://localhost:8080/"
        }
      },
      "execution_count": null,
      "outputs": [
        {
          "output_type": "stream",
          "name": "stdout",
          "text": [
            "10\n",
            "11\n",
            "12\n",
            "13\n",
            "14\n",
            "15\n",
            "16\n",
            "17\n",
            "18\n",
            "19\n",
            "20\n"
          ]
        }
      ]
    },
    {
      "cell_type": "code",
      "source": [
        "correlativos = list(range(10,21))\n",
        "for correlativo in correlativos:\n",
        "  print(correlativo)"
      ],
      "metadata": {
        "id": "Kv2lUFxlpA1J",
        "outputId": "53727a78-f178-4743-b683-d6dd0adc66d6",
        "colab": {
          "base_uri": "https://localhost:8080/"
        }
      },
      "execution_count": null,
      "outputs": [
        {
          "output_type": "stream",
          "name": "stdout",
          "text": [
            "10\n",
            "11\n",
            "12\n",
            "13\n",
            "14\n",
            "15\n",
            "16\n",
            "17\n",
            "18\n",
            "19\n",
            "20\n"
          ]
        }
      ]
    },
    {
      "cell_type": "code",
      "source": [
        "pares = list(range(2,12,2))\n",
        "print(pares)"
      ],
      "metadata": {
        "id": "wghQlZ8LpLyg",
        "outputId": "c2b87abe-367c-4ec7-ff07-f8471f5a0e74",
        "colab": {
          "base_uri": "https://localhost:8080/"
        }
      },
      "execution_count": null,
      "outputs": [
        {
          "output_type": "stream",
          "name": "stdout",
          "text": [
            "[2, 4, 6, 8, 10]\n"
          ]
        }
      ]
    },
    {
      "cell_type": "code",
      "source": [
        "cuadrados = []\n",
        "for par in pares:\n",
        "  cuadrado = par**2\n",
        "  cuadrados.append(cuadrado)\n",
        "print(pares)\n",
        "print(cuadrados)\n",
        "print(min(cuadrados))\n",
        "print(sum(cuadrados))\n",
        "print(len(cuadrados))"
      ],
      "metadata": {
        "id": "Ke97CkkUptVg",
        "outputId": "2bbdee5e-24c9-4427-c902-9e4bb62228ac",
        "colab": {
          "base_uri": "https://localhost:8080/"
        }
      },
      "execution_count": null,
      "outputs": [
        {
          "output_type": "stream",
          "name": "stdout",
          "text": [
            "[2, 4, 6, 8, 10]\n",
            "[4, 16, 36, 64, 100]\n",
            "4\n",
            "220\n",
            "5\n"
          ]
        }
      ]
    },
    {
      "cell_type": "code",
      "source": [
        "cuadrados = []\n",
        "for par in pares:\n",
        "  cuadrado = par **2\n",
        "  cuadrados.append(cuadrado)\n",
        "print(f\"La lista de pares es \\n{pares}\")\n",
        "print(f\"La lista de cuadrados es \\n{cuadrados}\")\n"
      ],
      "metadata": {
        "id": "AyM13JILraHY",
        "outputId": "b28b8bc4-dd85-4aea-9e75-30580b6eace9",
        "colab": {
          "base_uri": "https://localhost:8080/"
        }
      },
      "execution_count": null,
      "outputs": [
        {
          "output_type": "stream",
          "name": "stdout",
          "text": [
            "La lista de pares es \n",
            "[2, 4, 6, 8, 10]\n",
            "La lista de cuadrados es \n",
            "[4, 16, 36, 64, 100]\n"
          ]
        }
      ]
    },
    {
      "cell_type": "code",
      "source": [
        "cuadrados2 = [par **2 for par in pares]\n"
      ],
      "metadata": {
        "id": "RRmiaeBfsAeA"
      },
      "execution_count": null,
      "outputs": []
    },
    {
      "cell_type": "code",
      "source": [
        "print(cuadrados2)"
      ],
      "metadata": {
        "id": "2nTdh-v_sPBw",
        "outputId": "2836737d-60a7-41f0-be92-9002695431ca",
        "colab": {
          "base_uri": "https://localhost:8080/"
        }
      },
      "execution_count": null,
      "outputs": [
        {
          "output_type": "stream",
          "name": "stdout",
          "text": [
            "[4, 16, 36, 64, 100]\n"
          ]
        }
      ]
    },
    {
      "cell_type": "code",
      "source": [
        "print(correlativos)"
      ],
      "metadata": {
        "id": "UiNr-7N_tPlA",
        "outputId": "77572151-0f83-41a4-ca56-a7160d3a817b",
        "colab": {
          "base_uri": "https://localhost:8080/"
        }
      },
      "execution_count": null,
      "outputs": [
        {
          "output_type": "stream",
          "name": "stdout",
          "text": [
            "range(10, 21)\n"
          ]
        }
      ]
    },
    {
      "cell_type": "code",
      "source": [
        "correlativosn_1 = []\n",
        "for i in correlativos:\n",
        "  tmp = i+5\n",
        "  correlativosn_1.append(tmp)\n",
        "print(correlativosn_1)"
      ],
      "metadata": {
        "id": "otLMBSL2sYTY",
        "outputId": "c6ddc8c8-1d1d-43d3-bac9-00414cb04b28",
        "colab": {
          "base_uri": "https://localhost:8080/"
        }
      },
      "execution_count": null,
      "outputs": [
        {
          "output_type": "stream",
          "name": "stdout",
          "text": [
            "[15, 16, 17, 18, 19, 20, 21, 22, 23, 24, 25]\n"
          ]
        }
      ]
    },
    {
      "cell_type": "code",
      "source": [
        "correlativosn_2 = [i+5 for i in correlativos]"
      ],
      "metadata": {
        "id": "KyIjkxihtfkA"
      },
      "execution_count": null,
      "outputs": []
    },
    {
      "cell_type": "code",
      "source": [
        "print(correlativosn_2)"
      ],
      "metadata": {
        "id": "nBvfBSwItuoI",
        "outputId": "415e1835-8a32-416a-9f58-aabbdf0b065b",
        "colab": {
          "base_uri": "https://localhost:8080/",
          "height": 141
        }
      },
      "execution_count": 2,
      "outputs": [
        {
          "output_type": "error",
          "ename": "NameError",
          "evalue": "name 'correlativosn_2' is not defined",
          "traceback": [
            "\u001b[0;31m---------------------------------------------------------------------------\u001b[0m",
            "\u001b[0;31mNameError\u001b[0m                                 Traceback (most recent call last)",
            "\u001b[0;32m/tmp/ipython-input-1128130154.py\u001b[0m in \u001b[0;36m<cell line: 0>\u001b[0;34m()\u001b[0m\n\u001b[0;32m----> 1\u001b[0;31m \u001b[0mprint\u001b[0m\u001b[0;34m(\u001b[0m\u001b[0mcorrelativosn_2\u001b[0m\u001b[0;34m)\u001b[0m\u001b[0;34m\u001b[0m\u001b[0;34m\u001b[0m\u001b[0m\n\u001b[0m",
            "\u001b[0;31mNameError\u001b[0m: name 'correlativosn_2' is not defined"
          ]
        }
      ]
    },
    {
      "cell_type": "code",
      "source": [
        "correlativos = list(range(2,22,2))\n",
        "for i in correlativos:\n",
        "  print(i)\n",
        "\n"
      ],
      "metadata": {
        "colab": {
          "base_uri": "https://localhost:8080/"
        },
        "id": "IGBHFSAR9H1J",
        "outputId": "1da95eab-2faf-41cb-c9df-3ee722716342"
      },
      "execution_count": 8,
      "outputs": [
        {
          "output_type": "stream",
          "name": "stdout",
          "text": [
            "2\n",
            "4\n",
            "6\n",
            "8\n",
            "10\n",
            "12\n",
            "14\n",
            "16\n",
            "18\n",
            "20\n"
          ]
        }
      ]
    },
    {
      "cell_type": "code",
      "source": [
        "cuadrados = []\n",
        "for par in correlativos:\n",
        "  cuadrado = par**2\n",
        "  cuadrados.append(cuadrado)\n",
        "print(cuadrados)"
      ],
      "metadata": {
        "colab": {
          "base_uri": "https://localhost:8080/"
        },
        "id": "Wm4uK_GZ_l16",
        "outputId": "a6685afd-a983-4f14-b534-5ebbffc278b3"
      },
      "execution_count": 11,
      "outputs": [
        {
          "output_type": "stream",
          "name": "stdout",
          "text": [
            "[4, 16, 36, 64, 100, 144, 196, 256, 324, 400]\n"
          ]
        }
      ]
    },
    {
      "cell_type": "code",
      "source": [
        "correlativos = list(range(10,21))\n",
        "print(correlativos)"
      ],
      "metadata": {
        "colab": {
          "base_uri": "https://localhost:8080/"
        },
        "id": "f_wx3qw4B5Qa",
        "outputId": "c81651fd-aa3c-482c-cf68-df560da80129"
      },
      "execution_count": 14,
      "outputs": [
        {
          "output_type": "stream",
          "name": "stdout",
          "text": [
            "[10, 11, 12, 13, 14, 15, 16, 17, 18, 19, 20]\n"
          ]
        }
      ]
    },
    {
      "cell_type": "code",
      "source": [
        "correlativosn = []\n",
        "for i in correlativos:\n",
        "  tmp = i+5\n",
        "  correlativosn.append(tmp)\n",
        "print(correlativosn)"
      ],
      "metadata": {
        "colab": {
          "base_uri": "https://localhost:8080/"
        },
        "id": "8ZTPA_uqDcVQ",
        "outputId": "d7e2f482-1fac-449f-8a81-9eb3c6fb11b4"
      },
      "execution_count": 17,
      "outputs": [
        {
          "output_type": "stream",
          "name": "stdout",
          "text": [
            "[15, 16, 17, 18, 19, 20, 21, 22, 23, 24, 25]\n"
          ]
        }
      ]
    },
    {
      "cell_type": "code",
      "source": [
        "correlativosn_ = [i+5 for i in correlativos]\n",
        "print(correlativosn_)"
      ],
      "metadata": {
        "colab": {
          "base_uri": "https://localhost:8080/"
        },
        "id": "Je2YK-D8D5KC",
        "outputId": "2e0684ef-00fb-4533-9d6a-b63afeabe156"
      },
      "execution_count": 18,
      "outputs": [
        {
          "output_type": "stream",
          "name": "stdout",
          "text": [
            "[15, 16, 17, 18, 19, 20, 21, 22, 23, 24, 25]\n"
          ]
        }
      ]
    },
    {
      "cell_type": "code",
      "source": [
        "universidades = ['utec','ulima','unmsm','uni','utp','ucv']\n",
        "print(universidades)\n",
        "#universidades[-3:]"
      ],
      "metadata": {
        "colab": {
          "base_uri": "https://localhost:8080/"
        },
        "id": "la2ezHNX9kp-",
        "outputId": "ff7a29b0-a828-432b-bde5-a6dfbe7c01fa"
      },
      "execution_count": 36,
      "outputs": [
        {
          "output_type": "stream",
          "name": "stdout",
          "text": [
            "['utec', 'ulima', 'unmsm', 'uni', 'utp', 'ucv']\n"
          ]
        }
      ]
    },
    {
      "cell_type": "code",
      "source": [
        "librerias = 'numpy','pandas','scipy','matplotlib','scikit learn'\n",
        "estudios = universidades"
      ],
      "metadata": {
        "id": "yEiY8QQ0GwPa"
      },
      "execution_count": 31,
      "outputs": []
    },
    {
      "cell_type": "code",
      "source": [
        "universidades.append('harvard')\n",
        "estudios.append('mit')\n",
        "print(estudios)"
      ],
      "metadata": {
        "colab": {
          "base_uri": "https://localhost:8080/"
        },
        "id": "jhJEYy1KHxny",
        "outputId": "1c450aa2-b295-4e15-9c60-ef3d61c5d9f5"
      },
      "execution_count": 37,
      "outputs": [
        {
          "output_type": "stream",
          "name": "stdout",
          "text": [
            "['utec', 'ulima', 'unmsm', 'uni', 'utp', 'ucv', 'harvard', 'harvard', 'mit', 'harvard', 'mit', 'mit', 'mit']\n"
          ]
        }
      ]
    },
    {
      "cell_type": "code",
      "source": [
        "print(universidades)"
      ],
      "metadata": {
        "colab": {
          "base_uri": "https://localhost:8080/"
        },
        "id": "c8LHfreNHd50",
        "outputId": "977a82ed-64a1-46b5-eaae-22f738c5a0d0"
      },
      "execution_count": 26,
      "outputs": [
        {
          "output_type": "stream",
          "name": "stdout",
          "text": [
            "['utec', 'ulima', 'usmsm', 'uni', 'utp', 'ucv']\n"
          ]
        }
      ]
    },
    {
      "cell_type": "code",
      "source": [
        "print(correlativos)"
      ],
      "metadata": {
        "id": "HV9KsZcZsm5o",
        "outputId": "24f85da5-66ab-41d7-c020-3d7ff2bfa30d",
        "colab": {
          "base_uri": "https://localhost:8080/"
        }
      },
      "execution_count": 39,
      "outputs": [
        {
          "output_type": "stream",
          "name": "stdout",
          "text": [
            "[10, 11, 12, 13, 14, 15, 16, 17, 18, 19, 20]\n"
          ]
        }
      ]
    },
    {
      "cell_type": "code",
      "source": [
        "listax = list(range(2,201,2))\n",
        "print(listax)\n"
      ],
      "metadata": {
        "colab": {
          "base_uri": "https://localhost:8080/"
        },
        "id": "4DM2yvEvI6Hs",
        "outputId": "8e3bfaf0-0108-4519-81f8-69d16429c878"
      },
      "execution_count": 45,
      "outputs": [
        {
          "output_type": "stream",
          "name": "stdout",
          "text": [
            "[2, 4, 6, 8, 10, 12, 14, 16, 18, 20, 22, 24, 26, 28, 30, 32, 34, 36, 38, 40, 42, 44, 46, 48, 50, 52, 54, 56, 58, 60, 62, 64, 66, 68, 70, 72, 74, 76, 78, 80, 82, 84, 86, 88, 90, 92, 94, 96, 98, 100, 102, 104, 106, 108, 110, 112, 114, 116, 118, 120, 122, 124, 126, 128, 130, 132, 134, 136, 138, 140, 142, 144, 146, 148, 150, 152, 154, 156, 158, 160, 162, 164, 166, 168, 170, 172, 174, 176, 178, 180, 182, 184, 186, 188, 190, 192, 194, 196, 198, 200]\n"
          ]
        }
      ]
    },
    {
      "cell_type": "code",
      "source": [
        "el_1 = listax.pop()\n",
        "print(el_1)"
      ],
      "metadata": {
        "colab": {
          "base_uri": "https://localhost:8080/"
        },
        "id": "ffEr8BKkKB6c",
        "outputId": "b5f15e05-9e0e-4755-ffa3-5d3cb0abd869"
      },
      "execution_count": 46,
      "outputs": [
        {
          "output_type": "stream",
          "name": "stdout",
          "text": [
            "200\n"
          ]
        }
      ]
    },
    {
      "cell_type": "code",
      "source": [
        "el_2 = listax.pop(0)\n",
        "print(el_2)"
      ],
      "metadata": {
        "colab": {
          "base_uri": "https://localhost:8080/"
        },
        "id": "yNK80PgFKOKP",
        "outputId": "071ffe84-e835-4e21-b984-ac1a174193b7"
      },
      "execution_count": 48,
      "outputs": [
        {
          "output_type": "stream",
          "name": "stdout",
          "text": [
            "4\n"
          ]
        }
      ]
    },
    {
      "cell_type": "code",
      "source": [
        "numeros_eliminados = []\n",
        "numeros_eliminados.append(el_2)\n",
        "numeros_eliminados.append(el_1)\n",
        "print(numeros_eliminados)"
      ],
      "metadata": {
        "colab": {
          "base_uri": "https://localhost:8080/"
        },
        "id": "F-0_lR19KrZK",
        "outputId": "d9c79e90-607e-42b8-f6cd-336b17ec3025"
      },
      "execution_count": 50,
      "outputs": [
        {
          "output_type": "stream",
          "name": "stdout",
          "text": [
            "[4, 200]\n"
          ]
        }
      ]
    },
    {
      "cell_type": "code",
      "source": [
        "print(f'el valor minimo de la lista es {min(listax)}')\n",
        "print(f'el valor maximo de la lista es {max(listax)}')"
      ],
      "metadata": {
        "colab": {
          "base_uri": "https://localhost:8080/"
        },
        "id": "emGVamSzLEpt",
        "outputId": "3b21f292-58fe-482c-ccd3-f2c8e5bc4d4d"
      },
      "execution_count": 52,
      "outputs": [
        {
          "output_type": "stream",
          "name": "stdout",
          "text": [
            "el valor minimo de la lista es 6\n",
            "el valor maximo de la lista es 198\n"
          ]
        }
      ]
    },
    {
      "cell_type": "code",
      "source": [
        "lista_pasaje = []\n",
        "n = int(input('cuanto elementos quieres que tenga el elemento '))\n",
        "\n",
        "for i in range(1,n+1):\n",
        "  valor_ingresar = int(input(f'ingrese pasaje {i}: '))\n",
        "  lista_pasaje.append(valor_ingresar)\n",
        "print(f'la lista valores es \\n {lista_pasaje}')\n",
        "print(f'el valor minimo de la lista es: {min(lista_pasaje)}')\n",
        "print(f'el valor maximo de la lista es: {max(lista_pasaje)}')\n",
        "print(f'la lista tiene {len(lista_pasaje)} elementos')\n"
      ],
      "metadata": {
        "colab": {
          "base_uri": "https://localhost:8080/"
        },
        "id": "z9CCE0XuLagM",
        "outputId": "8d24b166-5a43-4dda-a192-1fd6c00d5cb3"
      },
      "execution_count": 86,
      "outputs": [
        {
          "output_type": "stream",
          "name": "stdout",
          "text": [
            "cuanto elementos quieres que tenga el elemento 4\n",
            "ingrese pasaje 1: 9\n",
            "ingrese pasaje 2: 7\n",
            "ingrese pasaje 3: 8\n",
            "ingrese pasaje 4: 6\n",
            "la lista valores es \n",
            " [9, 7, 8, 6]\n",
            "el valor minimo de la lista es: 6\n",
            "el valor maximo de la lista es: 9\n",
            "la lista tiene 4 elementos\n",
            "None\n"
          ]
        }
      ]
    },
    {
      "cell_type": "code",
      "source": [
        "lista_x = ['A','B','b','c','E','E','F']\n",
        "print(lista_x)\n",
        "elemento_a_eliminar = input('ingrese el elemento a eliminar: ')\n",
        "lista_x.remove(elemento_a_eliminar)\n",
        "print(lista_x)"
      ],
      "metadata": {
        "colab": {
          "base_uri": "https://localhost:8080/"
        },
        "id": "07EDcymNONk_",
        "outputId": "c8a89474-1d52-40c5-c470-e3288e17d37e"
      },
      "execution_count": 90,
      "outputs": [
        {
          "output_type": "stream",
          "name": "stdout",
          "text": [
            "['A', 'B', 'b', 'c', 'E', 'E', 'F']\n",
            "ingrese el elemento a eliminar: A\n",
            "['B', 'b', 'c', 'E', 'E', 'F']\n"
          ]
        }
      ]
    },
    {
      "cell_type": "code",
      "source": [
        "lista_x = ['A','B','b','c','E','E','F']\n",
        "print(lista_x)\n",
        "elemento_a_eliminar = input('ingrese el elemento a eliminar: ')\n",
        "lista_x.remove(elemento_a_eliminar)\n",
        "print(lista_x)"
      ],
      "metadata": {
        "colab": {
          "base_uri": "https://localhost:8080/",
          "height": 228
        },
        "id": "ZWC_DprRUYYp",
        "outputId": "ad12e4f0-ef06-4a17-ccae-b2f9bff7a342"
      },
      "execution_count": 91,
      "outputs": [
        {
          "name": "stdout",
          "output_type": "stream",
          "text": [
            "['A', 'B', 'b', 'c', 'E', 'E', 'F']\n",
            "ingrese el elemento a eliminar: a\n"
          ]
        },
        {
          "output_type": "error",
          "ename": "ValueError",
          "evalue": "list.remove(x): x not in list",
          "traceback": [
            "\u001b[0;31m---------------------------------------------------------------------------\u001b[0m",
            "\u001b[0;31mValueError\u001b[0m                                Traceback (most recent call last)",
            "\u001b[0;32m/tmp/ipython-input-3470174896.py\u001b[0m in \u001b[0;36m<cell line: 0>\u001b[0;34m()\u001b[0m\n\u001b[1;32m      2\u001b[0m \u001b[0mprint\u001b[0m\u001b[0;34m(\u001b[0m\u001b[0mlista_x\u001b[0m\u001b[0;34m)\u001b[0m\u001b[0;34m\u001b[0m\u001b[0;34m\u001b[0m\u001b[0m\n\u001b[1;32m      3\u001b[0m \u001b[0melemento_a_eliminar\u001b[0m \u001b[0;34m=\u001b[0m \u001b[0minput\u001b[0m\u001b[0;34m(\u001b[0m\u001b[0;34m'ingrese el elemento a eliminar: '\u001b[0m\u001b[0;34m)\u001b[0m\u001b[0;34m\u001b[0m\u001b[0;34m\u001b[0m\u001b[0m\n\u001b[0;32m----> 4\u001b[0;31m \u001b[0mlista_x\u001b[0m\u001b[0;34m.\u001b[0m\u001b[0mremove\u001b[0m\u001b[0;34m(\u001b[0m\u001b[0melemento_a_eliminar\u001b[0m\u001b[0;34m)\u001b[0m\u001b[0;34m\u001b[0m\u001b[0;34m\u001b[0m\u001b[0m\n\u001b[0m\u001b[1;32m      5\u001b[0m \u001b[0mprint\u001b[0m\u001b[0;34m(\u001b[0m\u001b[0mlista_x\u001b[0m\u001b[0;34m)\u001b[0m\u001b[0;34m\u001b[0m\u001b[0;34m\u001b[0m\u001b[0m\n",
            "\u001b[0;31mValueError\u001b[0m: list.remove(x): x not in list"
          ]
        }
      ]
    },
    {
      "cell_type": "code",
      "source": [
        "lista_x = ['A','B','b','c','E','E','F']\n",
        "print(lista_x)\n",
        "elemento_a_eliminar = input('ingrese el elemento a eliminar: ')\n",
        "lista_pivot = []\n",
        "for i in lista_x:\n",
        "  if i != elemento_a_eliminar:\n",
        "    lista_pivot.append(i)\n",
        "print(lista_pivot)"
      ],
      "metadata": {
        "colab": {
          "base_uri": "https://localhost:8080/"
        },
        "id": "qhM1R5zAUvBm",
        "outputId": "d6926893-3d46-4528-b4ed-76b0b05e6677"
      },
      "execution_count": 93,
      "outputs": [
        {
          "output_type": "stream",
          "name": "stdout",
          "text": [
            "['A', 'B', 'b', 'c', 'E', 'E', 'F']\n",
            "ingrese el elemento a eliminar: a\n",
            "['A', 'B', 'b', 'c', 'E', 'E', 'F']\n"
          ]
        }
      ]
    },
    {
      "cell_type": "code",
      "source": [
        "import pandas as pd\n",
        "data = pd.read_csv('clientes.csv',sep=';')\n",
        "dimensiones = data.shape\n",
        "print(f'la base de datos tiene {dimensiones[0]} filas y {dimensiones[1]} columnas')"
      ],
      "metadata": {
        "colab": {
          "base_uri": "https://localhost:8080/"
        },
        "id": "k2fzLxzqX7lw",
        "outputId": "959e0930-9ff4-4224-964e-6a3c1367b69c"
      },
      "execution_count": 105,
      "outputs": [
        {
          "output_type": "stream",
          "name": "stdout",
          "text": [
            "la base de datos tiene 8 filas y 5 columnas\n"
          ]
        }
      ]
    },
    {
      "cell_type": "code",
      "source": [
        "type(data)"
      ],
      "metadata": {
        "id": "pdjuwbOEbMbG",
        "outputId": "ca44eef0-f129-48e8-ef65-7ca20403269d",
        "colab": {
          "base_uri": "https://localhost:8080/",
          "height": 203
        }
      },
      "execution_count": 106,
      "outputs": [
        {
          "output_type": "execute_result",
          "data": {
            "text/plain": [
              "pandas.core.frame.DataFrame"
            ],
            "text/html": [
              "<div style=\"max-width:800px; border: 1px solid var(--colab-border-color);\"><style>\n",
              "      pre.function-repr-contents {\n",
              "        overflow-x: auto;\n",
              "        padding: 8px 12px;\n",
              "        max-height: 500px;\n",
              "      }\n",
              "\n",
              "      pre.function-repr-contents.function-repr-contents-collapsed {\n",
              "        cursor: pointer;\n",
              "        max-height: 100px;\n",
              "      }\n",
              "    </style>\n",
              "    <pre style=\"white-space: initial; background:\n",
              "         var(--colab-secondary-surface-color); padding: 8px 12px;\n",
              "         border-bottom: 1px solid var(--colab-border-color);\"><b>pandas.core.frame.DataFrame</b><br/>def __init__(data=None, index: Axes | None=None, columns: Axes | None=None, dtype: Dtype | None=None, copy: bool | None=None) -&gt; None</pre><pre class=\"function-repr-contents function-repr-contents-collapsed\" style=\"\"><a class=\"filepath\" style=\"display:none\" href=\"#\">/usr/local/lib/python3.12/dist-packages/pandas/core/frame.py</a>Two-dimensional, size-mutable, potentially heterogeneous tabular data.\n",
              "\n",
              "Data structure also contains labeled axes (rows and columns).\n",
              "Arithmetic operations align on both row and column labels. Can be\n",
              "thought of as a dict-like container for Series objects. The primary\n",
              "pandas data structure.\n",
              "\n",
              "Parameters\n",
              "----------\n",
              "data : ndarray (structured or homogeneous), Iterable, dict, or DataFrame\n",
              "    Dict can contain Series, arrays, constants, dataclass or list-like objects. If\n",
              "    data is a dict, column order follows insertion-order. If a dict contains Series\n",
              "    which have an index defined, it is aligned by its index. This alignment also\n",
              "    occurs if data is a Series or a DataFrame itself. Alignment is done on\n",
              "    Series/DataFrame inputs.\n",
              "\n",
              "    If data is a list of dicts, column order follows insertion-order.\n",
              "\n",
              "index : Index or array-like\n",
              "    Index to use for resulting frame. Will default to RangeIndex if\n",
              "    no indexing information part of input data and no index provided.\n",
              "columns : Index or array-like\n",
              "    Column labels to use for resulting frame when data does not have them,\n",
              "    defaulting to RangeIndex(0, 1, 2, ..., n). If data contains column labels,\n",
              "    will perform column selection instead.\n",
              "dtype : dtype, default None\n",
              "    Data type to force. Only a single dtype is allowed. If None, infer.\n",
              "copy : bool or None, default None\n",
              "    Copy data from inputs.\n",
              "    For dict data, the default of None behaves like ``copy=True``.  For DataFrame\n",
              "    or 2d ndarray input, the default of None behaves like ``copy=False``.\n",
              "    If data is a dict containing one or more Series (possibly of different dtypes),\n",
              "    ``copy=False`` will ensure that these inputs are not copied.\n",
              "\n",
              "    .. versionchanged:: 1.3.0\n",
              "\n",
              "See Also\n",
              "--------\n",
              "DataFrame.from_records : Constructor from tuples, also record arrays.\n",
              "DataFrame.from_dict : From dicts of Series, arrays, or dicts.\n",
              "read_csv : Read a comma-separated values (csv) file into DataFrame.\n",
              "read_table : Read general delimited file into DataFrame.\n",
              "read_clipboard : Read text from clipboard into DataFrame.\n",
              "\n",
              "Notes\n",
              "-----\n",
              "Please reference the :ref:`User Guide &lt;basics.dataframe&gt;` for more information.\n",
              "\n",
              "Examples\n",
              "--------\n",
              "Constructing DataFrame from a dictionary.\n",
              "\n",
              "&gt;&gt;&gt; d = {&#x27;col1&#x27;: [1, 2], &#x27;col2&#x27;: [3, 4]}\n",
              "&gt;&gt;&gt; df = pd.DataFrame(data=d)\n",
              "&gt;&gt;&gt; df\n",
              "   col1  col2\n",
              "0     1     3\n",
              "1     2     4\n",
              "\n",
              "Notice that the inferred dtype is int64.\n",
              "\n",
              "&gt;&gt;&gt; df.dtypes\n",
              "col1    int64\n",
              "col2    int64\n",
              "dtype: object\n",
              "\n",
              "To enforce a single dtype:\n",
              "\n",
              "&gt;&gt;&gt; df = pd.DataFrame(data=d, dtype=np.int8)\n",
              "&gt;&gt;&gt; df.dtypes\n",
              "col1    int8\n",
              "col2    int8\n",
              "dtype: object\n",
              "\n",
              "Constructing DataFrame from a dictionary including Series:\n",
              "\n",
              "&gt;&gt;&gt; d = {&#x27;col1&#x27;: [0, 1, 2, 3], &#x27;col2&#x27;: pd.Series([2, 3], index=[2, 3])}\n",
              "&gt;&gt;&gt; pd.DataFrame(data=d, index=[0, 1, 2, 3])\n",
              "   col1  col2\n",
              "0     0   NaN\n",
              "1     1   NaN\n",
              "2     2   2.0\n",
              "3     3   3.0\n",
              "\n",
              "Constructing DataFrame from numpy ndarray:\n",
              "\n",
              "&gt;&gt;&gt; df2 = pd.DataFrame(np.array([[1, 2, 3], [4, 5, 6], [7, 8, 9]]),\n",
              "...                    columns=[&#x27;a&#x27;, &#x27;b&#x27;, &#x27;c&#x27;])\n",
              "&gt;&gt;&gt; df2\n",
              "   a  b  c\n",
              "0  1  2  3\n",
              "1  4  5  6\n",
              "2  7  8  9\n",
              "\n",
              "Constructing DataFrame from a numpy ndarray that has labeled columns:\n",
              "\n",
              "&gt;&gt;&gt; data = np.array([(1, 2, 3), (4, 5, 6), (7, 8, 9)],\n",
              "...                 dtype=[(&quot;a&quot;, &quot;i4&quot;), (&quot;b&quot;, &quot;i4&quot;), (&quot;c&quot;, &quot;i4&quot;)])\n",
              "&gt;&gt;&gt; df3 = pd.DataFrame(data, columns=[&#x27;c&#x27;, &#x27;a&#x27;])\n",
              "...\n",
              "&gt;&gt;&gt; df3\n",
              "   c  a\n",
              "0  3  1\n",
              "1  6  4\n",
              "2  9  7\n",
              "\n",
              "Constructing DataFrame from dataclass:\n",
              "\n",
              "&gt;&gt;&gt; from dataclasses import make_dataclass\n",
              "&gt;&gt;&gt; Point = make_dataclass(&quot;Point&quot;, [(&quot;x&quot;, int), (&quot;y&quot;, int)])\n",
              "&gt;&gt;&gt; pd.DataFrame([Point(0, 0), Point(0, 3), Point(2, 3)])\n",
              "   x  y\n",
              "0  0  0\n",
              "1  0  3\n",
              "2  2  3\n",
              "\n",
              "Constructing DataFrame from Series/DataFrame:\n",
              "\n",
              "&gt;&gt;&gt; ser = pd.Series([1, 2, 3], index=[&quot;a&quot;, &quot;b&quot;, &quot;c&quot;])\n",
              "&gt;&gt;&gt; df = pd.DataFrame(data=ser, index=[&quot;a&quot;, &quot;c&quot;])\n",
              "&gt;&gt;&gt; df\n",
              "   0\n",
              "a  1\n",
              "c  3\n",
              "\n",
              "&gt;&gt;&gt; df1 = pd.DataFrame([1, 2, 3], index=[&quot;a&quot;, &quot;b&quot;, &quot;c&quot;], columns=[&quot;x&quot;])\n",
              "&gt;&gt;&gt; df2 = pd.DataFrame(data=df1, index=[&quot;a&quot;, &quot;c&quot;])\n",
              "&gt;&gt;&gt; df2\n",
              "   x\n",
              "a  1\n",
              "c  3</pre>\n",
              "      <script>\n",
              "      if (google.colab.kernel.accessAllowed && google.colab.files && google.colab.files.view) {\n",
              "        for (const element of document.querySelectorAll('.filepath')) {\n",
              "          element.style.display = 'block'\n",
              "          element.onclick = (event) => {\n",
              "            event.preventDefault();\n",
              "            event.stopPropagation();\n",
              "            google.colab.files.view(element.textContent, 509);\n",
              "          };\n",
              "        }\n",
              "      }\n",
              "      for (const element of document.querySelectorAll('.function-repr-contents')) {\n",
              "        element.onclick = (event) => {\n",
              "          event.preventDefault();\n",
              "          event.stopPropagation();\n",
              "          element.classList.toggle('function-repr-contents-collapsed');\n",
              "        };\n",
              "      }\n",
              "      </script>\n",
              "      </div>"
            ]
          },
          "metadata": {},
          "execution_count": 106
        }
      ]
    },
    {
      "cell_type": "code",
      "source": [
        "tupla_0 = ('ibk','bcp','bbva')\n",
        "print(tupla_0)"
      ],
      "metadata": {
        "id": "IKLSv5EQb60x",
        "outputId": "63f79c72-663e-46aa-8c50-0c1d94d65f09",
        "colab": {
          "base_uri": "https://localhost:8080/"
        }
      },
      "execution_count": 108,
      "outputs": [
        {
          "output_type": "stream",
          "name": "stdout",
          "text": [
            "('ibk', 'bcp', 'bbva')\n"
          ]
        }
      ]
    },
    {
      "cell_type": "code",
      "source": [
        "type(tupla_0)"
      ],
      "metadata": {
        "id": "uYYVM-d0cY66",
        "outputId": "64cb1db3-bc78-412f-9c47-c18aede7b0c6",
        "colab": {
          "base_uri": "https://localhost:8080/"
        }
      },
      "execution_count": 110,
      "outputs": [
        {
          "output_type": "execute_result",
          "data": {
            "text/plain": [
              "tuple"
            ]
          },
          "metadata": {},
          "execution_count": 110
        }
      ]
    },
    {
      "cell_type": "code",
      "source": [
        "equipos = ('universitario','alianza lima','sporting cristal','sport boys','juan aurich')\n",
        "#print(equipos)\n",
        "print(f'el 2do elemnto de la tupla es {equipos[1]}')\n",
        "equipos[1] = 'sporting cristal' # no soporta\n"
      ],
      "metadata": {
        "id": "1WcrGCERchX8",
        "outputId": "de852fef-9fc6-4b1f-b007-7c44c68e4136",
        "colab": {
          "base_uri": "https://localhost:8080/",
          "height": 193
        }
      },
      "execution_count": 117,
      "outputs": [
        {
          "output_type": "stream",
          "name": "stdout",
          "text": [
            "el 2do elemnto de la tupla es alianza lima\n"
          ]
        },
        {
          "output_type": "error",
          "ename": "TypeError",
          "evalue": "'tuple' object does not support item assignment",
          "traceback": [
            "\u001b[0;31m---------------------------------------------------------------------------\u001b[0m",
            "\u001b[0;31mTypeError\u001b[0m                                 Traceback (most recent call last)",
            "\u001b[0;32m/tmp/ipython-input-1302790146.py\u001b[0m in \u001b[0;36m<cell line: 0>\u001b[0;34m()\u001b[0m\n\u001b[1;32m      2\u001b[0m \u001b[0;31m#print(equipos)\u001b[0m\u001b[0;34m\u001b[0m\u001b[0;34m\u001b[0m\u001b[0m\n\u001b[1;32m      3\u001b[0m \u001b[0mprint\u001b[0m\u001b[0;34m(\u001b[0m\u001b[0;34mf'el 2do elemnto de la tupla es {equipos[1]}'\u001b[0m\u001b[0;34m)\u001b[0m\u001b[0;34m\u001b[0m\u001b[0;34m\u001b[0m\u001b[0m\n\u001b[0;32m----> 4\u001b[0;31m \u001b[0mequipos\u001b[0m\u001b[0;34m[\u001b[0m\u001b[0;36m1\u001b[0m\u001b[0;34m]\u001b[0m \u001b[0;34m=\u001b[0m \u001b[0;34m'sporting cristal'\u001b[0m \u001b[0;31m# no soporta\u001b[0m\u001b[0;34m\u001b[0m\u001b[0;34m\u001b[0m\u001b[0m\n\u001b[0m",
            "\u001b[0;31mTypeError\u001b[0m: 'tuple' object does not support item assignment"
          ]
        }
      ]
    },
    {
      "cell_type": "code",
      "source": [],
      "metadata": {
        "id": "Wo1u9TtYd2AN"
      },
      "execution_count": null,
      "outputs": []
    },
    {
      "cell_type": "code",
      "source": [],
      "metadata": {
        "id": "7X0rzfR-czpk"
      },
      "execution_count": null,
      "outputs": []
    },
    {
      "cell_type": "code",
      "source": [
        "#from google.colab import drive\n",
        "#drive.mount('/drive')"
      ],
      "metadata": {
        "id": "P4rlsdrWaDeq"
      },
      "execution_count": null,
      "outputs": []
    }
  ]
}